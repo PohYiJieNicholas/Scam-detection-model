{
 "cells": [
  {
   "cell_type": "code",
   "execution_count": 5,
   "metadata": {},
   "outputs": [],
   "source": [
    "from transformers import AutoTokenizer, AutoModelForSequenceClassification, GPT2ForSequenceClassification, GPT2Tokenizer\n",
    "import torch\n",
    "import time\n"
   ]
  },
  {
   "cell_type": "code",
   "execution_count": 6,
   "metadata": {},
   "outputs": [],
   "source": [
    "timing_dict={}\n",
    "prediction_dict = {}\n",
    "\n",
    "# Define the batch size\n",
    "batch_size = 32  # You can adjust this based on your system's memory capacity\n",
    "\n",
    "def prediction_timings(input, load_model):\n",
    " \n",
    "    device = torch.device('cuda' if torch.cuda.is_available() else 'cpu')\n",
    "\n",
    "    if load_model == 'tuned_gpt_model':\n",
    "        tokenizer = GPT2Tokenizer.from_pretrained('./models/'+load_model)\n",
    "        model = GPT2ForSequenceClassification.from_pretrained('./models/'+load_model)\n",
    "    else:\n",
    "        tokenizer = AutoTokenizer.from_pretrained('./models/'+load_model)\n",
    "        model = AutoModelForSequenceClassification.from_pretrained('./models/'+load_model)\n",
    "\n",
    "\n",
    "    start_time = time.time()\n",
    "    \n",
    "    # Tokenize the input data\n",
    "    inputs = tokenizer(input, return_tensors='pt', padding=True, truncation=True)\n",
    "\n",
    "    # Make predictions\n",
    "    with torch.no_grad():\n",
    "        outputs = model(**inputs)\n",
    "\n",
    "    # Get the predicted class\n",
    "    predictions = torch.argmax(outputs.logits, dim=-1)\n",
    "    # Map the predictions to 'normal' or 'fraud'\n",
    "    label_map = {1: 'normal', 0: 'fraud'}\n",
    "    predicted_labels = [label_map[pred.item()] for pred in predictions]\n",
    "\n",
    "    prediction_dict[load_model] = predicted_labels\n",
    "    end_time = time.time()\n",
    "    timing_dict[load_model] = end_time - start_time\n",
    "\n",
    "    return prediction_dict, timing_dict\n"
   ]
  },
  {
   "cell_type": "code",
   "execution_count": null,
   "metadata": {},
   "outputs": [],
   "source": [
    "def make_predictions(model,message):\n",
    "\n",
    "    # Convert summaries to a list\n",
    "    #      messages = df_test.message.tolist()\n",
    "\n",
    "    # Define the batch size\n",
    "    batch_size = 32  # You can adjust this based on your system's memory capacity\n",
    "\n",
    "    # Initialize an empty list to store the model outputs\n",
    "    all_outputs = []\n",
    "    device = torch.device('cuda' if torch.cuda.is_available() else 'cpu')\n",
    "\n",
    "    \n",
    "    tokenizer = AutoTokenizer.from_pretrained('./models/'+model)\n",
    "    model = AutoModelForSequenceClassification.from_pretrained('./models/'+model)\n",
    "\n",
    "    #   # Process the sentences in batches\n",
    "    #   for i in range(0, len(messages), batch_size):\n",
    "    # Get the batch of sentences\n",
    "    # batch_messages = messages[i:i + batch_size]\n",
    "\n",
    "    # Tokenize the batch\n",
    "    inputs = tokenizer(message, return_tensors=\"pt\", padding=True, truncation=True, max_length=512)\n",
    "\n",
    "    # Move tensors to the device where the model is (e.g., GPU or CPU)\n",
    "    inputs = {k: v.to('cuda' if torch.cuda.is_available() else 'cpu') for k, v in inputs.items()}\n",
    "\n",
    "    # Perform inference and store the logits\n",
    "    with torch.no_grad():\n",
    "        outputs = model(**inputs)\n",
    "        all_outputs.append(outputs['logits'])\n",
    "\n",
    "    final_outputs = torch.cat(all_outputs, dim=0)\n",
    "\n",
    "    outputs=final_outputs.argmax(axis=1).cpu().numpy()\n",
    "    \n",
    "    # Map the predictions to 'normal' or 'fraud'\n",
    "    label_map = {1: 'normal', 0: 'fraud'}\n",
    "    predicted_labels = [label_map[pred.item()] for pred in outputs]\n",
    "\n",
    "    return predicted_labels\n"
   ]
  },
  {
   "cell_type": "code",
   "execution_count": null,
   "metadata": {},
   "outputs": [],
   "source": [
    "print(prediction_timings(\"Hi John, this is John from the Fraud Prevention Department at your bank. We’ve detected some suspicious activity on your account and need to verify some information with you immediately.\", \"models/tuned_llama_model\"))"
   ]
  },
  {
   "cell_type": "code",
   "execution_count": 7,
   "metadata": {},
   "outputs": [
    {
     "name": "stdout",
     "output_type": "stream",
     "text": [
      "{'tuned_gpt_model': ['fraud']}\n"
     ]
    },
    {
     "name": "stderr",
     "output_type": "stream",
     "text": [
      "Special tokens have been added in the vocabulary, make sure the associated word embeddings are fine-tuned or trained.\n",
      "Loading checkpoint shards: 100%|██████████| 4/4 [01:08<00:00, 17.15s/it]\n",
      "Some weights of LlamaForSequenceClassification were not initialized from the model checkpoint at meta-llama/Meta-Llama-3-8B and are newly initialized: ['score.weight']\n",
      "You should probably TRAIN this model on a down-stream task to be able to use it for predictions and inference.\n",
      "Asking to truncate to max_length but no maximum length is provided and the model has no predefined maximum length. Default to no truncation.\n"
     ]
    },
    {
     "name": "stdout",
     "output_type": "stream",
     "text": [
      "{'tuned_gpt_model': ['fraud'], 'tuned_llama_model': ['fraud']}\n",
      "{'tuned_gpt_model': ['fraud'], 'tuned_llama_model': ['fraud'], 'tuned_bert_model': ['fraud']}\n",
      "{'tuned_gpt_model': ['fraud'], 'tuned_llama_model': ['fraud'], 'tuned_bert_model': ['fraud'], 'tuned_roberta_model': ['fraud']}\n",
      "{'tuned_gpt_model': ['fraud'], 'tuned_llama_model': ['fraud'], 'tuned_bert_model': ['fraud'], 'tuned_roberta_model': ['fraud'], 'tuned_distilbert_model': ['fraud']}\n",
      "{'tuned_gpt_model': 0.1622333526611328, 'tuned_llama_model': 108.24846482276917, 'tuned_bert_model': 0.09799957275390625, 'tuned_roberta_model': 0.06200051307678223, 'tuned_distilbert_model': 0.029999494552612305}\n"
     ]
    }
   ],
   "source": [
    "new_data = [\"Hi John, this is John from the Fraud Prevention Department at your bank. We’ve detected some suspicious activity on your account and need to verify some information with you immediately.\"]\n",
    "models = ['tuned_gpt_model','tuned_llama_model', 'tuned_bert_model', 'tuned_roberta_model', 'tuned_distilbert_model']\n",
    "\n",
    "for model in models:\n",
    "    predition, timings = prediction_timings(new_data, model)\n",
    "\n",
    "    \n",
    "print(predition)\n",
    "print(timings)\n"
   ]
  }
 ],
 "metadata": {
  "kernelspec": {
   "display_name": "Python 3",
   "language": "python",
   "name": "python3"
  },
  "language_info": {
   "codemirror_mode": {
    "name": "ipython",
    "version": 3
   },
   "file_extension": ".py",
   "mimetype": "text/x-python",
   "name": "python",
   "nbconvert_exporter": "python",
   "pygments_lexer": "ipython3",
   "version": "3.11.5"
  }
 },
 "nbformat": 4,
 "nbformat_minor": 2
}
