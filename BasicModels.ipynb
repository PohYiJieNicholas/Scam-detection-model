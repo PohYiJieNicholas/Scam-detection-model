{
 "cells": [
  {
   "cell_type": "markdown",
   "metadata": {},
   "source": [
    "# Import libraries"
   ]
  },
  {
   "cell_type": "code",
   "execution_count": 1,
   "metadata": {},
   "outputs": [],
   "source": [
    "import numpy as np\n",
    "import pandas as pd\n"
   ]
  },
  {
   "cell_type": "code",
   "execution_count": 6,
   "metadata": {},
   "outputs": [
    {
     "data": {
      "text/html": [
       "<div>\n",
       "<style scoped>\n",
       "    .dataframe tbody tr th:only-of-type {\n",
       "        vertical-align: middle;\n",
       "    }\n",
       "\n",
       "    .dataframe tbody tr th {\n",
       "        vertical-align: top;\n",
       "    }\n",
       "\n",
       "    .dataframe thead th {\n",
       "        text-align: right;\n",
       "    }\n",
       "</style>\n",
       "<table border=\"1\" class=\"dataframe\">\n",
       "  <thead>\n",
       "    <tr style=\"text-align: right;\">\n",
       "      <th></th>\n",
       "      <th>message</th>\n",
       "      <th>label</th>\n",
       "    </tr>\n",
       "  </thead>\n",
       "  <tbody>\n",
       "    <tr>\n",
       "      <th>0</th>\n",
       "      <td>Go until jurong point, crazy.. Available only ...</td>\n",
       "      <td>normal</td>\n",
       "    </tr>\n",
       "    <tr>\n",
       "      <th>1</th>\n",
       "      <td>Ok lar... Joking wif u oni...</td>\n",
       "      <td>normal</td>\n",
       "    </tr>\n",
       "    <tr>\n",
       "      <th>2</th>\n",
       "      <td>Free entry in 2 a wkly comp to win FA Cup fina...</td>\n",
       "      <td>fraud</td>\n",
       "    </tr>\n",
       "    <tr>\n",
       "      <th>3</th>\n",
       "      <td>U dun say so early hor... U c already then say...</td>\n",
       "      <td>normal</td>\n",
       "    </tr>\n",
       "    <tr>\n",
       "      <th>4</th>\n",
       "      <td>Nah I don't think he goes to usf, he lives aro...</td>\n",
       "      <td>normal</td>\n",
       "    </tr>\n",
       "  </tbody>\n",
       "</table>\n",
       "</div>"
      ],
      "text/plain": [
       "                                             message   label\n",
       "0  Go until jurong point, crazy.. Available only ...  normal\n",
       "1                      Ok lar... Joking wif u oni...  normal\n",
       "2  Free entry in 2 a wkly comp to win FA Cup fina...   fraud\n",
       "3  U dun say so early hor... U c already then say...  normal\n",
       "4  Nah I don't think he goes to usf, he lives aro...  normal"
      ]
     },
     "execution_count": 6,
     "metadata": {},
     "output_type": "execute_result"
    }
   ],
   "source": [
    "df = pd.read_csv('ScamDataset.csv', names=['message', 'label'])\n",
    "df.head()"
   ]
  },
  {
   "cell_type": "code",
   "execution_count": 5,
   "metadata": {},
   "outputs": [
    {
     "name": "stdout",
     "output_type": "stream",
     "text": [
      "Original shape:  (15241, 2)\n",
      "New shape:  (15241, 2)\n"
     ]
    }
   ],
   "source": [
    "# Orignial shape of the dataset\n",
    "original_shape = df.shape\n",
    "\n",
    "# Removing duplicate rows\n",
    "df = df.drop_duplicates()\n",
    "\n",
    "# Shape after removing duplicates\n",
    "new_shape = df.shape\n",
    "\n",
    "print('Original shape: ', original_shape)\n",
    "print('New shape: ', new_shape)\n"
   ]
  },
  {
   "cell_type": "code",
   "execution_count": 8,
   "metadata": {},
   "outputs": [
    {
     "name": "stdout",
     "output_type": "stream",
     "text": [
      "Number of fraud data: 9964\n",
      "Number of normal data: 10706\n"
     ]
    }
   ],
   "source": [
    "fraud_count = (df['label'] == \"fraud\").sum()\n",
    "normal_count = (df['label'] == \"normal\").sum()\n",
    "\n",
    "print(f'Number of fraud data: {fraud_count}')\n",
    "print(f'Number of normal data: {normal_count}')\n"
   ]
  },
  {
   "cell_type": "markdown",
   "metadata": {},
   "source": [
    "# Convert data to numeric value"
   ]
  },
  {
   "cell_type": "code",
   "execution_count": 10,
   "metadata": {},
   "outputs": [
    {
     "name": "stdout",
     "output_type": "stream",
     "text": [
      "[==================================================] 100.0% 66.0/66.0MB downloaded\n",
      "[-0.2759      0.81402004  0.04610002 -0.50317     0.937899    1.3808\n",
      " -0.50740004 -1.0578196  -0.484661    1.5489899   0.08316401  0.54614997\n",
      " -0.941637   -0.466698   -0.11306998 -0.522861   -0.631004    2.38768\n",
      " -0.27887097 -0.966923    0.85374     2.3962      0.12329677  0.90454\n",
      "  2.89215    -3.28347    -2.54121    -1.47894     2.3628592  -1.7038699\n",
      "  8.606       0.31065002 -1.4507301  -0.81043    -0.05301401  1.04329\n",
      "  0.13464     0.49548998  0.33791    -0.19331     1.1781629  -1.095178\n",
      " -1.30546     1.4215701   0.91578    -0.30494002  1.655304   -1.53288\n",
      " -0.30714     1.13859   ]\n"
     ]
    }
   ],
   "source": [
    "import gensim.downloader as api\n",
    "\n",
    "glove_vectors = api.load(\"glove-wiki-gigaword-50\")\n",
    "sentence = \"I love machine learning\"\n",
    "vector = sum(glove_vectors[word] for word in sentence.split() if word in glove_vectors)\n",
    "print(vector)"
   ]
  }
 ],
 "metadata": {
  "kernelspec": {
   "display_name": "Python 3",
   "language": "python",
   "name": "python3"
  },
  "language_info": {
   "codemirror_mode": {
    "name": "ipython",
    "version": 3
   },
   "file_extension": ".py",
   "mimetype": "text/x-python",
   "name": "python",
   "nbconvert_exporter": "python",
   "pygments_lexer": "ipython3",
   "version": "3.11.5"
  }
 },
 "nbformat": 4,
 "nbformat_minor": 2
}
