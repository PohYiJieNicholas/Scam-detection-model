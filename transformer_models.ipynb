{
 "cells": [
  {
   "cell_type": "markdown",
   "metadata": {},
   "source": [
    "# Imports"
   ]
  },
  {
   "cell_type": "code",
   "execution_count": 1,
   "metadata": {},
   "outputs": [
    {
     "name": "stderr",
     "output_type": "stream",
     "text": [
      "c:\\Users\\Potbottom\\AppData\\Local\\Programs\\Python\\Python312\\Lib\\site-packages\\tqdm\\auto.py:21: TqdmWarning: IProgress not found. Please update jupyter and ipywidgets. See https://ipywidgets.readthedocs.io/en/stable/user_install.html\n",
      "  from .autonotebook import tqdm as notebook_tqdm\n"
     ]
    }
   ],
   "source": [
    "import pandas as pd\n",
    "import numpy as np\n",
    "import torch\n",
    "import torch.nn.functional as F\n",
    "from transformers import TrainingArguments, Trainer, DataCollatorWithPadding, BitsAndBytesConfig\n",
    "from transformers import BertTokenizer, RobertaTokenizer, DistilBertTokenizer\n",
    "from transformers import BertForSequenceClassification, RobertaForSequenceClassification, DistilBertForSequenceClassification\n",
    "\n",
    "from sklearn.metrics import f1_score, confusion_matrix, classification_report, balanced_accuracy_score, accuracy_score, precision_score, recall_score, ConfusionMatrixDisplay\n",
    "\n",
    "from datasets import Dataset, DatasetDict\n",
    "from peft import LoraConfig, prepare_model_for_kbit_training, get_peft_model\n",
    "\n",
    "import matplotlib.pyplot as plt\n"
   ]
  },
  {
   "cell_type": "markdown",
   "metadata": {},
   "source": [
    "# Read dataset and remove duplicate"
   ]
  },
  {
   "cell_type": "code",
   "execution_count": 2,
   "metadata": {},
   "outputs": [
    {
     "data": {
      "text/plain": [
       "((20670, 2), (15241, 2))"
      ]
     },
     "execution_count": 2,
     "metadata": {},
     "output_type": "execute_result"
    }
   ],
   "source": [
    "data = pd.read_csv('ScamDataset.csv', delimiter=',', names=['message', 'label'])\n",
    "\n",
    "original_shape = data.shape\n",
    "\n",
    "# Removing duplicate rows\n",
    "data = data.drop_duplicates()\n",
    "\n",
    "# Shape after removing duplicates\n",
    "new_shape = data.shape\n",
    "\n",
    "original_shape, new_shape"
   ]
  },
  {
   "cell_type": "code",
   "execution_count": 3,
   "metadata": {},
   "outputs": [],
   "source": [
    "# Shuffle data to avoid any bias\n",
    "data = data.sample(frac=1).reset_index(drop=True)"
   ]
  },
  {
   "cell_type": "code",
   "execution_count": 4,
   "metadata": {},
   "outputs": [
    {
     "data": {
      "text/html": [
       "<div>\n",
       "<style scoped>\n",
       "    .dataframe tbody tr th:only-of-type {\n",
       "        vertical-align: middle;\n",
       "    }\n",
       "\n",
       "    .dataframe tbody tr th {\n",
       "        vertical-align: top;\n",
       "    }\n",
       "\n",
       "    .dataframe thead th {\n",
       "        text-align: right;\n",
       "    }\n",
       "</style>\n",
       "<table border=\"1\" class=\"dataframe\">\n",
       "  <thead>\n",
       "    <tr style=\"text-align: right;\">\n",
       "      <th></th>\n",
       "      <th>message</th>\n",
       "      <th>label</th>\n",
       "      <th>target</th>\n",
       "    </tr>\n",
       "  </thead>\n",
       "  <tbody>\n",
       "    <tr>\n",
       "      <th>0</th>\n",
       "      <td>Important notice: Your tax refund requires urg...</td>\n",
       "      <td>fraud</td>\n",
       "      <td>0</td>\n",
       "    </tr>\n",
       "    <tr>\n",
       "      <th>1</th>\n",
       "      <td>Huh so early.. Then you having dinner outside ...</td>\n",
       "      <td>normal</td>\n",
       "      <td>1</td>\n",
       "    </tr>\n",
       "    <tr>\n",
       "      <th>2</th>\n",
       "      <td>Important notice: Your account verification re...</td>\n",
       "      <td>fraud</td>\n",
       "      <td>0</td>\n",
       "    </tr>\n",
       "    <tr>\n",
       "      <th>3</th>\n",
       "      <td>Important notice: Your account verification re...</td>\n",
       "      <td>fraud</td>\n",
       "      <td>0</td>\n",
       "    </tr>\n",
       "    <tr>\n",
       "      <th>4</th>\n",
       "      <td>Omg it could snow here tonite!</td>\n",
       "      <td>normal</td>\n",
       "      <td>1</td>\n",
       "    </tr>\n",
       "    <tr>\n",
       "      <th>...</th>\n",
       "      <td>...</td>\n",
       "      <td>...</td>\n",
       "      <td>...</td>\n",
       "    </tr>\n",
       "    <tr>\n",
       "      <th>15236</th>\n",
       "      <td>Good afternoon, this is the front desk at The ...</td>\n",
       "      <td>normal</td>\n",
       "      <td>1</td>\n",
       "    </tr>\n",
       "    <tr>\n",
       "      <th>15237</th>\n",
       "      <td>Yar lor... How u noe? U used dat route too?</td>\n",
       "      <td>normal</td>\n",
       "      <td>1</td>\n",
       "    </tr>\n",
       "    <tr>\n",
       "      <th>15238</th>\n",
       "      <td>received this phone call from our department i...</td>\n",
       "      <td>fraud</td>\n",
       "      <td>0</td>\n",
       "    </tr>\n",
       "    <tr>\n",
       "      <th>15239</th>\n",
       "      <td>I am in bus on the way to calicut</td>\n",
       "      <td>normal</td>\n",
       "      <td>1</td>\n",
       "    </tr>\n",
       "    <tr>\n",
       "      <th>15240</th>\n",
       "      <td>Important notice: Your prize claim requires ur...</td>\n",
       "      <td>fraud</td>\n",
       "      <td>0</td>\n",
       "    </tr>\n",
       "  </tbody>\n",
       "</table>\n",
       "<p>15241 rows × 3 columns</p>\n",
       "</div>"
      ],
      "text/plain": [
       "                                                 message   label  target\n",
       "0      Important notice: Your tax refund requires urg...   fraud       0\n",
       "1      Huh so early.. Then you having dinner outside ...  normal       1\n",
       "2      Important notice: Your account verification re...   fraud       0\n",
       "3      Important notice: Your account verification re...   fraud       0\n",
       "4                         Omg it could snow here tonite!  normal       1\n",
       "...                                                  ...     ...     ...\n",
       "15236  Good afternoon, this is the front desk at The ...  normal       1\n",
       "15237        Yar lor... How u noe? U used dat route too?  normal       1\n",
       "15238  received this phone call from our department i...   fraud       0\n",
       "15239                  I am in bus on the way to calicut  normal       1\n",
       "15240  Important notice: Your prize claim requires ur...   fraud       0\n",
       "\n",
       "[15241 rows x 3 columns]"
      ]
     },
     "execution_count": 4,
     "metadata": {},
     "output_type": "execute_result"
    }
   ],
   "source": [
    "data['label'] = data['label'].astype('category')\n",
    "data['target'] = data['label'].cat.codes\n",
    "data\n"
   ]
  },
  {
   "cell_type": "code",
   "execution_count": 5,
   "metadata": {},
   "outputs": [
    {
     "data": {
      "text/plain": [
       "{0: 'fraud', 1: 'normal'}"
      ]
     },
     "execution_count": 5,
     "metadata": {},
     "output_type": "execute_result"
    }
   ],
   "source": [
    "# Decode\n",
    "data['label'].cat.categories\n",
    "category_map = {code: category for code, category in enumerate(data['label'].cat.categories)}\n",
    "category_map"
   ]
  },
  {
   "cell_type": "code",
   "execution_count": 6,
   "metadata": {},
   "outputs": [
    {
     "name": "stdout",
     "output_type": "stream",
     "text": [
      "(9144, 3) (3049, 3) (3048, 3)\n"
     ]
    }
   ],
   "source": [
    "train_end_point = int(data.shape[0]*0.6)\n",
    "val_end_point = int(data.shape[0]*0.8)\n",
    "df_train = data.iloc[:train_end_point,:]\n",
    "df_val = data.iloc[train_end_point:val_end_point,:]\n",
    "df_test = data.iloc[val_end_point:,:]\n",
    "print(df_train.shape, df_test.shape, df_val.shape)"
   ]
  },
  {
   "cell_type": "code",
   "execution_count": 7,
   "metadata": {},
   "outputs": [],
   "source": [
    "# Converting pandas DataFrames into Hugging Face Dataset objects:\n",
    "dataset_train = Dataset.from_pandas(df_train.drop('label',axis=1))\n",
    "dataset_val = Dataset.from_pandas(df_val.drop('label',axis=1))\n",
    "dataset_test = Dataset.from_pandas(df_test.drop('label',axis=1))"
   ]
  },
  {
   "cell_type": "code",
   "execution_count": 8,
   "metadata": {},
   "outputs": [],
   "source": [
    "# Shuffle the training dataset\n",
    "dataset_train_shuffled = dataset_train.shuffle(seed=42)  # Using a seed for reproducibility"
   ]
  },
  {
   "cell_type": "code",
   "execution_count": 9,
   "metadata": {},
   "outputs": [
    {
     "data": {
      "text/plain": [
       "DatasetDict({\n",
       "    train: Dataset({\n",
       "        features: ['message', 'target'],\n",
       "        num_rows: 9144\n",
       "    })\n",
       "    val: Dataset({\n",
       "        features: ['message', 'target'],\n",
       "        num_rows: 3048\n",
       "    })\n",
       "    test: Dataset({\n",
       "        features: ['message', 'target'],\n",
       "        num_rows: 3049\n",
       "    })\n",
       "})"
      ]
     },
     "execution_count": 9,
     "metadata": {},
     "output_type": "execute_result"
    }
   ],
   "source": [
    "# Combine them into a single DatasetDict\n",
    "dataset = DatasetDict({\n",
    "    'train': dataset_train_shuffled,\n",
    "    'val': dataset_val,\n",
    "    'test': dataset_test\n",
    "})\n",
    "dataset"
   ]
  },
  {
   "cell_type": "code",
   "execution_count": 10,
   "metadata": {},
   "outputs": [
    {
     "data": {
      "text/plain": [
       "Dataset({\n",
       "    features: ['message', 'target'],\n",
       "    num_rows: 9144\n",
       "})"
      ]
     },
     "execution_count": 10,
     "metadata": {},
     "output_type": "execute_result"
    }
   ],
   "source": [
    "dataset['train']"
   ]
  },
  {
   "cell_type": "code",
   "execution_count": 11,
   "metadata": {},
   "outputs": [
    {
     "data": {
      "text/plain": [
       "target\n",
       "0    0.550087\n",
       "1    0.449913\n",
       "Name: proportion, dtype: float64"
      ]
     },
     "execution_count": 11,
     "metadata": {},
     "output_type": "execute_result"
    }
   ],
   "source": [
    "df_train.target.value_counts(normalize=True)"
   ]
  },
  {
   "cell_type": "code",
   "execution_count": 12,
   "metadata": {},
   "outputs": [
    {
     "data": {
      "text/plain": [
       "tensor([0.4499, 0.5501])"
      ]
     },
     "execution_count": 12,
     "metadata": {},
     "output_type": "execute_result"
    }
   ],
   "source": [
    "class_weights=(1/df_train.target.value_counts(normalize=True).sort_index()).tolist()\n",
    "class_weights=torch.tensor(class_weights)\n",
    "class_weights=class_weights/class_weights.sum()\n",
    "class_weights\n"
   ]
  },
  {
   "cell_type": "code",
   "execution_count": 13,
   "metadata": {},
   "outputs": [],
   "source": [
    "quantization_config = BitsAndBytesConfig(\n",
    "    load_in_4bit = True, # enable 4-bit quantization\n",
    "    bnb_4bit_quant_type = 'nf4', # information theoretically optimal dtype for normally distributed weights\n",
    "    bnb_4bit_use_double_quant = True, # quantize quantized weights //insert xzibit meme\n",
    "    bnb_4bit_compute_dtype = torch.bfloat16 # optimized fp format for ML\n",
    ")"
   ]
  },
  {
   "cell_type": "code",
   "execution_count": 14,
   "metadata": {},
   "outputs": [],
   "source": [
    "lora_config = LoraConfig(\n",
    "    r = 16, # the dimension of the low-rank matrices\n",
    "    lora_alpha = 8, # scaling factor for LoRA activations vs pre-trained weight activations\n",
    "    target_modules = ['q_proj', 'k_proj', 'v_proj', 'o_proj'],\n",
    "    lora_dropout = 0.05, # dropout probability of the LoRA layers\n",
    "    bias = 'none', # wether to train bias weights, set to 'none' for attention layers\n",
    "    task_type = 'SEQ_CLS'\n",
    ")"
   ]
  },
  {
   "cell_type": "code",
   "execution_count": 15,
   "metadata": {},
   "outputs": [],
   "source": [
    "# Define function for training and evaluation\n",
    "def tokenizer_model(model_name):\n",
    "    print(f\"Training and evaluating {model_name}...\")\n",
    "    if model_name == 'bert':\n",
    "        tokenizer = BertTokenizer.from_pretrained('bert-base-uncased', add_prefix_space=True)\n",
    "        model = BertForSequenceClassification.from_pretrained('bert-base-uncased', num_labels=2)\n",
    "    elif model_name == 'roberta':\n",
    "        tokenizer = RobertaTokenizer.from_pretrained('roberta-base', add_prefix_space=True)\n",
    "        model = RobertaForSequenceClassification.from_pretrained('roberta-base', num_labels=2)\n",
    "    elif model_name == 'distilbert':\n",
    "        tokenizer = DistilBertTokenizer.from_pretrained('distilbert-base-uncased', add_prefix_space=True)\n",
    "        model = DistilBertForSequenceClassification.from_pretrained('distilbert-base-uncased', num_labels=2)\n",
    "   \n",
    "\n",
    "    else:\n",
    "        raise Exception(\"Model not supported\")\n",
    "    \n",
    "    model.config.use_cache = False\n",
    "    model.config.pretraining_tp = 1\n",
    "    model.to(torch.device(\"cuda\"))\n",
    "    \n",
    "    return tokenizer, model\n",
    "\n",
    "\n",
    "\n"
   ]
  },
  {
   "cell_type": "code",
   "execution_count": 16,
   "metadata": {},
   "outputs": [
    {
     "data": {
      "text/plain": [
       "['Important notice: Your prize claim requires urgent attention. Act as soon as possible to avoid issues. Ref: 1566',\n",
       " 'U definitely need a module from e humanities dis sem izzit? U wan 2 take other modules 1st?',\n",
       " \"Hi this is Officer Sarah Jones calling you from the legal department. The very second you read this message you need to leave your work aside so that we can discuss about your case and take necessary action. On this matter in order to connect press one and you will be connected to the concerned department. If we don't hear from you IT will be forced to take legal action against you. \",\n",
       " 'Important notice: Your account verification requires urgent attention. Act immediately to avoid issues. Ref: 9796',\n",
       " \"This is your reminder from KKH Women's and Children's Hospital about your appointment with Dr. Susan Lee on Monday at 10 AM in the maternity wing. Please bring your referral letter and any recent test results.\",\n",
       " 'Important notice: Your tax refund requires urgent attention. Act without delay to avoid issues. Ref: 2566',\n",
       " 'ARE YOU IN TOWN? THIS IS V. IMPORTANT',\n",
       " 'Height of \"Oh shit....!!\" situation: A guy throws a luv letter on a gal but falls on her brothers head whos a gay, ',\n",
       " 'No dice,  art class 6 thru 9 :( thanks though. Any idea what time I should come tomorrow?',\n",
       " 'You have been selected to stay in 1 of 250 top British hotels - FOR NOTHING! Holiday Worth £350! To Claim, Call London 02072069400. Bx 526, SW73SS',\n",
       " 'I am going aboard.',\n",
       " 'Important notice: Your account verification requires urgent attention. Act without delay to avoid issues. Ref: 2012',\n",
       " \"He goes for a walk at 6 O' clock daily in the morning.\",\n",
       " 'Important notice: Your tax refund requires urgent attention. Act without delay to avoid issues. Ref: 9799',\n",
       " 'Had your mobile 11mths ? Update for FREE to Oranges latest colour camera mobiles & unlimited weekend calls. Call Mobile Upd8 on freefone 08000839402 or 2StopTxt',\n",
       " \"Sad story of a Man - Last week was my b'day. My Wife did'nt wish me. My Parents forgot n so did my Kids . I went to work. Even my Colleagues did not wish.\",\n",
       " 'Important notice: Your account verification requires urgent attention. Act as soon as possible to avoid issues. Ref: 7972',\n",
       " 'Important notice: Your account verification requires urgent attention. Act as soon as possible to avoid issues. Ref: 9346',\n",
       " 'Important notice: Your tax refund requires urgent attention. Act as soon as possible to avoid issues. Ref: 9295',\n",
       " \"Erm … ill pick you up at about 6.45pm. That'll give enough time to get there, park and that.\",\n",
       " 'Save money on wedding lingerie at www.bridal.petticoatdreams.co.uk Choose from a superb selection with national delivery. Brought to you by WeddingFriend',\n",
       " 'Important notice: Your tax refund requires urgent attention. Act without delay to avoid issues. Ref: 8',\n",
       " 'U can WIN £100 of Music Gift Vouchers every week starting NOW Txt the word DRAW to 87066 TsCs www.Idew.com SkillGame, 1Winaweek, age16. 150ppermessSubscription',\n",
       " \"FR'NDSHIP is like a needle of a clock. Though V r in d same clock,  V r nt able 2 met. Evn if V meet,itz only 4few seconds. Bt V alwys stay conected. Gud 9t;-)\",\n",
       " 'Important notice: Your prize claim requires urgent attention. Act as soon as possible to avoid issues. Ref: 6129',\n",
       " 'Important notice: Your tax refund requires urgent attention. Act immediately to avoid issues. Ref: 2126',\n",
       " 'Finally it has happened..! Aftr decades..! BEER is now cheaper than PETROL! The goverment expects us to \"DRINK\". . . But don\\'t \"DRIVE \"',\n",
       " 'You are a winner U have been specially selected 2 receive £1000 cash or a 4* holiday (flights inc) speak to a live operator 2 claim 0871277810810',\n",
       " 'I think you should go the honesty road. Call the bank tomorrow. Its the tough decisions that make us great people.',\n",
       " 'Important notice: Your tax refund requires urgent attention. Act without delay to avoid issues. Ref: 7434',\n",
       " 'Oh great. I.ll disturb him more so that we can talk.',\n",
       " 'Important notice: Your prize claim requires urgent attention. Act as soon as possible to avoid issues. Ref: 354',\n",
       " 'Had your mobile 11 months or more? U R entitled to Update to the latest colour mobiles with camera for Free! Call The Mobile Update Co FREE on 08002986030',\n",
       " 'So dont use hook up any how',\n",
       " 'Important notice: Your tax refund requires urgent attention. Act without delay to avoid issues. Ref: 2555',\n",
       " 'due to non-payment. Immediate action is required to avoid disconnection today. For automatic payments and payment arrangements, press 1. To speak to a customer service representative, press 2. For Spanish, press 9. ',\n",
       " 'Ok good then i later come find ü... C lucky i told ü to go earlier... Later pple take finish ü no more again...',\n",
       " 'Important notice: Your prize claim requires urgent attention. Act immediately to avoid issues. Ref: 9024',\n",
       " 'Important notice: Your prize claim requires urgent attention. Act immediately to avoid issues. Ref: 277',\n",
       " \"K I'm ready,  &lt;#&gt; ?\",\n",
       " 'Beerage?',\n",
       " 'for an iPhone 11 Pro worth 999 dollars has been placed to be delivered in Bakersfield, California and further action is required for successful delivery of your product. If you did not place this order immediately call on our Amazon billing and fraud protection department by press 1 or call us at 2-1-3-6-0-0-7-5-7-9. Thank you. ',\n",
       " 'Important notice: Your tax refund requires urgent attention. Act without delay to avoid issues. Ref: 9427',\n",
       " 'Wot u up 2 u weirdo?',\n",
       " 'Geeeee ... Your internet is really bad today, eh ?',\n",
       " 'Important notice: Your tax refund requires urgent attention. Act immediately to avoid issues. Ref: 7461',\n",
       " \"Hi friend,  which is best way to avoid missunderstding with our beloved one's?\",\n",
       " 'order placed for Apple iPhone 11 Pro using your Amazon account. If you do not authorize this order, press 1 or press 2 to authorize this order. ',\n",
       " 'Going for dinner. msg you after.',\n",
       " 'Important notice: Your account verification requires urgent attention. Act as soon as possible to avoid issues. Ref: 1832',\n",
       " 'We are supposed to meet to discuss abt our trip... Thought xuhui told you? In the afternoon. Thought we can go for lesson after that',\n",
       " 'Important notice: Your tax refund requires urgent attention. Act without delay to avoid issues. Ref: 4595',\n",
       " 'Important notice: Your tax refund requires urgent attention. Act without delay to avoid issues. Ref: 4487',\n",
       " \"Ok,  i'm watching here.\",\n",
       " \"Hi, this is Lisa Williams with the Student Services Department. I'm following up regarding your Outstanding Federal Student Loan Balance. We have been trying to reach you because of the changes made for 2022, you're eligible for Federal Student Loan Forgiveness Programs. It is imperative that we speak with you as soon as possible since the Federal Student Loan payment delay is about to come to an end. You can reach us directly to discuss your options at 833-631-7908. Again, that's 833-631-7908. Thank you. \",\n",
       " 'Important notice: Your prize claim requires urgent attention. Act without delay to avoid issues. Ref: 4335',\n",
       " \"filed on your social security number for fraudulent activities. In order to connect federal agent press 1 and you will be connected to the concerned department. If we don't hear from you, your social will be blocked permanently. Press 1 and you will be connected to the concerned department. \",\n",
       " 'Important notice: Your account verification requires urgent attention. Act immediately to avoid issues. Ref: 3401',\n",
       " 'Important notice: Your tax refund requires urgent attention. Act without delay to avoid issues. Ref: 6293',\n",
       " 'Important notice: Your tax refund requires urgent attention. Act as soon as possible to avoid issues. Ref: 3999',\n",
       " 'Have you finished work yet? :)',\n",
       " 'And of course you should make a stink!',\n",
       " 'Oh ok..',\n",
       " 'Loosu go to hospital. De dont let it careless.',\n",
       " 'Important notice: Your tax refund requires urgent attention. Act without delay to avoid issues. Ref: 4179',\n",
       " 'YEH I AM DEF UP4 SOMETHING SAT,JUST GOT PAYED2DAY & I HAVBEEN GIVEN A£50 PAY RISE 4MY WORK & HAVEBEEN MADE PRESCHOOLCO-ORDINATOR 2I AM FEELINGOOD LUV',\n",
       " 'Hey. What happened? U switch off ur cell d whole day. This isnt good. Now if u do care, give me a call tomorrow.',\n",
       " \"call from our department is to inform you that there's a legal enforcement actions filed on your social security number for fraudulent activities. In order to connect federal agent press 1 and you will be connected to the concerned department. If we don't hear from you, your social will be blocked permanently. Press 1 and you will be connected to the concerned department. \",\n",
       " 'Important notice: Your prize claim requires urgent attention. Act as soon as possible to avoid issues. Ref: 3791',\n",
       " 'WINNER! As a valued network customer you hvae been selected to receive a £900 reward! To collect call 09061701444. Valid 24 hours only. ACL03530150PM',\n",
       " 'Important notice: Your prize claim requires urgent attention. Act without delay to avoid issues. Ref: 8252',\n",
       " 'In which place do you want da.',\n",
       " \"Thanx 4 e brownie it's v nice...\",\n",
       " 'We can study together to clear each other doubts. Also,  our parents will not be having any issues with this. So, let’s start it from tomorrow.',\n",
       " 'Really good:)dhanush rocks once again:)',\n",
       " 'Important notice: Your account verification requires urgent attention. Act as soon as possible to avoid issues. Ref: 8963',\n",
       " 'Important notice: Your prize claim requires urgent attention. Act without delay to avoid issues. Ref: 9614',\n",
       " 'Important notice: Your tax refund requires urgent attention. Act immediately to avoid issues. Ref: 7474',\n",
       " 'Ü got wat to buy tell us then ü no need to come in again.',\n",
       " 'Important notice: Your prize claim requires urgent attention. Act immediately to avoid issues. Ref: 1337',\n",
       " 'Important notice: Your tax refund requires urgent attention. Act as soon as possible to avoid issues. Ref: 6370',\n",
       " 'Spook up your mob with a Halloween collection of a logo & pic message plus a free eerie tone, txt CARD SPOOK to 8007 zed 08701417012150p per logo/pic',\n",
       " 'Hello, I am an artificial intelligent notification bot. The purpose of this call is to make you aware that a recent lawsuit settlement now requires the IRS to settle all old tax debt that any US residents currently have. This means you do not need to pay back your past due taxes as they are temporarily non-collectible and can be forced into a settlement on your behalf. Using our automated approval technology, you are now able to obtain enrollment information based on your current situation. Use our AI automation and find the program you are approved. ',\n",
       " 'I though we shd go out n have some fun so bar in town or something – sound ok?',\n",
       " 'Important notice: Your prize claim requires urgent attention. Act as soon as possible to avoid issues. Ref: 3399',\n",
       " 'Greetings, this is an automated message from the Disconnection Department of TECO Energy Electricity Company to inform you that you will be experiencing a disconnection of service today within 30 minutes due to non-payment on the account. Please press 1 to speak with a representative. Thank you. Greetings, this is an automated message from the Disconnection Department of TECO Energy Electricity Company to inform you that you will be experiencing a disconnection of service today within 30 minutes due to non-payment on the account. Please press 1 to speak with a representative. Thank you. ',\n",
       " 'Ya i knw u vl giv..its ok thanks kano..anyway enjoy wit ur family wit 1st salary..:-);-)',\n",
       " 'Really... I tot ur paper ended long ago... But wat u copied jus now got use? U happy lar... I still haf 2 study :-(',\n",
       " 'Hey, did you manage to fix that leak in the kitchen?',\n",
       " 'Important notice: Your account verification requires urgent attention. Act as soon as possible to avoid issues. Ref: 8024',\n",
       " 'Important notice: Your prize claim requires urgent attention. Act immediately to avoid issues. Ref: 4212',\n",
       " 'What is your record for one night? :)',\n",
       " 'ok....take care.umma to you too...',\n",
       " \"Aiyo... you always see our example one... I don't about me,  she haven reply... First time u reply so fast... Y so lucky not workin huh, got bao by ur sugardad ah...gee.. \",\n",
       " 'Hello, this is an important security alert from Singtel. Your mobile number has been linked to suspicious activities. Verify your account details immediately.',\n",
       " 'Important notice: Your prize claim requires urgent attention. Act without delay to avoid issues. Ref: 6153',\n",
       " 'I get out of class in bsn in like  &lt;#&gt;  minutes, you know where advising is?',\n",
       " 'Important notice: Your account verification requires urgent attention. Act immediately to avoid issues. Ref: 2819',\n",
       " 'Great escape. I fancy the bridge but needs her lager. See you tomo ',\n",
       " 'See? I thought it all through',\n",
       " 'Important notice: Your account verification requires urgent attention. Act without delay to avoid issues. Ref: 8839',\n",
       " 'Important notice: Your prize claim requires urgent attention. Act without delay to avoid issues. Ref: 5153',\n",
       " 'Important notice: Your tax refund requires urgent attention. Act immediately to avoid issues. Ref: 5129',\n",
       " \"(I should add that I don't really care and if you can't I can at least get this dude to fuck off but hey,  your money if you want it)\",\n",
       " 'Important notice: Your tax refund requires urgent attention. Act without delay to avoid issues. Ref: 4506',\n",
       " 'Can we’ve two sweet corn soups with some garlic bread and vegetable platter for starters?',\n",
       " \"Don know. I did't msg him recently.\",\n",
       " 'Have a good evening! Ttyl',\n",
       " 'Important notice: Your prize claim requires urgent attention. Act as soon as possible to avoid issues. Ref: 268',\n",
       " 'Are u coming to the funeral home',\n",
       " 'Important notice: Your prize claim requires urgent attention. Act immediately to avoid issues. Ref: 3262',\n",
       " \"I jus hope its true that  missin me cos i'm really missin him! You haven't done anything to feel guilty about, yet.\",\n",
       " '2 and half years i missed your friendship:-)',\n",
       " 'Important notice: Your tax refund requires urgent attention. Act without delay to avoid issues. Ref: 955',\n",
       " 'There is a discrepancy in your water bill this month. Please provide your PUB account number and the meter reading to adjust your bill and avoid overcharging.',\n",
       " 'Hey hun-onbus goin 2 meet him. He wants 2go out 4a meal but I donyt feel like it cuz have 2 get last bus home!But hes sweet latelyxxx',\n",
       " 'Important notice: Your tax refund requires urgent attention. Act as soon as possible to avoid issues. Ref: 2341',\n",
       " 'Important notice: Your account verification requires urgent attention. Act immediately to avoid issues. Ref: 9476',\n",
       " \"I'm home...\",\n",
       " 'Okie... Thanx...',\n",
       " 'Important notice: Your tax refund requires urgent attention. Act immediately to avoid issues. Ref: 7507',\n",
       " 'Important notice: Your account verification requires urgent attention. Act immediately to avoid issues. Ref: 7523',\n",
       " 'Important notice: Your prize claim requires urgent attention. Act without delay to avoid issues. Ref: 6613',\n",
       " \"Not yet had..ya sapna aunty manege y'day hogidhe..chinnu full weak and swalpa black agidhane..\",\n",
       " 'In sch but neva mind u eat 1st lor..',\n",
       " 'FREE>Ringtone! Reply REAL or POLY eg REAL1 1. PushButton 2. DontCha 3. BabyGoodbye 4. GoldDigger 5. WeBeBurnin 1st tone FREE and 6 more when u join for £3/wk',\n",
       " 'Your recent payment to StarHub has been flagged for verification. Please provide the payment ID and your StarHub account number to confirm the transaction and prevent any service disruptions.',\n",
       " 'Nice.nice.how is it working?',\n",
       " 'Do you have any plans for the 4th of July? We should do a barbecue or something!',\n",
       " 'They finally came to fix the ceiling.',\n",
       " \"I'm there and I can see you, but you can't see me ? Maybe you should reboot ym ? I seen the buzz\",\n",
       " 'Okay lor... Wah... like that def they wont let us go... Haha... What did they say in the terms and conditions?',\n",
       " 'Your online account with IKEA has shown unusual activity, including multiple password reset attempts. Please confirm your email and the last product you purchased to secure your account.',\n",
       " 'Important notice: Your prize claim requires urgent attention. Act immediately to avoid issues. Ref: 1475',\n",
       " 'Important notice: Your prize claim requires urgent attention. Act as soon as possible to avoid issues. Ref: 522',\n",
       " \"I'm really sorry i won't b able 2 do this friday.hope u can find an alternative.hope yr term's going ok:-)\",\n",
       " 'Important notice: Your tax refund requires urgent attention. Act immediately to avoid issues. Ref: 4684',\n",
       " 'Important notice: Your account verification requires urgent attention. Act as soon as possible to avoid issues. Ref: 5566',\n",
       " \"Yetunde,  i'm sorry but moji and i seem too busy to be able to go shopping. Can you just please find some other way to get what you wanted us to get. Please forgive me. You can reply free via yahoo messenger.\",\n",
       " 'Dear, regret i could not pick call.drove down from ctla now at cochin home.left mobile in car..ente style ishtamayoo?happy bakrid!',\n",
       " 'Important notice: Your tax refund requires urgent attention. Act as soon as possible to avoid issues. Ref: 5112',\n",
       " 'Hello darling how are you today? I would love to have a chat, why dont you tell me what you look like and what you are in to sexy?',\n",
       " 'As a SIM subscriber, you are selected to receive a Bonus! Get it delivered to your door, Txt the word OK to No: 88600 to claim. 150p/msg, EXP. 30Apr',\n",
       " 'you that your account has been qualified to get up to 50% discount on your monthly bills. To avail this discount press 1, and your call will get connected with our representative. ',\n",
       " 'Important notice: Your prize claim requires urgent attention. Act as soon as possible to avoid issues. Ref: 5978',\n",
       " \"Oh,  the grand is having a bit of a party but it doesn't mention any cover charge so it's probably first come first served\",\n",
       " \"Babe! I fucking love you too !! You know? Fuck it was so good to hear your voice. I so need that. I crave it. I can't get enough. I adore you,  Ahmad *kisses*\",\n",
       " \"Babe,  I'm back ... Come back to me ...\",\n",
       " 'Important notice: Your tax refund requires urgent attention. Act without delay to avoid issues. Ref: 5596',\n",
       " 'But mother we haven’t experienced it.',\n",
       " 'Your daily text from me – a favour this time',\n",
       " 'Important notice: Your prize claim requires urgent attention. Act immediately to avoid issues. Ref: 8433',\n",
       " 'complimentary 4 STAR Ibiza Holiday or £10,000 cash needs your URGENT collection. 09066364349 NOW from Landline not to lose out! Box434SK38WP150PPM18+',\n",
       " \"Ur balance is now £500. Ur next question is: Who sang 'Uptown Girl' in the 80's ? 2 answer txt ur ANSWER to 83600. Good luck!\",\n",
       " 'Important notice: Your account verification requires urgent attention. Act without delay to avoid issues. Ref: 9492',\n",
       " 'Haha yeah I see that now, be there in a sec',\n",
       " \"Do you want to join me for a cooking class? They're teaching how to make pasta from scratch!\",\n",
       " 'She is our sister.. She belongs 2 our family.. She is d hope of tomorrow.. Pray 4 her,who was fated 4 d Shoranur train incident. Lets hold our hands together &amp; fuelled by love &amp; concern prior 2 her grief &amp; pain. Pls join in dis chain &amp; pass it. STOP VIOLENCE AGAINST WOMEN.',\n",
       " 'Important notice: Your account verification requires urgent attention. Act without delay to avoid issues. Ref: 524',\n",
       " 'Important notice: Your prize claim requires urgent attention. Act without delay to avoid issues. Ref: 4465',\n",
       " \"How did you find out in a way that didn't include all of these details\",\n",
       " 'Important notice: Your prize claim requires urgent attention. Act without delay to avoid issues. Ref: 1554',\n",
       " 'Yup having my lunch buffet now.. U eat already?',\n",
       " \"It's not the same here. Still looking for a job. How much do you earn there.\",\n",
       " 'Important notice: Your tax refund requires urgent attention. Act immediately to avoid issues. Ref: 6848',\n",
       " 'Your recent transaction with NTUC FairPrice has been flagged for verification. Please provide your membership number and the last purchase date to confirm the transaction and secure your account.',\n",
       " 'Important notice: Your prize claim requires urgent attention. Act as soon as possible to avoid issues. Ref: 6437',\n",
       " 'Important notice: Your tax refund requires urgent attention. Act without delay to avoid issues. Ref: 8121',\n",
       " 'The house is on the water with a dock,  a boat rolled up with a newscaster who dabbles in jazz flute behind the wheel',\n",
       " 'I dun believe u. I thk u told him.',\n",
       " 'Important notice: Your account verification requires urgent attention. Act as soon as possible to avoid issues. Ref: 5936',\n",
       " 'As in i want custom officer discount oh.',\n",
       " 'Yes,  cancer. Smoking causes many other diseases. It also affects our lunge.',\n",
       " 'PRIVATE! Your 2003 Account Statement for shows 800 un-redeemed S.I.M. points. Call 08718738001 Identifier Code: 49557 Expires 26/11/04',\n",
       " \"Lol! Nah wasn't too bad thanks. Its good to b home but its been quite a reality check. Hows ur day been? Did u do anything with website?\",\n",
       " \"As per your request 'Maangalyam (Alaipayuthe)' has been set as your callertune for all Callers. Press *9 to copy your friends Callertune\",\n",
       " 'Important notice: Your prize claim requires urgent attention. Act as soon as possible to avoid issues. Ref: 4896',\n",
       " 'Thanks for choosing Amazon, this call is regarding your purchase of $999 for iPhone 13 Pro Max. If you not approve this transaction please press 1. If you approve this transaction please press 2. ',\n",
       " 'When you miss someone,  the person is definitely special for you. But if the person is so special, why to miss them, just Keep-in-touch good evening.',\n",
       " \"K,  my roommate also wants a dubsack and another friend may also want some so plan on bringing extra, I'll tell you when they know for sure\",\n",
       " 'Important notice: Your tax refund requires urgent attention. Act without delay to avoid issues. Ref: 5565',\n",
       " 'Important notice: Your account verification requires urgent attention. Act without delay to avoid issues. Ref: 754',\n",
       " 'Important notice: Your tax refund requires urgent attention. Act as soon as possible to avoid issues. Ref: 695',\n",
       " 'Your account has been suspended due to suspicious activity and we need you to verify your information, including your full name, address, and credit card details, to reactivate.',\n",
       " 'Nah man, my car is meant to be crammed full of people',\n",
       " \"I'm now but have to wait till 2 for the bus to pick me.\",\n",
       " 'Important notice: Your account verification requires urgent attention. Act without delay to avoid issues. Ref: 2058',\n",
       " 'Important notice: Your account verification requires urgent attention. Act immediately to avoid issues. Ref: 5755',\n",
       " 'Good night. Am going to sleep.',\n",
       " 'The whole car appreciated the last two! Dad and are having a map reading semi argument but apart from that things are going ok. P.',\n",
       " 'Important notice: Your account verification requires urgent attention. Act immediately to avoid issues. Ref: 4015',\n",
       " 'Important notice: Your tax refund requires urgent attention. Act without delay to avoid issues. Ref: 4956',\n",
       " 'Important notice: Your tax refund requires urgent attention. Act immediately to avoid issues. Ref: 2641',\n",
       " 'Important notice: Your tax refund requires urgent attention. Act without delay to avoid issues. Ref: 2160',\n",
       " 'Mobile Club: Choose any of the top quality items for your mobile. 7cfca1a',\n",
       " 'Important notice: Your prize claim requires urgent attention. Act immediately to avoid issues. Ref: 5185',\n",
       " 'Then its most likely called Mittelschmertz. Google it. If you dont have paracetamol dont worry it will go.',\n",
       " 'Important notice: Your account verification requires urgent attention. Act without delay to avoid issues. Ref: 6256',\n",
       " 'Yes,  In the beginning, I am going to bring 1000 car tires.',\n",
       " 'Important notice: Your account verification requires urgent attention. Act as soon as possible to avoid issues. Ref: 3960',\n",
       " 'our mobile number has won £5000, to claim calls us back or ring the claims hot line on 09050005321.',\n",
       " 'You’re right. __________(1)__________ My mother,  my father, my two older brothers, me, and my two younger sisters.',\n",
       " 'Gud mrng dear hav a nice day',\n",
       " 'This is the 2nd time we have tried 2 contact u. U have won the 750 Pound prize. 2 claim is easy,  call 08712101358 NOW! Only 10p per min. BT-national-rate',\n",
       " 'Sunshine Hols. To claim ur med holiday send a stamped self address envelope to Drinks on Us UK, PO Box 113, Bray, Wicklow, Eire. Quiz Starts Saturday! Unsub Stop',\n",
       " 'Important notice: Your tax refund requires urgent attention. Act without delay to avoid issues. Ref: 3732',\n",
       " \"That's one of the issues but california is okay. No snow so its manageable\",\n",
       " 'Important notice: Your prize claim requires urgent attention. Act immediately to avoid issues. Ref: 6918',\n",
       " \"Hi, this is an officer calling you from the legal department. The very second you receive this message you need to leave your work aside so that we can discuss about your case and take necessary action on this matter. In order to connect federal agent press 1 and you will be connected to the concerned department. If we don't hear from you, then we will be forced to take legal action against you. Press 1 and you will be connected to the concerned CBP officer. \",\n",
       " 'Oh ok no prob..',\n",
       " 'Important notice: Your account verification requires urgent attention. Act immediately to avoid issues. Ref: 8016',\n",
       " 'Important notice: Your account verification requires urgent attention. Act without delay to avoid issues. Ref: 2031',\n",
       " 'Ok... U enjoy ur shows...',\n",
       " 'My fri ah... Okie lor,goin 4 my drivin den go shoppin after tt...',\n",
       " 'your account before the next billing cycle. Congratulations on your excellent payment history. You now qualify for a 0% interest rate on all your credit card accounts. This is a limited time offer and you must respond immediately. Press 1 now to speak to our qualification department and complete the enrollment process. ',\n",
       " 'Important notice: Your prize claim requires urgent attention. Act as soon as possible to avoid issues. Ref: 8618',\n",
       " 'Some friends want me to drive em someplace, probably take a while',\n",
       " 'Important notice: Your prize claim requires urgent attention. Act as soon as possible to avoid issues. Ref: 131',\n",
       " 'I hav almost reached. Call,  i m unable to connect u.',\n",
       " 'Important notice: Your tax refund requires urgent attention. Act immediately to avoid issues. Ref: 6457',\n",
       " 'GENT! We are trying to contact you. Last weekends draw shows that you won a £1000 prize GUARANTEED. Call 09064012160. Claim Code K52. Valid 12hrs only. 150ppm',\n",
       " 'Important notice: Your prize claim requires urgent attention. Act as soon as possible to avoid issues. Ref: 291',\n",
       " 'How about a picnic this Saturday? I can bring sandwiches and salads.',\n",
       " 'Important notice: Your prize claim requires urgent attention. Act immediately to avoid issues. Ref: 676',\n",
       " 'Important notice: Your prize claim requires urgent attention. Act as soon as possible to avoid issues. Ref: 9410',\n",
       " 'Ranjith cal drpd Deeraj and deepak five min hold.',\n",
       " \"This is hoping you enjoyed your game yesterday. Sorry i've not been in touch but please know that you are fondly being those off. Have a great week. Abiola\",\n",
       " 'Been up to ne thing interesting. Did you have a good birthday? When are u wrking nxt? I started uni today.',\n",
       " 'Hey.. Something came up last min.. Think i wun be signing up tmr.. Hee',\n",
       " 'Important notice: Your prize claim requires urgent attention. Act without delay to avoid issues. Ref: 5951',\n",
       " \"How's it feel? Mr. Your not my real Valentine just my yo Valentine even tho u hardly play!!\",\n",
       " \"There's been a security problem with your account. Please provide your account details and password to resolve this issue.\",\n",
       " 'Important notice: Your tax refund requires urgent attention. Act as soon as possible to avoid issues. Ref: 285',\n",
       " 'This message is intended to contact you, regarding a legal enforcement action executed under your social security number for suspicious and fraudulent activities committed in the state of Texas. And we just suspended your social security number. Ignoring this will be an intentional second attempt, to avoid initial appearance before magistrate, judge, or grand jury for a federal criminal offense, this is the final attempt to reach you, so if you want to know about this case just press 1. ',\n",
       " 'some suspicious activities related to your social security number, we are forced to suspend your social security number with immediate effect. In case you feel this is an error, you may connect to the legal department of social security administration. In order to connect a social security administration officer, press 1. In case we did not hear from you, your social will be blocked permanently. To connect now, press 1 and you will be automatically connected to the concerned department. ',\n",
       " 'So lets make it saturday or monday as per convenience.',\n",
       " 'FREE entry into our £250 weekly comp just send the word ENTER to 84128 NOW. 18 T&C www.textcomp.com cust care 08712405020.',\n",
       " 'Jus finish blowing my hair. U finish dinner already?',\n",
       " 'What time do u get out?',\n",
       " 'Hello, this call is to inform you that a pre-authorized order has been placed on your name. To authorize the order or to talk to our representatives, please press 1 and stay on the line. Thank you. ',\n",
       " 'a disconnection of service today within 30 minutes due to non-payment on the account. Please press 1 to speak with a representative. Please press 1. Thank you. Greetings. This is an automated message from the Disconnection Department of Jersey Central Power and Light Electricity Company to inform you that you will be experiencing a disconnection of service today within 30 minutes due to non-payment on the account. Please press 1 to speak with a representative. Please press 1. Thank you. ',\n",
       " \"Aight I've been set free, think you could text me blake's address? It occurs to me I'm not quite as sure what I'm doing as I thought I was\",\n",
       " \"Very strange.  and  are watching the 2nd one now but i'm in bed. Sweet dreams, miss u \",\n",
       " 'Think + da. You wil do.',\n",
       " 'Important notice: Your account verification requires urgent attention. Act without delay to avoid issues. Ref: 2842',\n",
       " \"I'm done oredi...\",\n",
       " \"No messages on her phone. I'm holding it now\",\n",
       " 'Important notice: Your account verification requires urgent attention. Act as soon as possible to avoid issues. Ref: 7691',\n",
       " 'Important notice: Your account verification requires urgent attention. Act without delay to avoid issues. Ref: 7167',\n",
       " 'SMS SERVICES For your inclusive text credits pls gotto www.comuk.net login 3qxj9 unsubscribe with STOP no extra charge help 08702840625 comuk.220cm2 9AE',\n",
       " \"Hey i will be late... i'm at amk. Need to drink tea or coffee\",\n",
       " 'I am going shopping today with my mom and sister. What have you bought for yourself?',\n",
       " 'Important notice: Your account verification requires urgent attention. Act as soon as possible to avoid issues. Ref: 819',\n",
       " \"Sorry,  I'll call later In meeting.\",\n",
       " 'I am sorry it hurt you.',\n",
       " 'I enjoy watching and playing football and basketball. Anything outdoors. And you?',\n",
       " 'Thank you baby! I cant wait to taste the real thing...',\n",
       " \"Oh, yes, I've just been a little under the weather so i've kind of been coccooning at home\",\n",
       " 'Important notice: Your prize claim requires urgent attention. Act immediately to avoid issues. Ref: 2828',\n",
       " 'Important notice: Your account verification requires urgent attention. Act as soon as possible to avoid issues. Ref: 802',\n",
       " 'Important notice: Your prize claim requires urgent attention. Act without delay to avoid issues. Ref: 7980',\n",
       " 'No i am not having not any movies in my laptop',\n",
       " 'I didn’t think like you.',\n",
       " 'That’s huge. So have you decided what product you are going to bring?',\n",
       " \"Hello, I'm calling from a local Singaporean charity. We're raising funds for a new project and would love your support.\",\n",
       " 'Important notice: Your account verification requires urgent attention. Act as soon as possible to avoid issues. Ref: 5879',\n",
       " 'hello sir,  i am from jio customer care in 23 hours your sim will be deactivate. do u want to activate it.',\n",
       " 'Might ax well im there.',\n",
       " 'Yun ah.now ü wkg where?btw if ü go nus sc. Ü wana specialise in wad?',\n",
       " \"Remember to water the plants. I won't be back until next week.\",\n",
       " 'Important notice: Your account verification requires urgent attention. Act immediately to avoid issues. Ref: 8482',\n",
       " 'Ok. So april. Cant wait',\n",
       " 'Important notice: Your account verification requires urgent attention. Act immediately to avoid issues. Ref: 6621',\n",
       " 'I told that am coming on wednesday.',\n",
       " 'I see a cup of coffee animation',\n",
       " 'Just now i came to hme da..',\n",
       " \"How i noe... She's in da car now... Later then c lar... I'm wearing shorts...\",\n",
       " \"This is a call from the Sentosa Development Corporation. We're offering an early bird special for our new beachside villas. Would you like to book a weekend getaway and enjoy exclusive benefits?\",\n",
       " 'Important notice: Your prize claim requires urgent attention. Act as soon as possible to avoid issues. Ref: 5490',\n",
       " 'Yes.he have good crickiting mind',\n",
       " 'Yup ok...',\n",
       " 'Important notice: Your prize claim requires urgent attention. Act immediately to avoid issues. Ref: 7781',\n",
       " 'A pre-authorized purchase of an Apple MacBook Pro and an Apple AirPods is being ordered from your Amazon account for an amount of $1,537.35. To cancel your order or to connect with one of our customer support representatives, please press 1. ',\n",
       " 'Important notice: Your prize claim requires urgent attention. Act as soon as possible to avoid issues. Ref: 8619',\n",
       " 'Why did I wake up on my own &gt;:(',\n",
       " 'Alright take the book. ',\n",
       " 'Important notice: Your account verification requires urgent attention. Act without delay to avoid issues. Ref: 7065',\n",
       " 'Important notice: Your prize claim requires urgent attention. Act without delay to avoid issues. Ref: 3176',\n",
       " '中国领事馆提醒您,您有一份重要通知书,尚未领取,查询请按3。 中国领事馆提醒您,您有一份重要通知书,尚未领取,查询请按3。 ',\n",
       " 'What will I have to do to get a 4G SIM for the same number?',\n",
       " 'Did u find out what time the bus is at coz i need to sort some stuff out.',\n",
       " 'Important notice: Your account verification requires urgent attention. Act immediately to avoid issues. Ref: 875',\n",
       " 'Important notice: Your account verification requires urgent attention. Act as soon as possible to avoid issues. Ref: 6366',\n",
       " 'Certainly,  sir. Please look here, this one side of the box.',\n",
       " 'Important notice: Your tax refund requires urgent attention. Act immediately to avoid issues. Ref: 2863',\n",
       " 'Important notice: Your account verification requires urgent attention. Act without delay to avoid issues. Ref: 7379',\n",
       " 'Tunde, how are you doing. This is just wishing you a great day. Abiola.',\n",
       " 'Yes i think so. I am in office but my lap is in room i think thats on for the last few days. I didnt shut that down',\n",
       " 'Ok. I asked for money how far.',\n",
       " 'Er yeah, i will b there at 15:26, sorry! Just tell me which pub/cafe to sit in and come wen u can',\n",
       " \"Stop calling everyone saying I might have cancer. My throat hurts to talk. I can't be answering everyones calls. If I get one more call I'm not babysitting on Monday\",\n",
       " 'Important notice: Your tax refund requires urgent attention. Act as soon as possible to avoid issues. Ref: 1278',\n",
       " \"Yeah I'll try to scrounge something up\",\n",
       " 'Have you always been saying welp?',\n",
       " 'Important notice: Your tax refund requires urgent attention. Act as soon as possible to avoid issues. Ref: 8354',\n",
       " 'Today is ACCEPT DAY..U Accept me as? Brother Sister Lover Dear1 Best1 Clos1 Lvblefrnd Jstfrnd Cutefrnd Lifpartnr Belovd Swtheart Bstfrnd No rply means enemy',\n",
       " 'Important notice: Your prize claim requires urgent attention. Act without delay to avoid issues. Ref: 835',\n",
       " \"You are right though. I can't give you the space you want and need. This is really starting to become an issue. I was going to suggest setting a definite move out--if i'm still there-- after greece. But maybe you are ready and should do it now.\",\n",
       " 'Important notice: Your tax refund requires urgent attention. Act as soon as possible to avoid issues. Ref: 3150',\n",
       " \"Dear 0776xxxxxxx U've been invited to XCHAT. This is our final attempt to contact u! Txt CHAT to 86688 150p/MsgrcvdHG/Suite342/2Lands/Row/W1J6HL LDN 18yrs\",\n",
       " 'I see - Then you must have some bad habits. You seem to lead a sedentary life. Is it a fact?',\n",
       " 'Important notice: Your prize claim requires urgent attention. Act without delay to avoid issues. Ref: 5703',\n",
       " 'Hello, you have been selected for a free medical checkup by our healthcare department. Can you confirm your insurance ID and date of birth?',\n",
       " 'Good night....take...practice going on.',\n",
       " 'Guess what! Somebody you know secretly fancies you! Wanna find out who it is? Give us a call on 09065394973 from Landline DATEBox1282EssexCM61XN 150p/min 18',\n",
       " 'Watching telugu movie..wat abt u?',\n",
       " 'Important notice: Your tax refund requires urgent attention. Act as soon as possible to avoid issues. Ref: 6819',\n",
       " 'Important notice: Your tax refund requires urgent attention. Act as soon as possible to avoid issues. Ref: 4494',\n",
       " 'Important notice: Your account verification requires urgent attention. Act immediately to avoid issues. Ref: 7870',\n",
       " '* FREE* POLYPHONIC RINGTONE Text SUPER to 87131 to get your FREE POLY TONE of the week now! 16 SN PoBox202 NR31 7ZS subscription 450pw',\n",
       " 'Important notice: Your tax refund requires urgent attention. Act as soon as possible to avoid issues. Ref: 4481',\n",
       " 'We got a divorce. Lol. She.s here',\n",
       " \"I love you soo much you don'\\x92t understand how special you are to me ring you tomorrow love you.\",\n",
       " 'Important notice: Your prize claim requires urgent attention. Act immediately to avoid issues. Ref: 7211',\n",
       " 'Important notice: Your tax refund requires urgent attention. Act immediately to avoid issues. Ref: 9698',\n",
       " 'Hello.How u doing?What u been up 2?When will u b moving out of the flat,  cos I will need to arrange to pick up the lamp, etc. Take care. Hello caroline!',\n",
       " 'Meeting u is my work. . . Tel me when shall i do my work tomorrow',\n",
       " 'Its hard to believe things like this. All can say lie but think twice before saying anything to me.',\n",
       " \"Actually I decided I was too hungry so I haven't left yet :V\",\n",
       " \"Just come home. I don't want u to be miserable\",\n",
       " 'So what did the bank say about the money?',\n",
       " 'Important notice: Your tax refund requires urgent attention. Act immediately to avoid issues. Ref: 2764',\n",
       " 'Important notice: Your prize claim requires urgent attention. Act without delay to avoid issues. Ref: 1752',\n",
       " 'Important notice: Your prize claim requires urgent attention. Act immediately to avoid issues. Ref: 8028',\n",
       " \"Well if I'm that desperate I'll just call armand again\",\n",
       " 'K...k...when will you give treat?',\n",
       " \"Hello, my name is Officer James Miller. I am special agent assigned in our department. After two failed attempts, I am calling you for the last time. This call is in reference to a complaint filed against you and your identity by the legal department. In order to get more information, press 1 and your call will be connected with the case in charge officer. If we don't hear from you right now, we will be forced to take this matter legally and suspend your benefits permanently. Press 1 and you will be connected to the concerned department. By this call, you have been officially notified of your involvement in the case. \",\n",
       " 'Love you aathi..love u lot..',\n",
       " 'Your account has been compromised. Please provide your personal details, including your full name, address, and credit card information, to reactivate.',\n",
       " 'Important notice: Your prize claim requires urgent attention. Act without delay to avoid issues. Ref: 7869',\n",
       " 'Haha,  just what I was thinkin',\n",
       " \"Can ü call me at 10:10 to make sure dat i've woken up...\",\n",
       " 'Important notice: Your tax refund requires urgent attention. Act as soon as possible to avoid issues. Ref: 1930',\n",
       " 'Your account has a notification about your security. Please log in using your username and password to view it.',\n",
       " \"I'm hosting a barbecue next weekend. Hope you can make it!\",\n",
       " 'Yes,  it is under warranty. Can it be fixed without extra cost?',\n",
       " 'Important notice: Your account verification requires urgent attention. Act without delay to avoid issues. Ref: 2640',\n",
       " 'Important notice: Your account verification requires urgent attention. Act as soon as possible to avoid issues. Ref: 9730',\n",
       " 'You will recieve your tone within the next 24hrs. For Terms and conditions please see Channel U Teletext Pg 750',\n",
       " 'Important notice: Your account verification requires urgent attention. Act without delay to avoid issues. Ref: 6758',\n",
       " 'Important notice: Your prize claim requires urgent attention. Act without delay to avoid issues. Ref: 6293',\n",
       " 'Important notice: Your account verification requires urgent attention. Act without delay to avoid issues. Ref: 7763',\n",
       " \"We've detected a virus on your computer and need to install our software to remove it. Please provide your login credentials and we'll take care of the rest.\",\n",
       " 'Did u download the fring app?',\n",
       " 'Important notice: Your account verification requires urgent attention. Act as soon as possible to avoid issues. Ref: 7059',\n",
       " 'Ha ha you are gonna do skydiving? Ohhh please!',\n",
       " 'Sounds like something that someone testing me would sayy',\n",
       " \"Yeah there's barely enough room for the two of us, x has too many fucking shoes. Sorry man, see you later\",\n",
       " 'Miss ya,  need ya, want ya, love ya.',\n",
       " 'I dont know why she.s not getting your messages',\n",
       " 'Thanks for your ringtone order,  reference number X49. Your mobile will be charged 4.50. Should your tone not arrive please call customer services 09065989182. From: [colour=red]text[/colour]TXTstar',\n",
       " 'Important notice: Your account verification requires urgent attention. Act as soon as possible to avoid issues. Ref: 1914',\n",
       " \"Do you want to come over and watch the football game this Sunday? I'm planning to grill some burgers.\",\n",
       " 'Important notice: Your prize claim requires urgent attention. Act without delay to avoid issues. Ref: 2169',\n",
       " 'Your account needs a critical update. Please provide your password and account details to proceed.',\n",
       " \"You are always putting your business out there. You put pictures of your ass on facebook. You are one of the most open people i've ever met. Why would i think a picture of your room would hurt you, make you feel violated.\",\n",
       " 'Important notice: Your account verification requires urgent attention. Act without delay to avoid issues. Ref: 9261',\n",
       " 'So when are we going to see you on the big screen next.',\n",
       " 'Important notice: Your account verification requires urgent attention. Act without delay to avoid issues. Ref: 1049',\n",
       " 'Our dating service has been asked 2 contact U by someone shy! CALL 09058091870 NOW all will be revealed. POBox84, M26 3UZ 150p',\n",
       " 'Important notice: Your tax refund requires urgent attention. Act immediately to avoid issues. Ref: 3832',\n",
       " 'Fuuuuck I need to stop sleepin, sup',\n",
       " 'Important notice: Your prize claim requires urgent attention. Act as soon as possible to avoid issues. Ref: 1788',\n",
       " 'YO YO YO BYATCH WHASSUP?',\n",
       " 'Important notice: Your tax refund requires urgent attention. Act immediately to avoid issues. Ref: 9753',\n",
       " 'No objection. My boyfriend not coming.',\n",
       " 'Esplanade lor. Where else...',\n",
       " 'Important notice: Your prize claim requires urgent attention. Act as soon as possible to avoid issues. Ref: 8585',\n",
       " 'Tomarrow i want to got to court. At  &lt;DECIMAL&gt; . So you come to bus stand at 9.',\n",
       " 'Important notice: Your tax refund requires urgent attention. Act immediately to avoid issues. Ref: 6854',\n",
       " 'Except theres a chick with huge boobs.',\n",
       " 'Important notice: Your prize claim requires urgent attention. Act immediately to avoid issues. Ref: 4826',\n",
       " 'Important notice: Your account verification requires urgent attention. Act as soon as possible to avoid issues. Ref: 9058',\n",
       " 'Dear Voucher holder Have your next meal on us. Use the following link on your pc 2 enjoy a 2 4 1 dining experiencehttp://www.vouch4me.com/etlp/dining.asp',\n",
       " 'Important notice: Your account verification requires urgent attention. Act without delay to avoid issues. Ref: 6606',\n",
       " 'Your recent application was incomplete. Please provide your NRIC and address to finalize it.',\n",
       " 'HELLO PEACH! MY CAKE TASTS LUSH!',\n",
       " 'Important notice: Your prize claim requires urgent attention. Act immediately to avoid issues. Ref: 8461',\n",
       " 'Thankyou so much for the call. I appreciate your care.',\n",
       " 'Guy,  no flash me now. If you go call me, call me. How madam. Take care oh.',\n",
       " 'Important notice: Your tax refund requires urgent attention. Act immediately to avoid issues. Ref: 7869',\n",
       " 'Important notice: Your tax refund requires urgent attention. Act without delay to avoid issues. Ref: 8324',\n",
       " 'Important notice: Your account verification requires urgent attention. Act as soon as possible to avoid issues. Ref: 5208',\n",
       " 'Important notice: Your tax refund requires urgent attention. Act without delay to avoid issues. Ref: 7588',\n",
       " 'Important notice: Your prize claim requires urgent attention. Act without delay to avoid issues. Ref: 5872',\n",
       " 'Sir,  the MRP is INR 33,000. But we have a special discount and we are selling this for INR 29,000.',\n",
       " 'Important notice: Your account verification requires urgent attention. Act immediately to avoid issues. Ref: 3860',\n",
       " 'Please press 1 to speak with a representative. Thank you. Greetings. This is an automated message from the Disconnection Department of Oklahoma Gas and Electric, Electricity Company, to inform you that you will be experiencing a disconnection of service today within 30 minutes due to non-payment on the account. Please press 1 to speak with a representative. Thank you. ',\n",
       " 'We need to verify your information to complete your order. Please provide your NRIC and payment details.',\n",
       " 'Important notice: Your tax refund requires urgent attention. Act immediately to avoid issues. Ref: 5960',\n",
       " \"receive this message you need to leave your work aside, so that we can discuss about your case and take necessary action on this matter in order to connect. With Officer Press 1 and you will be connected to the concerned department. If we don't hear from you then we will be forced to take action against you. Press 1 and you will be connected to the concerned C, B, P officer, or press 9 to disconnect the call. Hi this is Officer calling you from the Customs and Border Protection. The very second you receive this message you need to leave your work aside, so that we can discuss about your case and take necessary action on this matter in order to connect. With Officer Press 1 and you will be connected to the concerned department. If we don't hear from you then we will be forced to take action against you. Press 1 and you will be connected to the concerned C, B, P officer, or press 9 to disconnect the call. \",\n",
       " 'You have WON a guaranteed £1000 cash or a £2000 prize. To claim yr prize call our customer service representative on 08714712394 between 10am-7pm',\n",
       " \"Hi, I'm calling from Singtel. We're offering a special promotion on our fibre broadband plans.\",\n",
       " \"No chikku nt yet.. Ya i'm free\",\n",
       " 'He said that he had a right giggle when he saw u again! You would possibly be the first person2die from NVQ,  but think how much you could for! ',\n",
       " 'Important notice: Your tax refund requires urgent attention. Act immediately to avoid issues. Ref: 1887',\n",
       " 'Hey cutie. How goes it? Here in WALES its kinda ok. There is like hills and shit but i still avent killed myself. ',\n",
       " \"For ur chance to win a £250 wkly shopping spree TXT: SHOP to 80878. T's&C's www.txt-2-shop.com custcare 08715705022,  1x150p/wk\",\n",
       " 'Important notice: Your prize claim requires urgent attention. Act immediately to avoid issues. Ref: 287',\n",
       " 'Hi, this is Daniel from Amazon customer service. We have seen a recent order number, AMZ0987, of iPhone 11 Pro on your account, which is billed on your card attached to your Amazon account. The amount charged in $1,499. We noticed some suspicious activity on your account. So we have put in hold to this transaction. Please press 1 now. And to report please press 2. Thank you. ',\n",
       " 'Important notice: Your tax refund requires urgent attention. Act immediately to avoid issues. Ref: 9464',\n",
       " '重要通知书,尚未领取,查询请按3。 中国领事馆提醒您, 您有一份重要通知书,尚未领取,查询请按3。 ',\n",
       " 'URGENT! We are trying to contact U Todays draw shows that you have won a £800 prize GUARANTEED. Call 09050000460 from land line. Claim J89. po box245c2150pm',\n",
       " 'Important notice: Your prize claim requires urgent attention. Act without delay to avoid issues. Ref: 1254',\n",
       " 'Good FRIENDS CaRE for each Other.. CLoSE Friends UNDERSTaND each Other... and TRUE Friends STaY forever beyond words, beyond time. Gud ni8',\n",
       " 'Important notice: Your prize claim requires urgent attention. Act without delay to avoid issues. Ref: 1267',\n",
       " 'Important notice: Your tax refund requires urgent attention. Act as soon as possible to avoid issues. Ref: 5236',\n",
       " 'Important notice: Your account verification requires urgent attention. Act as soon as possible to avoid issues. Ref: 5135',\n",
       " 'Important notice: Your account verification requires urgent attention. Act without delay to avoid issues. Ref: 8168',\n",
       " 'Important notice: Your account verification requires urgent attention. Act as soon as possible to avoid issues. Ref: 4331',\n",
       " 'Important notice: Your account verification requires urgent attention. Act immediately to avoid issues. Ref: 645',\n",
       " 'No, but you told me you were going, before you got drunk!',\n",
       " 'Important notice: Your prize claim requires urgent attention. Act immediately to avoid issues. Ref: 5292',\n",
       " 'O. Well uv causes mutations. Sunscreen is like essential thesedays',\n",
       " 'Lol ... I knew that .... I saw him in the dollar store',\n",
       " 'Important notice: Your tax refund requires urgent attention. Act without delay to avoid issues. Ref: 1625',\n",
       " 'Aww you must be nearly dead!Well Jez isComing over toDo some workAnd that whillTake forever!',\n",
       " 'Important notice: Your prize claim requires urgent attention. Act without delay to avoid issues. Ref: 8123',\n",
       " 'Somewhr someone is surely made 4 u. And God has decided a perfect time to make u meet dat person. . . . till den,  . . . . . Enjoy ur crushes..!!!;-)',\n",
       " 'We made it! Eta at taunton is 12:30 as planned, hope that‘s still okday?! Good to see you! :-xx',\n",
       " 'Important notice: Your tax refund requires urgent attention. Act immediately to avoid issues. Ref: 3630',\n",
       " 'Hey chief,  can you give me a bell when you get this. Need to talk to you about this royal visit on the 1st june. ',\n",
       " 'Important notice: Your tax refund requires urgent attention. Act as soon as possible to avoid issues. Ref: 4605',\n",
       " 'Hi did u decide wot 2 get 4 his bday if not ill prob jus get him a voucher frm virgin or sumfing ',\n",
       " 'Important notice: Your account verification requires urgent attention. Act as soon as possible to avoid issues. Ref: 5808',\n",
       " 'Important notice: Your prize claim requires urgent attention. Act as soon as possible to avoid issues. Ref: 2177',\n",
       " 'Lol no. U can trust me.',\n",
       " 'Important notice: Your tax refund requires urgent attention. Act immediately to avoid issues. Ref: 280',\n",
       " 'Important notice: Your tax refund requires urgent attention. Act as soon as possible to avoid issues. Ref: 8107',\n",
       " 'Important notice: Your prize claim requires urgent attention. Act without delay to avoid issues. Ref: 8513',\n",
       " \"Hi, I'm calling to follow up on your recent purchase at VivoCity and offer assistance with any issues you may be experiencing.\",\n",
       " 'Important notice: Your prize claim requires urgent attention. Act as soon as possible to avoid issues. Ref: 7313',\n",
       " 'I see. Well,  I’d be delighted to have you over and join the gathering.',\n",
       " 'Important notice: Your prize claim requires urgent attention. Act immediately to avoid issues. Ref: 4761',\n",
       " 'Save yourself the stress. If the person has a dorm account, just send your account details and the money will be sent to you.',\n",
       " 'Important notice: Your prize claim requires urgent attention. Act as soon as possible to avoid issues. Ref: 1930',\n",
       " 'Got it. Seventeen pounds for seven hundred ml – hope ok.',\n",
       " 'Squeeeeeze!! This is christmas hug.. If u lik my frndshp den hug me back.. If u get 3 u r cute:) 6 u r luvd:* 9 u r so lucky;) None? People hate u:',\n",
       " 'Important notice: Your prize claim requires urgent attention. Act immediately to avoid issues. Ref: 5952',\n",
       " \"OK,  text me when you're on the way\",\n",
       " 'My drive can only be read. I need to write',\n",
       " 'Important notice: Your tax refund requires urgent attention. Act immediately to avoid issues. Ref: 1985',\n",
       " 'Yup ok thanx...',\n",
       " 'So. So. I wish I had timed myself better. In the end,  I left questions worth 10 marks unattempted. How about you?',\n",
       " 'Important notice: Your tax refund requires urgent attention. Act immediately to avoid issues. Ref: 5709',\n",
       " 'Badrith is only for chennai:)i will surely pick for us:)no competition for him.',\n",
       " \"need to leave your work aside so that we can discuss about your case and take necessary action on this matter. In order to connect federal agent press 1 and you will be connected to the concerned department. If we don't hear from you, then we will be forced to take legal action against you. Press 1 and you will be connected to the concerned department. \",\n",
       " \"important information 4 orange user 0789xxxxxxx. today is your lucky day!2find out why log onto http://www.urawinner.com THERE'S A FANTASTIC SURPRISE AWAITING YOU!\",\n",
       " 'Free msg. Sorry, a service you ordered from 81303 could not be delivered as you do not have sufficient credit. Please top up to receive the service.',\n",
       " 'Important notice: Your prize claim requires urgent attention. Act without delay to avoid issues. Ref: 5419',\n",
       " 'Important notice: Your tax refund requires urgent attention. Act as soon as possible to avoid issues. Ref: 1304',\n",
       " 'Or ü go buy wif him then i meet ü later can?',\n",
       " 'Thank You meet you monday',\n",
       " 'Important notice: Your tax refund requires urgent attention. Act as soon as possible to avoid issues. Ref: 3764',\n",
       " 'Congratulations your awarded either £500 of CD gift vouchers & Free entry to our £100 weekly draw text MUSIC to 87066 ',\n",
       " 'Important notice: Your account verification requires urgent attention. Act immediately to avoid issues. Ref: 5958',\n",
       " 'Important notice: Your tax refund requires urgent attention. Act without delay to avoid issues. Ref: 8953',\n",
       " 'Important notice: Your account verification requires urgent attention. Act immediately to avoid issues. Ref: 4783',\n",
       " 'Hope you are having a great new semester. Do wish you the very best. You are made for greatness.',\n",
       " 'Also are you bringing galileo or dobby.',\n",
       " \"Hi, I'm calling to confirm your appointment with our team at Changi General Hospital.\",\n",
       " 'Thank you for choosing Marriott Hotels. We would like to inform you that your telephone number was qualified by our booking system to receive an all-inclusive complimentary stay. For further details, press one now. To be placed on the do not call list, press two now. ',\n",
       " 'Babe ? I lost you ... Will you try rebooting ?',\n",
       " 'Important notice: Your account verification requires urgent attention. Act immediately to avoid issues. Ref: 9712',\n",
       " 'Dude avatar 3d was imp. At one point i thought there were actually flies in the room and almost tried hittng one as a reflex',\n",
       " 'Is there coming friday is leave for pongal?do you get any news from your work place.',\n",
       " \"So how's scotland. Hope you are not over showing your JJC tendencies. Take care. Live the dream\",\n",
       " 'Important notice: Your tax refund requires urgent attention. Act immediately to avoid issues. Ref: 4536',\n",
       " 'Important notice: Your prize claim requires urgent attention. Act as soon as possible to avoid issues. Ref: 227',\n",
       " 'I cant pick the phone right now. Please and a message',\n",
       " \"Oh yeah clearly it's my fault\",\n",
       " 'Someone has contacted our dating service and entered your phone becausethey fancy you! To find out who it is call from a landline 09058098002. PoBox1,  W14RG 150p',\n",
       " 'Important notice: Your tax refund requires urgent attention. Act without delay to avoid issues. Ref: 3654',\n",
       " 'Important notice: Your account verification requires urgent attention. Act immediately to avoid issues. Ref: 6640',\n",
       " 'You are a winner U have been specially selected 2 receive £1000 or a 4* holiday (flights inc) speak to a live operator 2 claim 0871277810910p/min (18+) ',\n",
       " 'Important notice: Your account verification requires urgent attention. Act without delay to avoid issues. Ref: 7870',\n",
       " \"So when you get this message kindly press 1 to discuss with available officer. The reason you have received this phone call from our department is to inform you that there's a legal enforcement actions filed on your name for fraudulent activities. So when you get this message kindly press 1 to discuss with available officer. \",\n",
       " 'Y bishan lei... I tot ü say lavender? ',\n",
       " 'hello sir this is your allahabad bank manager. your kyc has been expired.so you have to kyc your self,  but due to covid setuation we are doing kyc online, pleae tell me your account detail.',\n",
       " 'Important notice: Your prize claim requires urgent attention. Act immediately to avoid issues. Ref: 3423',\n",
       " 'Important notice: Your prize claim requires urgent attention. Act as soon as possible to avoid issues. Ref: 4721',\n",
       " \"Hey! There's veggie pizza... :/\",\n",
       " 'So check your errors and if you had difficulties, do correction.',\n",
       " 'Ur cash-balance is currently 500 pounds - to maximize ur cash-in now send CASH to 86688 only 150p/msg. CC: 08718720201 PO BOX 114/14 TCR/W1',\n",
       " \"Hello. This is an important call from Amazon customer support. This is to notify you regarding your today's purchase on Amazon.com. You have been charged $1,279.99 on your default card saved on Amazon.com. If you have not made any such transaction, then please press 1 to cancel your order. Else if you have made this purchase on Amazon.com and recognize it, then please press 2 to confirm your order. Or to talk to our customer care, please press 3. To repeat this message, please press 4. Thank you. \",\n",
       " 'Important notice: Your prize claim requires urgent attention. Act without delay to avoid issues. Ref: 3395',\n",
       " \"Hi, this is Emma with the Processing Center. I was giving you a quick call because I am reviewing your student loan profile and as you know there have been some pretty big changes to the federal student loan programs recently. When you have a moment, give me a call back. I would like to discuss your possible options with you while the programs are still available. It's urgent that you return my call prior to when payments resume. If you could please call me at 866-758-1276 to complete your application and finalize your enrollment as soon as possible. Again, that's 866-758-1276. Please have your reference number ready. Your reference number is SL-367. I look forward to hearing from you soon and I hope you have a great day. \",\n",
       " 'You now qualify for 0% interest rate on all your credit card account. This is the limited time offer, and you must respond immediately. Press 1 now to speak to our qualification department and complete the enrollment process. ',\n",
       " '4 tacos + 1 rajas burrito,  right?',\n",
       " 'I have to take exam with in march 3',\n",
       " 'Important notice: Your prize claim requires urgent attention. Act without delay to avoid issues. Ref: 7752',\n",
       " 'Important notice: Your prize claim requires urgent attention. Act as soon as possible to avoid issues. Ref: 982',\n",
       " 'Important notice: Your tax refund requires urgent attention. Act as soon as possible to avoid issues. Ref: 1168',\n",
       " 'Lol yep did that yesterday. Already got my fireplace. Now its just another icon sitting there for me.',\n",
       " \"Well good morning mr . Hows london treatin' ya treacle?\",\n",
       " 'Im on gloucesterroad what are uup to later?',\n",
       " 'Important notice: Your account verification requires urgent attention. Act immediately to avoid issues. Ref: 3729',\n",
       " 'How many times i told in the stage all use to laugh. You not listen aha.',\n",
       " \"Hello. This is an important call from Amazon customer support. This is to notify you regarding your today's purchase on Amazon.com. You have been charged $1,279.99 on your default card saved on Amazon.com. If you have not made any such transaction, then please press 1 to cancel your order. Else if you have made this purchase on Amazon.com and recognize it, then please press 2 to confirm your order. Or to talk to our customer care please press 3. To repeat this message please press 4. Thank you. \",\n",
       " \"There's been a problem with your account. Please provide your account details and password to resolve this issue.\",\n",
       " 'DO NOT B LATE LOVE MUM',\n",
       " 'Sweetheart, hope you are not having that kind of day! Have one with loads of reasons to smile. Biola',\n",
       " 'Hack Chat. Get backdoor entry into 121 chat rooms at a fraction of the cost. Reply NEO69 or call 09050280520, to subscribe 25p pm. DPS, Bcm box 8027 Ldn, wc1n3xx',\n",
       " 'Important notice: Your tax refund requires urgent attention. Act as soon as possible to avoid issues. Ref: 3508',\n",
       " 'Important notice: Your prize claim requires urgent attention. Act as soon as possible to avoid issues. Ref: 1940',\n",
       " \"There generally isn't one. It's an uncountable noun - you in the dictionary. pieces of research?\",\n",
       " 'card which will be dispatched in the next 24 hours. If you have not made any such purchases or transactions, then kindly press 1 to speak Amazon customer service. Thank you. ',\n",
       " 'I hail from Chandigarh,  where my family lives.',\n",
       " 'Shall call now dear having food',\n",
       " 'security number has been used for some kind of fraudulent activities in the South border of Texas. So please in order go ahead, get more information to speak with officer press one, I repeat press one, thank you and have a great day. ',\n",
       " 'Dear 7977XXXX34,  WIN 1st Prize of Rs. 2 Lakhs! Create your team for IND vs ENG 1st ODI on Paytm First Games & Win Up to Rs. 10 Cr. Click m.paytm.me/fnpt T&C.',\n",
       " \"this is Susie calling with the Vehicle Service Department. We are calling about your vehicle's manufacturer's warranty. We sent you several notices in the mail that you have yet to extend your warranty past the factory cutoff and this is a courtesy call to renew your warranty before we close the file. If you are interested in renewing your auto warranty now, please press 5 now or press 9 to be removed from our list. Hi this is Susie calling \",\n",
       " 'Important notice: Your prize claim requires urgent attention. Act without delay to avoid issues. Ref: 3612',\n",
       " 'Important notice: Your tax refund requires urgent attention. Act without delay to avoid issues. Ref: 6686',\n",
       " 'URGENT! We are trying to contact you. Last weekends draw shows that you have won a £900 prize GUARANTEED. Call 09061701939. Claim code S89. Valid 12hrs only',\n",
       " 'Important notice: Your prize claim requires urgent attention. Act without delay to avoid issues. Ref: 2557',\n",
       " 'Important notice: Your tax refund requires urgent attention. Act without delay to avoid issues. Ref: 5863',\n",
       " '&lt;#&gt;  great loxahatchee xmas tree burning update: you can totally see stars here',\n",
       " 'Important notice: Your account verification requires urgent attention. Act immediately to avoid issues. Ref: 6939',\n",
       " 'I just got home babe, are you still awake ?',\n",
       " 'Prakesh is there know.',\n",
       " \"This is Susie calling with the Vehicle Service Department. We are calling about your vehicle's manufacturer's warranty. We sent you several notices in the mail that you have yet to extend your warranty past the factory cutoff. And this is a courtesy call to renew your warranty before we close the file. If you are interested in renewing your auto warranty now, please press five now or press nine to be removed from our list. \",\n",
       " \"So that we can discuss about your case and take necessary action on this matter in order to connect Investigation officer press one and you will be connected to the concerned department If we don't hear from you, then we will be forced to take legal action against you \",\n",
       " 'I havent lei.. Next mon can?',\n",
       " 'Important notice: Your prize claim requires urgent attention. Act without delay to avoid issues. Ref: 6669',\n",
       " \"I sent lanre fakeye's Eckankar details to the mail box\",\n",
       " 'I am on the way to ur home',\n",
       " 'idc get over here, you are not weaseling your way out of this shit twice in a row',\n",
       " 'Important notice: Your tax refund requires urgent attention. Act immediately to avoid issues. Ref: 6449',\n",
       " 'using your identity. The court has issued a suspension notice along with a warrant against your name. Ignoring this message will be an intentional second attempt to avoid initial appearance before a magistrate, judge or grand jury for a federal criminal offense. This is the final attempt to reach you. For more information, press 1 and hold for the next available officer. ',\n",
       " 'I noe la... U wana pei bf oso rite... K lor, other days den...',\n",
       " 'Important notice: Your account verification requires urgent attention. Act immediately to avoid issues. Ref: 2408',\n",
       " 'Important notice: Your tax refund requires urgent attention. Act without delay to avoid issues. Ref: 7983',\n",
       " \"There's been a security breach on your account. Please provide your password and account details to resolve this issue.\",\n",
       " 'Important notice: Your tax refund requires urgent attention. Act as soon as possible to avoid issues. Ref: 3726',\n",
       " 'I was wondering,  are you free this Saturday?220. Oh … I have a family gathering in the evening. Why, what did you have in mind?',\n",
       " 'Your credit card is eligible for a higher credit limit. Please provide your card details to upgrade your limit.',\n",
       " 'Hi, Alexa from Amazon Billing Support. We have noticed some suspicious activity on your Amazon account. Where an order for an iPhone 12 Pro worth $549 has been placed to be delivered in Bakersfield, California on further actions is required for successful delivery of your product. If you did not place this order, immediately call on our Amazon Billing and Fraud Protection Department by press 1. Thank you. ',\n",
       " 'You have an automatic utility outage within the next 30 to 45 minutes due to past due balance on your account. If you find this to be an error or would like to stop the interruption, please press 1 to speak with the billing department. Otherwise, please press 2 to speak with the disconnection department. Thank you for choosing our services. ',\n",
       " \"Good afternoon starshine! How's my boytoy? Does he crave me yet? Ache to fuck me ? *sips cappuccino* I miss you babe *teasing kiss*\",\n",
       " \"How are you doing. How's the queen. Are you going for the royal wedding\",\n",
       " 'Sir,  we gain just a small margin with the current MRP. But for that price, we would be selling it for a loss.',\n",
       " \"Night sweet,  sleep well! I've just been to see The Exorcism of Emily Rose and may never sleep again! Hugs and snogs! \",\n",
       " 'Important notice: Your prize claim requires urgent attention. Act without delay to avoid issues. Ref: 6509',\n",
       " 'Why you Dint come with us.',\n",
       " \"Also that chat was awesome but don't make it regular unless you can see her in person\",\n",
       " 'I have printed it oh. So  &lt;#&gt;  come upstairs',\n",
       " \"Alright if you're sure,  let me know when you're leaving\",\n",
       " 'Important notice: Your prize claim requires urgent attention. Act without delay to avoid issues. Ref: 5558',\n",
       " 'Important notice: Your prize claim requires urgent attention. Act immediately to avoid issues. Ref: 8999',\n",
       " 'We have noticed irregular activity on your credit card. To secure it, please confirm your card details.',\n",
       " 'on your credit card. Please press 1 to speak with a live operator and get the confirmation code. ',\n",
       " 'I never feel lonely because __________(4)_________ that live nearby. They are like my own brother and sister.',\n",
       " 'Important notice: Your prize claim requires urgent attention. Act as soon as possible to avoid issues. Ref: 1294',\n",
       " 'Important notice: Your tax refund requires urgent attention. Act without delay to avoid issues. Ref: 3972',\n",
       " \"Hey, just checking in. How's everything with you?\",\n",
       " \"There's been a security problem with your account. Please provide your password and account details to resolve this issue.\",\n",
       " 'Get 3 Lions England tone, reply lionm 4 mono or lionp 4 poly. 4 more go 2 www.ringtones.co.uk, the original n best. Tones 3GBP network operator rates apply.',\n",
       " 'Important notice: Your tax refund requires urgent attention. Act without delay to avoid issues. Ref: 9269',\n",
       " 'Hello darling how are you today? I would love to have a chat,  why dont you tell me what you look like and what you are in to sexy?',\n",
       " 'Important notice: Your account verification requires urgent attention. Act as soon as possible to avoid issues. Ref: 9924',\n",
       " 'This motherboard costs INR 17,  000. But we will give it to you for INR 15,800.',\n",
       " 'Important notice: Your prize claim requires urgent attention. Act immediately to avoid issues. Ref: 6286',\n",
       " \"I'm sorry. I've joined the league of people that dont keep in touch. You mean a great deal to me. You have been a friend at all times even at great personal cost. Do have a great week.\",\n",
       " 'Mm yes dear look how i am hugging you both. :-P',\n",
       " 'Pls go ahead with watts. I just wanted to be sure. Do have a great weekend. ',\n",
       " 'Important notice: Your account verification requires urgent attention. Act as soon as possible to avoid issues. Ref: 1123',\n",
       " 'I showed him which button to press.',\n",
       " \"Sounds like a plan! Cardiff is still here and still cold! I'm sitting on the radiator!\",\n",
       " 'SMS SERVICES. for your inclusive text credits,  pls goto www.comuk.net login= ***** unsubscribe with STOP. no extra charge. ',\n",
       " 'Important notice: Your prize claim requires urgent attention. Act immediately to avoid issues. Ref: 5568',\n",
       " 'Important notice: Your account verification requires urgent attention. Act as soon as possible to avoid issues. Ref: 9196',\n",
       " 'A guy who gets used but is too dumb to realize it.',\n",
       " 'Important notice: Your prize claim requires urgent attention. Act without delay to avoid issues. Ref: 540',\n",
       " \"Let's go biking in the countryside this weekend. The weather is supposed to be great.\",\n",
       " 'It will get released in December.',\n",
       " 'AH POOR BABY!HOPE URFEELING BETTERSN LUV! PROBTHAT OVERDOSE OF WORK HEY GO CAREFUL SPeaK to you LOTS OF LOVEJEN XXX.',\n",
       " 'You have come into my life and brought the sun ..Shiny down on me, warming my heart. Putting a constant smile on my face ... Making me feel loved and cared for',\n",
       " \"Hi hope you get this text~journey hasn't been good, now about 50 mins late I think.\",\n",
       " 'Sorry chikku,  my cell got some problem thts y i was nt able to reply u or msg u..',\n",
       " \"Yet understand i'm in class can you not run water on it to make it ok. Please now.\",\n",
       " 'Important notice: Your prize claim requires urgent attention. Act as soon as possible to avoid issues. Ref: 2336',\n",
       " 'Important notice: Your account verification requires urgent attention. Act as soon as possible to avoid issues. Ref: 7622',\n",
       " 'Your email address linked to PayPal has been changed. If you did not authorize this change, please provide your original email and PayPal password to revert the change and secure your account.',\n",
       " 'Important notice: Your account verification requires urgent attention. Act without delay to avoid issues. Ref: 297',\n",
       " 'Your account has a resolution with your security. Please log in using your username and password to read it.',\n",
       " 'Dunno lei shd b driving lor cos i go sch 1 hr oni.',\n",
       " 'FREE camera phones with linerental from 4.49/month with 750 cross ntwk mins. 1/2 price txt bundle deals also avble. Call 08001950382 or call2optout/J MF',\n",
       " 'Your recent order with NTUC FairPrice has been paused due to a mismatch in billing details. Please provide your order ID and the card number used to resolve this issue and complete your order.',\n",
       " 'Tell where you reached.',\n",
       " 'Important notice: Your account verification requires urgent attention. Act immediately to avoid issues. Ref: 3558',\n",
       " 'Get down in gandhipuram and walk to cross cut road. Right side &lt;#&gt; street road and turn at first right.',\n",
       " 'I wonder if your phone battery went dead ? I had to tell you,  I love you babe',\n",
       " \"Realy sorry-i don't recognise this number and am now confused :) who are you please?! \",\n",
       " 'U having lunch alone? I now so bored...',\n",
       " 'Goodmorning,  today i am late for 2hrs. Because of back pain.',\n",
       " \"Carlos'll be here in a minute if you still need to buy\",\n",
       " 'God picked up a flower and dippeditinaDEW, lovingly touched itwhichturnedinto u, and the he gifted tomeandsaid,THIS FRIEND IS 4U',\n",
       " 'Important notice: Your tax refund requires urgent attention. Act without delay to avoid issues. Ref: 607',\n",
       " \"I re-met alex nichols from middle school and it turns out he's dealing!\",\n",
       " 'Erutupalam thandiyachu',\n",
       " 'Important notice: Your tax refund requires urgent attention. Act immediately to avoid issues. Ref: 3650',\n",
       " 'TaKe CaRE n gET WeLL sOOn',\n",
       " 'Important notice: Your tax refund requires urgent attention. Act without delay to avoid issues. Ref: 9731',\n",
       " \"And he goes on speaking some nonsense about insulation,  bandwidth and submarines. I couldn't control my laughter, so I hang up.\",\n",
       " 'You have a tax refund waiting to be claimed. Please provide your bank details and NRIC number to process the refund.',\n",
       " 'Yeah probably,  I still gotta check out with leo',\n",
       " 'Important notice: Your prize claim requires urgent attention. Act immediately to avoid issues. Ref: 7709',\n",
       " 'is your hamster dead? Hey so tommaro i meet you at 1pm orchard mrt? ',\n",
       " 'Important notice: Your prize claim requires urgent attention. Act as soon as possible to avoid issues. Ref: 9999',\n",
       " 'Can you get picture message to your phone?',\n",
       " 'Txt: CALL to No: 86888 & claim your reward of 3 hours talk time to use from your phone now! Subscribe6GBP/mnth inc 3hrs 16 stop?txtStop www.gamb.tv',\n",
       " \"Any chance you might have had with me evaporated as soon as you violated my privacy by stealing my phone number from your employer's paperwork. Not cool at all. Please do not contact me again or I will report you to your supervisor.\",\n",
       " 'Important notice: Your prize claim requires urgent attention. Act as soon as possible to avoid issues. Ref: 9049',\n",
       " 'Important notice: Your account verification requires urgent attention. Act without delay to avoid issues. Ref: 5258',\n",
       " 'How are you doing today? Glad to hear that. Well, DirecTV is offering 50% discount to all of its existing customers. Do you have a moment to speak so I can go ahead and apply the discounts on your account? ',\n",
       " 'Alright,  see you in a bit',\n",
       " \"Do you ever notice that when you're driving,  anyone going slower than you is an idiot and everyone driving faster than you is a maniac?\",\n",
       " 'You need to pay attention to your clothing. Be formally dressed,  even if a company says that it has a very flexible and free culture. It show a sense of professionalism from you.',\n",
       " 'Awesome, be there in a minute',\n",
       " 'Important notice: Your prize claim requires urgent attention. Act as soon as possible to avoid issues. Ref: 5046',\n",
       " 'I am thinking of going down to reg for pract lessons.. Flung my advance.. Haha wat time u going?',\n",
       " 'Social Security Administration to inform you that due to some suspicious activities related to your social security number, we are forced to suspend your social security number with immediate effect. In case you feel this is an error, you may connect to the legal department of Social Security Administration. In order to connect a Social Security Administration officer, press 1. In case we did not hear from you, your social will be blocked permanently. To connect now, press 1, and you will be automatically connected to the concerned department. ',\n",
       " 'Important notice: Your account verification requires urgent attention. Act as soon as possible to avoid issues. Ref: 4959',\n",
       " 'Important notice: Your account verification requires urgent attention. Act without delay to avoid issues. Ref: 8496',\n",
       " 'Important notice: Your tax refund requires urgent attention. Act as soon as possible to avoid issues. Ref: 846',\n",
       " 'Important notice: Your account verification requires urgent attention. Act without delay to avoid issues. Ref: 3968',\n",
       " \"Aah bless! How's your arm?\",\n",
       " 'Important notice: Your tax refund requires urgent attention. Act as soon as possible to avoid issues. Ref: 8058',\n",
       " 'Well,  fortunately, I really like that topic. I think we can study together with the whole concept mentioned as per syllabus. You may come to my house after school to study.  I can even give you some tips to remember the formulas based on this topic.',\n",
       " 'hii, ',\n",
       " 'Serious? What like proper tongued her',\n",
       " 'Important notice: Your account verification requires urgent attention. Act immediately to avoid issues. Ref: 9158',\n",
       " 'We just only have science and fiction books and languages books.287. Rs 430 Sir. I have given you 5% discount.',\n",
       " 'Important notice: Your tax refund requires urgent attention. Act without delay to avoid issues. Ref: 214',\n",
       " 'amount of $2,798 to cancel your order, or to connect with one of our customer support representatives, please press 1. ',\n",
       " 'oK,  wait chikku will send after  &lt;#&gt; mins',\n",
       " 'twenty past five he said will this train have been to durnormal already or not coz i am in a reserved seat',\n",
       " 'The house is on the water with a dock, a boat rolled up with a newscaster who dabbles in jazz flute behind the wheel',\n",
       " 'Important notice: Your account verification requires urgent attention. Act as soon as possible to avoid issues. Ref: 9044',\n",
       " \"Well you told others you'd marry them...\",\n",
       " \"Yup. Izzit still raining heavily cos i'm in e mrt i can't c outside.\",\n",
       " 'Important notice: Your account verification requires urgent attention. Act without delay to avoid issues. Ref: 6195',\n",
       " \"hey, looks like I was wrong and one of the kappa guys numbers is still on my phone, if you want I can text him and see if he's around\",\n",
       " \"you need to leave your work aside and press one talk to an agent so that we can discuss about your case and take necessary action on this matter if we don't hear from you then we will be forced to take legal action against you so kindly press one thank you \",\n",
       " 'an order placed for Apple iPhone 11 Pro using your Amazon account. If you do not authorize this order, press 1 for or press 2 to authorize this order. ',\n",
       " \"Hello, you have been contacted by the cancellation department regarding a purchase on your account for MacBook Pro and AirPods. We would like to inform you that this order has been placed from your account. If you don't authorize this order then press 1 to speak to our representative. \",\n",
       " 'Important notice: Your prize claim requires urgent attention. Act immediately to avoid issues. Ref: 6456',\n",
       " 'Are you saying Mr. Ramesh,  you have checked your message box whether you have received a coupon of ₹ 500000.',\n",
       " \"Hmm...my uncle just informed me that he's paying the school directly. So pls buy food.\",\n",
       " 'Hi kindly give us back our documents which we submitted for loan from STAPATI',\n",
       " 'Can ü all decide faster cos my sis going home liao..',\n",
       " 'We are pleased to inform that your application for Airtel Broadband is processed successfully. Your installation will happen within 3 days.',\n",
       " 'Orange brings you ringtones from all time Chart Heroes, with a free hit each week! Go to Ringtones & Pics on wap. To stop receiving these tips reply STOP.',\n",
       " 'I love you. You set my soul on fire. It is not just a spark. But it is a flame. A big rawring flame. XoXo',\n",
       " 'Important notice: Your prize claim requires urgent attention. Act immediately to avoid issues. Ref: 7528',\n",
       " 'Important notice: Your tax refund requires urgent attention. Act without delay to avoid issues. Ref: 9879',\n",
       " 'Important notice: Your prize claim requires urgent attention. Act immediately to avoid issues. Ref: 917',\n",
       " 'Even if he my friend he is a priest call him now',\n",
       " 'I dont have that much image in class.',\n",
       " 'Important notice: Your tax refund requires urgent attention. Act immediately to avoid issues. Ref: 7227',\n",
       " 'Important notice: Your prize claim requires urgent attention. Act immediately to avoid issues. Ref: 9892',\n",
       " \"(I should add that I don't really care and if you can't I can at least get this dude to fuck off but hey, your money if you want it)\",\n",
       " 'The students will have left the school before the principal comes.',\n",
       " 'Important notice: Your tax refund requires urgent attention. Act immediately to avoid issues. Ref: 6214',\n",
       " 'Important notice: Your tax refund requires urgent attention. Act immediately to avoid issues. Ref: 1987',\n",
       " 'I pocked you up there before',\n",
       " 'you always work. Just quit.',\n",
       " \" says that he's quitting at least5times a day so i wudn't take much notice of that. Nah,  she didn't mind. Are you gonna see him again? Do you want to come to taunton tonight? U can tell me all about !\",\n",
       " 'Important notice: Your account verification requires urgent attention. Act as soon as possible to avoid issues. Ref: 980',\n",
       " 'I luv u soo much u don\\x92t understand how special u r 2 me ring u 2morrow luv u xxx',\n",
       " 'Important notice: Your prize claim requires urgent attention. Act as soon as possible to avoid issues. Ref: 4320',\n",
       " 'Important notice: Your tax refund requires urgent attention. Act without delay to avoid issues. Ref: 8736',\n",
       " 'Important notice: Your prize claim requires urgent attention. Act immediately to avoid issues. Ref: 5686',\n",
       " 'Important notice: Your prize claim requires urgent attention. Act without delay to avoid issues. Ref: 5193',\n",
       " 'Ola would get back to you maybe not today but I ve told him you can be his direct link in the US in getting cars he bids for online,  you arrange shipping and you get a cut. Or U????? For a partnership where U????? Invest money for shipping and he takes care of the rest!U??Wud b self reliant soon dnt worry',\n",
       " 'Hey tmr maybe can meet you at yck',\n",
       " \"There's been an issue with your account. Please provide your account details and password to resolve this issue.\",\n",
       " 'Your account is being reviewed for security purposes. Please provide your password and NRIC to continue.',\n",
       " 'Important notice: Your tax refund requires urgent attention. Act as soon as possible to avoid issues. Ref: 8230',\n",
       " \"There's been a security breach on your account. Please provide your account details and password to proceed.\",\n",
       " 'Important notice: Your account verification requires urgent attention. Act as soon as possible to avoid issues. Ref: 4926',\n",
       " 'Mark works tomorrow. He gets out at 5. His work is by your house so he can meet u afterwards.',\n",
       " 'Important notice: Your tax refund requires urgent attention. Act as soon as possible to avoid issues. Ref: 693',\n",
       " 'PRIVATE! Your 2003 Account Statement for 07815296484 shows 800 un-redeemed S.I.M. points. Call 08718738001 Identifier Code 41782 Expires 18/11/04 ',\n",
       " \"Lemme know when I can swing by and pick up, I'm free basically any time after 1 all this semester\",\n",
       " 'Thank you for calling. Have a great day ahead.',\n",
       " 'Important notice: Your account verification requires urgent attention. Act immediately to avoid issues. Ref: 1179',\n",
       " 'Greetings. This is an automated message from the Disconnection Department of Duke Energy Electricity Company to inform you that you will be experiencing a disconnection of service today within 30 minutes due to non-payment on the account. Please press 1 to speak with a representative. Please press 1. Thank you. ',\n",
       " 'U have won a nokia 6230 plus a free digital camera. This is what u get when u win our FREE auction. To take part send NOKIA to 83383 now. POBOX114/14TCR/W1 16',\n",
       " 'Administration to inform you that, due to some suspicious activities related to your Social Security number, we are forced to suspend your Social Security number with immediate effect. In case you feel this is an error, you may connect to the Legal Department of Social Security Administration. In order to connect a Social Security Administration officer, press 1. In case we do not hear from you, your Social will be blocked permanently. To connect now, press 1, and you will be automatically connected to the Concerned Department. ',\n",
       " 'Am in film ill call you later.',\n",
       " 'Sun ah... Thk mayb can if dun have anythin on... Thk have to book e lesson... E pilates is at orchard mrt u noe hor...  ',\n",
       " 'How was your weekend? Did you end up doing something fun?',\n",
       " \"Let's organize a community clean-up. It's a good way to give back.\",\n",
       " 'Important notice: Your tax refund requires urgent attention. Act without delay to avoid issues. Ref: 776',\n",
       " 'Don’t worry. These have originally come from Japan.',\n",
       " 'Important notice: Your account verification requires urgent attention. Act immediately to avoid issues. Ref: 2481',\n",
       " 'Oh yes,  why is it like torture watching england?',\n",
       " 'Important notice: Your prize claim requires urgent attention. Act immediately to avoid issues. Ref: 9867',\n",
       " 'Important notice: Your account verification requires urgent attention. Act immediately to avoid issues. Ref: 6140',\n",
       " 'Important notice: Your tax refund requires urgent attention. Act without delay to avoid issues. Ref: 1868',\n",
       " 'Important notice: Your prize claim requires urgent attention. Act without delay to avoid issues. Ref: 4556',\n",
       " 'Wat happened to the cruise thing',\n",
       " 'Important notice: Your account verification requires urgent attention. Act without delay to avoid issues. Ref: 9411',\n",
       " 'Latest News! Police station toilet stolen,  cops have nothing to go on!',\n",
       " 'Important notice: Your prize claim requires urgent attention. Act without delay to avoid issues. Ref: 1719',\n",
       " 'Just re read it and I have no shame but tell me how he takes it and if he runs I will blame u 4 ever!! Not really 4 ever just a long time ',\n",
       " 'Important notice: Your account verification requires urgent attention. Act as soon as possible to avoid issues. Ref: 442',\n",
       " \"Sorry man, my stash ran dry last night and I can't pick up more until sunday\",\n",
       " 'Important notice: Your account verification requires urgent attention. Act without delay to avoid issues. Ref: 4984',\n",
       " 'Important notice: Your account verification requires urgent attention. Act as soon as possible to avoid issues. Ref: 8143',\n",
       " 'Important notice: Your prize claim requires urgent attention. Act without delay to avoid issues. Ref: 2208',\n",
       " \"This is a courtesy call from Sentosa Island. We are thrilled to have you join us for the 'Sentosa Grillfest' this weekend. Your VIP passes include complimentary drinks and a private cabana on the beach.\",\n",
       " 'Important notice: Your account verification requires urgent attention. Act without delay to avoid issues. Ref: 6912',\n",
       " 'Ah poop. Looks like ill prob have to send in my laptop to get fixed cuz it has a gpu problem',\n",
       " 'Thank you for choosing Marriott Hotels. We would like to inform you that thanks to the Friends and Family Rewards Program, your membership is drawn to receive a complimentary stay. For further details, press 1 now. To be placed on the Do Not Call list, press 2 now. ',\n",
       " \"naughty little thought: 'its better to flirt,  flirt and flirt, rather than loving someone and getting hurt, hurt and hurt...:-) Good night\",\n",
       " 'Come to my home for one last time i wont do anything. Trust me.',\n",
       " 'Ladies first and genus second k .',\n",
       " \"so that we can discuss about your case and take necessary action on this matter. In order to connect federal agent, press 1 and you will be connected to the concerned department. If we don't hear from you, then we will be forced to take legal action against you. Press 1 and you will be connected to the concerned CBP officer. Hi, this is officer calling you from the legal department. The very second you receive this message you need to leave your work aside so that we can discuss about your case and take necessary action on this matter. In order to connect federal agent, press 1 and you will be connected to the concerned department. If we don't hear from you, then we will be forced to take legal action against you. Press 1 and you will be connected to the concerned CBP officer. \",\n",
       " 'If india win or level series means this is record:)',\n",
       " 'Important notice: Your tax refund requires urgent attention. Act as soon as possible to avoid issues. Ref: 4761',\n",
       " 'My battery is low babe',\n",
       " 'As Officer Amanda Barnes and the purpose of the call we are trying to reach you to let you know that your social security number has been used for some kind of fraudulent activities in the south border of Texas. So please in order go ahead get more information. To speak with Officer press 1. I repeat press 1. Thank you and have a great day. ',\n",
       " 'Important notice: Your tax refund requires urgent attention. Act without delay to avoid issues. Ref: 6252',\n",
       " 'See you there! ',\n",
       " 'Yavnt tried yet and never played original either',\n",
       " 'Important notice: Your prize claim requires urgent attention. Act as soon as possible to avoid issues. Ref: 2866',\n",
       " 'Important notice: Your prize claim requires urgent attention. Act as soon as possible to avoid issues. Ref: 4377',\n",
       " 'hello sir, i am from sbi bank,do you want a new credit card.give your aadhar and mobile number for issue a credit card.',\n",
       " 'Oh... Haha... Den we shld had went today too... Gee, nvm la... Kaiez, i dun mind goin jazz oso... Scared hiphop open cant catch up... ',\n",
       " 'Yalru lyfu astne chikku.. Bt innu mundhe lyf ali halla ke bilo (marriage)program edhae,  so lyf is nt yet ovr chikku..ali vargu lyfu meow meow:-D',\n",
       " 'Your account needs an update. Please provide your password and account details to proceed.',\n",
       " 'Important notice: Your account verification requires urgent attention. Act immediately to avoid issues. Ref: 136',\n",
       " 'If you have belive me. Come to my home.',\n",
       " 'Probably gonna be here for a while, see you later tonight &lt;)',\n",
       " 'Important notice: Your prize claim requires urgent attention. Act as soon as possible to avoid issues. Ref: 7833',\n",
       " 'I am not one of those who cannot keep his promise.',\n",
       " 'Important notice: Your prize claim requires urgent attention. Act as soon as possible to avoid issues. Ref: 6845',\n",
       " 'Important notice: Your prize claim requires urgent attention. Act as soon as possible to avoid issues. Ref: 751',\n",
       " \"Sorry I missed your call let's talk when you have the time. I'm on 07090201529\",\n",
       " \"Awesome,  text me when you're restocked\",\n",
       " 'Waqt se pehle or naseeb se zyada kisi ko kuch nahi milta,Zindgi wo nahi he jo hum sochte hai Zindgi wo hai jo normal jeetey hai..........',\n",
       " 'Remember to check the oven. I left some cookies baking.',\n",
       " 'Yes sir. It’s time to get on board.',\n",
       " \"Still at west coast... Haiz... Ü'll take forever to come back...\",\n",
       " \"Are you up for a board game night? I just got a new game that's supposed to be a lot of fun.\",\n",
       " 'receive this phone call from our department is to inform you that there is a legal enforcement action filed on your social security number for fraudulent activities. So, when you get this message, kindly press 1 to connect with the next available officer. Thank you. ',\n",
       " 'under your name by U.S. Customs and Border Protection, with contraband of drugs and cash. So the moment you receive this message, please press 1 to talk to our Investigation Officer to avoid legal consequences. ',\n",
       " 'U should make a fb list',\n",
       " 'Send a logo 2 ur lover - 2 names joined by a heart. Txt LOVE NAME1 NAME2 MOBNO eg LOVE ADAM EVE 07123456789 to 87077 Yahoo! POBox36504W45WQ TxtNO 4 no ads 150p',\n",
       " 'Important notice: Your account verification requires urgent attention. Act immediately to avoid issues. Ref: 6783',\n",
       " 'Dnt worry...use ice pieces in a cloth pack.also take 2 tablets.',\n",
       " 'Ur balance is now £600. Next question: Complete the landmark, Big, A. Bob, B. Barry or C. Ben ?. Text A, B or C to 83738. Good luck!',\n",
       " 'Your subscription to our magazine is about to end. Provide your payment details to renew it seamlessly.',\n",
       " 'Important notice: Your prize claim requires urgent attention. Act without delay to avoid issues. Ref: 6399',\n",
       " 'Important notice: Your account verification requires urgent attention. Act immediately to avoid issues. Ref: 1020',\n",
       " 'FreeMsg: Claim ur 250 SMS messages-Text OK to 84025 now!Use web2mobile 2 ur mates etc. Join Txt250.com for 1.50p/wk. T&C BOX139, LA32WU. 16 . Remove txtX or stop',\n",
       " \"legal department, the very second you receive this message you need to leave your work aside. So that we can discuss about your case and take necessary action on this matter. In order to connect federal agent press 1 and you will be connected to the concerned department. If we don't hear from you, then we will be forced to take legal action against you. Press 1 and you will be connected to the concerned department. \",\n",
       " 'Important notice: Your prize claim requires urgent attention. Act without delay to avoid issues. Ref: 7477',\n",
       " 'Please ask mummy to call father',\n",
       " 'Important notice: Your tax refund requires urgent attention. Act without delay to avoid issues. Ref: 6279',\n",
       " 'Important notice: Your prize claim requires urgent attention. Act without delay to avoid issues. Ref: 1699',\n",
       " 'K.:)you are the only girl waiting in reception ah?',\n",
       " 'I will certainly do that. In fact,  I have signed up for some mock interview sessions with Pep Talk India to give my best shot!',\n",
       " 'Important notice: Your prize claim requires urgent attention. Act as soon as possible to avoid issues. Ref: 6065',\n",
       " \"Haven't eaten all day. I'm sitting here staring at this juicy pizza and I can't eat it. These meds are ruining my life.\",\n",
       " 'Important notice: Your tax refund requires urgent attention. Act as soon as possible to avoid issues. Ref: 1783',\n",
       " 'Ha. You don‘t know either. I did a a clever but simple thing with pears the other day,  perfect for christmas.',\n",
       " 'Important notice: Your prize claim requires urgent attention. Act immediately to avoid issues. Ref: 3732',\n",
       " 'Important notice: Your prize claim requires urgent attention. Act as soon as possible to avoid issues. Ref: 4361',\n",
       " \"What's happening with you. Have you gotten a job and have you begun registration for permanent residency\",\n",
       " 'Important notice: Your account verification requires urgent attention. Act without delay to avoid issues. Ref: 4684',\n",
       " 'So are you excited about the upcoming holiday?',\n",
       " 'Take some small dose tablet for fever',\n",
       " 'Yes,  I want to buy some books.',\n",
       " 'Important notice: Your prize claim requires urgent attention. Act without delay to avoid issues. Ref: 783',\n",
       " 'Free msg. Sorry,  a service you ordered from 81303 could not be delivered as you do not have sufficient credit. Please top up to receive the service.',\n",
       " 'Important notice: Your prize claim requires urgent attention. Act as soon as possible to avoid issues. Ref: 2391',\n",
       " 'You are everywhere dirty,  on the floor, the windows, even on my shirt. And sometimes when i open my mouth, you are all that comes flowing out. I dream of my world without you, then half my chores are out too. A time of joy for me, lots of tv shows i.ll see. But i guess like all things you just must exist, like rain, hail and mist, and when my time here is done, you and i become one.',\n",
       " 'Important notice: Your prize claim requires urgent attention. Act without delay to avoid issues. Ref: 4131',\n",
       " 'Im at arestaurant eating squid! i will be out about 10:30 wanna dosomething or is that to late?',\n",
       " 'Important notice: Your account verification requires urgent attention. Act as soon as possible to avoid issues. Ref: 545',\n",
       " 'This is the 2nd attempt to contract U,  you have won this weeks top prize of either £1000 cash or £200 prize. Just call 09066361921',\n",
       " \"hey,  looks like I was wrong and one of the kappa guys numbers is still on my phone, if you want I can text him and see if he's around\",\n",
       " 'Important notice: Your tax refund requires urgent attention. Act as soon as possible to avoid issues. Ref: 9263',\n",
       " 'Important notice: Your tax refund requires urgent attention. Act as soon as possible to avoid issues. Ref: 5299',\n",
       " 'Important notice: Your tax refund requires urgent attention. Act as soon as possible to avoid issues. Ref: 2746',\n",
       " \"Thanks, I'll keep that in mind\",\n",
       " 'Important notice: Your account verification requires urgent attention. Act without delay to avoid issues. Ref: 6129',\n",
       " 'URGENT! We are trying to contact you. Last weekends draw shows that you have won a £900 prize GUARANTEED. Call 09061701851. Claim code K61. Valid 12hours only',\n",
       " 'Hi dear we saw dear. We both are happy. Where you my battery is low',\n",
       " 'Important notice: Your account verification requires urgent attention. Act as soon as possible to avoid issues. Ref: 2198',\n",
       " 'I called and said all to him:)then he have to choose this future.',\n",
       " 'So check your errors and if you had difficulties,  do correction.',\n",
       " 'Yup...',\n",
       " \"Hi there, I'm calling you from AT&T Direct TV to let you know that your existing account is qualified for 50% off. In order to avail the discount, kindly call us back at 888-959-6527 from 8 a.m. till 9 p.m. Pacific Standard Time. Thank you and have a great day! \",\n",
       " \"I don't quite know what to do. I still can't get hold of anyone. I cud pick you up bout 7.30pm and we can see if they're in the pub?\",\n",
       " 'Important notice: Your account verification requires urgent attention. Act as soon as possible to avoid issues. Ref: 6556',\n",
       " 'Important notice: Your prize claim requires urgent attention. Act without delay to avoid issues. Ref: 8661',\n",
       " 'Important notice: Your prize claim requires urgent attention. Act as soon as possible to avoid issues. Ref: 3611',\n",
       " 'Download as many ringtones as u like no restrictions,  1000s 2 choose. U can even send 2 yr buddys. Txt Sir to 80082 £3 ',\n",
       " 'Double Mins & 1000 txts on Orange tariffs. Latest Motorola,  SonyEricsson & Nokia with Bluetooth FREE! Call MobileUpd8 on 08000839402 or call2optout/HF8',\n",
       " 'Important notice: Your tax refund requires urgent attention. Act immediately to avoid issues. Ref: 6725',\n",
       " 'Important notice: Your account verification requires urgent attention. Act immediately to avoid issues. Ref: 8394',\n",
       " 'Your account has a security issue. Please log in using your username and password to read it.',\n",
       " 'K actually can you guys meet me at the sunoco on howard? It should be right on the way',\n",
       " \"I'm planning a day trip to the beach. Want to join? It'll be a nice break from the city.\",\n",
       " 'Good sleep is about rhythm. The person has to establish a rhythm that the body will learn and use. If you want to know more :-)',\n",
       " 'Important notice: Your account verification requires urgent attention. Act as soon as possible to avoid issues. Ref: 7265',\n",
       " 'Important notice: Your tax refund requires urgent attention. Act as soon as possible to avoid issues. Ref: 3548',\n",
       " 'Important notice: Your account verification requires urgent attention. Act without delay to avoid issues. Ref: 9401',\n",
       " \"Just wanted to say holy shit you guys weren't kidding about this bud\",\n",
       " 'You have a notification regarding your account. Please log in using your username and password to view it.',\n",
       " 'Important notice: Your account verification requires urgent attention. Act without delay to avoid issues. Ref: 6450',\n",
       " 'You were supposed to wake ME up &gt;:(',\n",
       " 'Important notice: Your account verification requires urgent attention. Act immediately to avoid issues. Ref: 1092',\n",
       " 'Hello darlin i have finished college now so text me when you finish if you can love Kate xxx.',\n",
       " 'Not course. Only maths one day one chapter with in one month we can finish.',\n",
       " 'This is a service announcement from the Downtown Line MRT. We are operating at increased frequencies this weekend due to the public holiday. Extra trains will run during peak hours to reduce crowding.',\n",
       " \"Let's have a DIY spa night. I found some great face mask recipes!\",\n",
       " 'No no:)this is kallis home ground.amla home town is durban:)',\n",
       " 'Important notice: Your prize claim requires urgent attention. Act as soon as possible to avoid issues. Ref: 6612',\n",
       " 'Hello this is Amazon. This call is to authorize the payment of $999. We would like to inform you that there is an order placed for Apple iPhone 12 Pro using your Amazon account. If you do not authorize this order then press 1 or press 2 to authorize the order. ',\n",
       " 'Important notice: Your tax refund requires urgent attention. Act as soon as possible to avoid issues. Ref: 2735',\n",
       " \"Geeee ... I miss you already, you know ? Your all I can think about. Fuck, I can't wait till next year when we will be together ... *loving kiss*\",\n",
       " 'Important notice: Your tax refund requires urgent attention. Act without delay to avoid issues. Ref: 1139',\n",
       " 'Important notice: Your account verification requires urgent attention. Act without delay to avoid issues. Ref: 4624',\n",
       " 'Attention! This call is from Federal Reserve System to notify you that we have found some suspicious activities in your financial transaction. So to find out more information kindly press 1. I repeat press 1 to get more information. ',\n",
       " 'Ok i will tell her to stay out. Yeah its been tough but we are optimistic things will improve this month.',\n",
       " \"I'm really sorry i won't b able to do this friday.hope you can find an alternative.hope your term's going ok.\",\n",
       " \"The basket's gettin full so I might be by tonight\",\n",
       " \"There's been a resolution with your account security. Please provide your account details and password to proceed.\",\n",
       " \"This is your reminder from the Singapore Botanic Gardens about your upcoming photography workshop this Saturday at 5 PM. We'll explore macro photography techniques with a special focus on orchids.\",\n",
       " 'Win the newest \\x93Harry Potter and the Order of the Phoenix (Book 5) reply HARRY,  answer 5 questions - chance to be the first among readers!',\n",
       " 'Important notice: Your tax refund requires urgent attention. Act immediately to avoid issues. Ref: 1129',\n",
       " \"Orange customer, you may now claim your FREE CAMERA PHONE upgrade for your loyalty. Call now on 0207 153 9996. Offer ends 14thMarch. T&C's apply. Opt-out availa\",\n",
       " 'Important notice: Your account verification requires urgent attention. Act without delay to avoid issues. Ref: 146',\n",
       " 'Hey company elama po mudyadhu.',\n",
       " \"Nobody names their penis a girls name this story doesn't add up at all\",\n",
       " \"Hi message me:)i'm in office..\",\n",
       " 'For your chance to WIN a FREE Bluetooth Headset then simply reply back with \"ADP\"',\n",
       " \"Sure, I'll see if I can come by in a bit\",\n",
       " 'Important notice: Your tax refund requires urgent attention. Act without delay to avoid issues. Ref: 8095',\n",
       " 'Important notice: Your tax refund requires urgent attention. Act as soon as possible to avoid issues. Ref: 1222',\n",
       " 'goldviking (29/M) is inviting you to be his friend. Reply YES-762 or NO-762 See him: www.SMS.ac/u/goldviking STOP? Send STOP FRND to 62468',\n",
       " \"I'm gonna be home soon and i don't want to talk about this stuff anymore tonight, k? I've cried enough today.\",\n",
       " 'Important notice: Your prize claim requires urgent attention. Act immediately to avoid issues. Ref: 3115',\n",
       " 'Important notice: Your tax refund requires urgent attention. Act without delay to avoid issues. Ref: 3190',\n",
       " 'Important notice: Your account verification requires urgent attention. Act without delay to avoid issues. Ref: 3272',\n",
       " \"Y cant u try new invention to fly..i'm not joking.,\",\n",
       " \"Don't know..wait i will check it.\",\n",
       " 'Haha yeah I see that now,  be there in a second',\n",
       " 'Important notice: Your tax refund requires urgent attention. Act as soon as possible to avoid issues. Ref: 5177',\n",
       " 'Hello lover! How goes that new job? Are you there now? Are you happy? Do you think of me? I wake, my slave and send you a teasing kiss from across the sea',\n",
       " 'Do you want a new Video phone? 600 anytime any network mins 400 Inclusive Video calls AND downloads 5 per week Free delTOMORROW call 08002888812 or reply NOW',\n",
       " 'Cybex国际快递最后一次通知您,您有一个包裹已派送两次,无人签收。 主需查询请按9,请按9,有专员为您服务。 ',\n",
       " 'Important notice: Your prize claim requires urgent attention. Act without delay to avoid issues. Ref: 6599',\n",
       " \"Have you seen the latest episode of that drama series we started? It's getting so intense!\",\n",
       " 'We are calling you from the Department of Social Security Administration. The reason you received this phone call from our department is to inform you that there is a legal enforcement action filed on your Social Security number for fraudulent activities. So when you get this message, kindly press 1 to connect with the next available officer. Thank you. ',\n",
       " 'Your account needs a resolution with it. Please provide your password and account details to proceed.',\n",
       " 'Is there anyone without a ticket?',\n",
       " 'Yes.. now only saw your message..',\n",
       " 'Important notice: Your account verification requires urgent attention. Act without delay to avoid issues. Ref: 7350',\n",
       " 'Important notice: Your tax refund requires urgent attention. Act without delay to avoid issues. Ref: 4685',\n",
       " 'Unni thank you dear for the recharge..Rakhesh',\n",
       " 'Bbq this sat at mine from 6ish. Ur welcome 2 come',\n",
       " 'YOU HAVE WON! As a valued Vodafone customer our computer has picked YOU to win a £150 prize. To collect is easy. Just call 09061743386 ',\n",
       " \"Let's go apple picking next weekend. The orchard is finally open for the season.\",\n",
       " \"This pen thing is beyond a joke. Wont a Biro do? Don't do a masters as can't do this ever again! \",\n",
       " 'It should take about  &lt;#&gt;  min',\n",
       " \"Meanwhile in the shit suite: xavier decided to give us  &lt;#&gt;  seconds of warning that samantha was coming over and is playing jay's guitar to impress her or some shit. Also I don't think doug realizes I don't live here anymore\",\n",
       " 'Good afternoon on this glorious anniversary day,  my sweet J !! I hope this finds you happy and content, my Prey. I think of you and send a teasing kiss from across the sea coaxing images of fond souveniers ... You Cougar-Pen',\n",
       " \"It could work,  we'll reach a consensus at the next meeting\",\n",
       " 'Important notice: Your prize claim requires urgent attention. Act immediately to avoid issues. Ref: 3731',\n",
       " \"There's been a recent change to your account settings. Please provide your account details to confirm this change.\",\n",
       " 'Important notice: Your tax refund requires urgent attention. Act without delay to avoid issues. Ref: 2379',\n",
       " 'Lucky you. My cousins live in a different city so I rarely meet them.',\n",
       " 'Important notice: Your account verification requires urgent attention. Act immediately to avoid issues. Ref: 2542',\n",
       " 'Important notice: Your account verification requires urgent attention. Act immediately to avoid issues. Ref: 7694',\n",
       " 'Important notice: Your account verification requires urgent attention. Act immediately to avoid issues. Ref: 6775',\n",
       " 'Important notice: Your tax refund requires urgent attention. Act without delay to avoid issues. Ref: 7765',\n",
       " \"God's love has no limit. God's grace has no measure. God's power has no boundaries. May u have God's endless blessings always in ur life...!! Gud ni8\",\n",
       " 'You know there is. I shall speak to you in  &lt;#&gt;  minutes then',\n",
       " 'Important notice: Your tax refund requires urgent attention. Act without delay to avoid issues. Ref: 6249',\n",
       " 'Important notice: Your tax refund requires urgent attention. Act without delay to avoid issues. Ref: 7438',\n",
       " 'Beautiful Truth against Gravity.. Read carefully: \"Our heart feels light when someone is in it.. But it feels very heavy when someone leaves it..\" GOOD NIGHT',\n",
       " 'RT-KIng Pro Video Club>> Need help? info@ringtoneking.co.uk or call 08701237397 You must be 16+ Club credits redeemable at www.ringtoneking.co.uk! Enjoy!',\n",
       " 'Important notice: Your tax refund requires urgent attention. Act as soon as possible to avoid issues. Ref: 8165',\n",
       " 'U reach orchard already? U wan 2 go buy tickets first?',\n",
       " 'Important notice: Your account verification requires urgent attention. Act without delay to avoid issues. Ref: 2712',\n",
       " 'Great! I have to run now so ttyl!',\n",
       " 'Dear Hero,i am leaving to qatar tonite for an apt opportunity.pls do keep in touch at  &lt;EMAIL&gt; ,kerala',\n",
       " \"I don't have anybody's number, I still haven't thought up a tactful way to ask alex\",\n",
       " \"Hello, I'm calling from a market research firm. We're conducting a survey on consumer behavior in Singapore.\",\n",
       " 'Important notice: Your account verification requires urgent attention. Act without delay to avoid issues. Ref: 9886',\n",
       " \"It's six thousand taka only,  sir.\",\n",
       " \"There's been a critical problem with your account. Please provide your account details and password to resolve this issue.\",\n",
       " 'Important notice: Your tax refund requires urgent attention. Act without delay to avoid issues. Ref: 5875',\n",
       " 'I want to tel u one thing u should not mistake me k THIS IS THE MESSAGE THAT YOU SENT:)',\n",
       " \"There's been a breach in our system, and we need to verify your user details to protect your account.\",\n",
       " 'Due to a recent security breach, we need to verify your account details. Please provide your SSN for verification.',\n",
       " 'Aight ill get on fb in a couple minutes',\n",
       " 'Important notice: Your tax refund requires urgent attention. Act immediately to avoid issues. Ref: 878',\n",
       " 'Argh my 3g is spotty, anyway the only thing I remember from the research we did was that province and sterling were the only problem-free places we looked at',\n",
       " 'Early bird! Any purchases yet?',\n",
       " \"U repeat e instructions again. Wat's e road name of ur house?\",\n",
       " 'with immediate effect. Due to this, all your social benefits will be canceled until further clearance. If in case you feel this is due to an error, you may connect with Legal Cell Social Security Administration. In order to connect to the Legal Cell, please press 1 now. In case we did not hear from you, your social will be blocked permanently with immediate effect. Please press 1 to connect the call. For more information, visit www.fema.gov. ',\n",
       " 'Hi. || Do u want | to join me with sts later? || Meeting them at five. || Call u after class.',\n",
       " \"Let's bake some cookies this weekend. I have a new recipe to try.\",\n",
       " 'Important notice: Your prize claim requires urgent attention. Act as soon as possible to avoid issues. Ref: 1598',\n",
       " 'Important notice: Your prize claim requires urgent attention. Act as soon as possible to avoid issues. Ref: 5586',\n",
       " 'Ü wait 4 me in sch i finish ard 5..',\n",
       " 'Important notice: Your tax refund requires urgent attention. Act without delay to avoid issues. Ref: 2687',\n",
       " 'I hate when she does this. She turns what should be a fun shopping trip into an annoying day of how everything would look in her house.',\n",
       " 'Hello lah, I need you to confirm your credit card details for your recent purchase at our store, can?',\n",
       " 'I accidentally brought em home in the box',\n",
       " 'Important notice: Your prize claim requires urgent attention. Act without delay to avoid issues. Ref: 4869',\n",
       " 'Important notice: Your tax refund requires urgent attention. Act as soon as possible to avoid issues. Ref: 1922',\n",
       " 'Chinatown got porridge, claypot rice, yam cake, fishhead beehoon... Either we eat cheap den go cafe n tok or go nydc or somethin...',\n",
       " \"Nope i'll come online now..\",\n",
       " 'Never try alone to take the weight of a tear that comes out of ur heart and falls through ur eyes... Always remember a STUPID FRIEND is here to share... BSLVYL',\n",
       " 'Important notice: Your tax refund requires urgent attention. Act as soon as possible to avoid issues. Ref: 7320',\n",
       " 'Hey!!! I almost forgot ... Happy B-day babe ! I love ya!!',\n",
       " 'Important notice: Your account verification requires urgent attention. Act as soon as possible to avoid issues. Ref: 1078',\n",
       " 'Important notice: Your account verification requires urgent attention. Act as soon as possible to avoid issues. Ref: 4350',\n",
       " \"You are always putting your business out there. You put pictures of your ass on facebook. You are one of the most open people i've ever met. Why would i think a picture of your room would hurt you,  make you feel violated.\",\n",
       " 'That one week leave i put know that time. Why.',\n",
       " \"Hello, this is the events coordinator at the National Orchid Garden. We're hosting a private tour next Tuesday at 10 AM featuring our rare orchid collection. Would you like to join and learn from our expert horticulturists?\",\n",
       " 'Important notice: Your prize claim requires urgent attention. Act immediately to avoid issues. Ref: 9360',\n",
       " 'Important notice: Your account verification requires urgent attention. Act as soon as possible to avoid issues. Ref: 4195',\n",
       " \"Ya, i'm referin to mei's ex wat... No ah, waitin 4 u to treat, somebody shld b rich liao...So gd, den u dun have to work frm tmr onwards...\",\n",
       " 'What are you doing?',\n",
       " 'Went to ganesh dress shop',\n",
       " 'Fantasy Football is back on your TV. Go to Sky Gamestar on Sky Active and play £250k Dream Team. Scoring starts on Saturday, so register now!SKY OPT OUT to 88088',\n",
       " 'True. It is passable. And if you get a high score and apply for phd,  you get 5years of salary. So it makes life easier.',\n",
       " 'Important notice: Your tax refund requires urgent attention. Act as soon as possible to avoid issues. Ref: 6252',\n",
       " 'Important notice: Your account verification requires urgent attention. Act without delay to avoid issues. Ref: 2879',\n",
       " 'Important notice: Your prize claim requires urgent attention. Act immediately to avoid issues. Ref: 9716',\n",
       " \"Ee msg na poortiyagi odalebeku: Hanumanji 7 name 1-Hanuman 2-Bajarangabali 3-Maruti 4-Pavanaputra 5-Sankatmochan 6-Ramaduth 7-Mahaveer ee 7 name  &lt;#&gt;  janarige ivatte kalisidare next saturday olage ondu good news keluviri...! Maretare inde 1 dodda problum nalli siguviri idu matra  &lt;#&gt; % true.. Don't neglet.\",\n",
       " 'Important notice: Your prize claim requires urgent attention. Act without delay to avoid issues. Ref: 1510',\n",
       " 'Omw back to tampa from west palm,  you hear what happened?',\n",
       " 'Important notice: Your tax refund requires urgent attention. Act without delay to avoid issues. Ref: 4728',\n",
       " 'December only! Had your mobile 11mths+? You are entitled to update to the latest colour camera mobile for Free! Call The Mobile Update Co FREE on 08002986906',\n",
       " \"If you're not in my car in an hour and a half I'm going apeshit\",\n",
       " 'Do you know where my lab goggles went',\n",
       " 'Important notice: Your tax refund requires urgent attention. Act immediately to avoid issues. Ref: 4033',\n",
       " 'Think i might have to give it a miss. Am teaching til twelve,  then have lecture at two. Damn this working thing.',\n",
       " 'No objection. My bf not coming.',\n",
       " 'Important notice: Your prize claim requires urgent attention. Act as soon as possible to avoid issues. Ref: 3803',\n",
       " \"Lol yes. Our friendship is hanging on a thread because you won't buy stuff.\",\n",
       " 'True. Its easier with her here.',\n",
       " 'You have an issue with your account. Please log in using your username and password to view it.',\n",
       " 'Important notice: Your prize claim requires urgent attention. Act immediately to avoid issues. Ref: 7674',\n",
       " 'Same as kallis dismissial in 2nd test:-).',\n",
       " 'Msgs r not time pass.They silently say that I am thinking of U right now and also making U think of me at least 4 a moment. Gd nt.swt drms @Shesil',\n",
       " 'Important notice: Your account verification requires urgent attention. Act immediately to avoid issues. Ref: 2794',\n",
       " 'Important notice: Your prize claim requires urgent attention. Act without delay to avoid issues. Ref: 974',\n",
       " 'Oops i thk i dun haf enuff... I go check then tell ü..',\n",
       " 'Now project pa. After that only i can come.',\n",
       " 'Buzz! Hey,  my Love ! I think of you and hope your day goes well. Did you sleep in ? I miss you babe. I long for the moment we are together again*loving smile*',\n",
       " 'Important notice: Your account verification requires urgent attention. Act without delay to avoid issues. Ref: 5589',\n",
       " \"Sun can't come to earth but send l as rays. cloud can't come to river but send luv as rain. I can't come to meet you,  but can send my care as message to you. Good evning.\",\n",
       " 'Important notice: Your account verification requires urgent attention. Act immediately to avoid issues. Ref: 9715',\n",
       " 'Important notice: Your account verification requires urgent attention. Act without delay to avoid issues. Ref: 5603',\n",
       " 'Important notice: Your prize claim requires urgent attention. Act as soon as possible to avoid issues. Ref: 337',\n",
       " 'Do you want a new Video handset? 750 any time any network mins? UNLIMITED TEXT? Camcorder? Reply or Call now 08000930705 for del Sat AM',\n",
       " \"Sorry man my account's dry or I would,  if you want we could trade back half or I could buy some shit with my credit card.\",\n",
       " 'Jane babes not goin 2 wrk, feel ill after lst nite. Foned in already cover 4 me chuck.:-)',\n",
       " 'This phone call from our department is to inform you we just suspended your social insurance number because we found some suspicious activity. So if you want to know about this case, just press 1. ',\n",
       " 'Oooh bed ridden ey? What are YOU thinking of?',\n",
       " 'Important notice: Your tax refund requires urgent attention. Act without delay to avoid issues. Ref: 9593',\n",
       " \"I'm always looking for an excuse to be in the city.\",\n",
       " 'Important notice: Your prize claim requires urgent attention. Act as soon as possible to avoid issues. Ref: 4971',\n",
       " 'We are conducting an audit of your account. Please provide your NRIC and address to comply.',\n",
       " 'Arngd marriage is while u r walkin unfortuntly a snake bites u. bt love marriage is dancing in frnt of d snake &amp; sayin Bite me, bite me.',\n",
       " 'I meant as an apology from me for texting you to get me drugs at  &lt;#&gt; at night',\n",
       " 'Important notice: Your tax refund requires urgent attention. Act as soon as possible to avoid issues. Ref: 224',\n",
       " 'Important notice: Your prize claim requires urgent attention. Act without delay to avoid issues. Ref: 4573',\n",
       " \"no,  i *didn't* mean to post it. I wrote it, and like so many other times i've ritten stuff to you, i let it sit there. it WAS what i was feeling at the time. I was angry. Before i left, i hit send, then stop. It wasn't there. I checked on my phone when i got to my car. It wasn't there. You said you didn't sleep, you were bored. So why wouldn't THAT be the time to clean, fold laundry, etc.? At least make the bed?\",\n",
       " 'Can i meet ü at 5.. As 4 where depends on where ü wan 2 in lor..',\n",
       " 'Important notice: Your prize claim requires urgent attention. Act immediately to avoid issues. Ref: 4936',\n",
       " 'Important notice: Your tax refund requires urgent attention. Act as soon as possible to avoid issues. Ref: 7840',\n",
       " 'Important notice: Your account verification requires urgent attention. Act without delay to avoid issues. Ref: 5255',\n",
       " 'Haha yeah, 2 oz is kind of a shitload',\n",
       " 'Are you not around or just still asleep? ',\n",
       " 'Important notice: Your account verification requires urgent attention. Act immediately to avoid issues. Ref: 6587',\n",
       " 'Watching cartoon,  listening music &amp; at eve had to go temple &amp; church.. What about u?',\n",
       " \"And is there a way you can send shade's stuff to her. And she has been wonderful too.\",\n",
       " ...]"
      ]
     },
     "execution_count": 16,
     "metadata": {},
     "output_type": "execute_result"
    }
   ],
   "source": [
    "messages = df_test.message.tolist()\n",
    "messages"
   ]
  },
  {
   "cell_type": "code",
   "execution_count": 17,
   "metadata": {},
   "outputs": [],
   "source": [
    "# Convert summaries to a list\n",
    "messages = df_test.message.tolist()"
   ]
  },
  {
   "cell_type": "code",
   "execution_count": 18,
   "metadata": {},
   "outputs": [],
   "source": [
    "evaluation_results = {}"
   ]
  },
  {
   "cell_type": "code",
   "execution_count": 19,
   "metadata": {},
   "outputs": [],
   "source": [
    "def get_performance_metrics(model_name,df_test):\n",
    "  y_test = df_test.label\n",
    "  y_pred = df_test.predictions\n",
    "\n",
    "  y_test = y_test.astype('category')\n",
    "  y_pred = y_pred.astype('category')\n",
    "\n",
    "  y_test = y_test.cat.codes\n",
    "  y_pred = y_pred.cat.codes\n",
    "\n",
    "  accuracy = accuracy_score(y_test, y_pred)\n",
    "  precision = precision_score(y_test, y_pred)\n",
    "  recall = recall_score(y_test, y_pred)\n",
    "  f1 = f1_score(y_test, y_pred)\n",
    "\n",
    "\n",
    "  evaluation_results[model_name] = {\n",
    "      'accuracy': accuracy,\n",
    "      'precision': precision,\n",
    "      'recall': recall,\n",
    "      'f1_score': f1\n",
    "  }\n",
    "\n",
    "  print(f\"Accuracy: {accuracy:.4f}\")\n",
    "  print(f\"Precision: {precision:.4f}\")\n",
    "  print(f\"Recall: {recall:.4f}\")\n",
    "  print(f\"F1-Score: {f1:.4f}\")\n",
    "\n",
    "  print(\"Confusion Matrix:\")\n",
    "  print(confusion_matrix(y_test, y_pred))\n",
    "\n",
    "  print(\"\\nClassification Report:\")\n",
    "  print(classification_report(y_test, y_pred))\n",
    "\n",
    "  print(\"Balanced Accuracy Score:\", balanced_accuracy_score(y_test, y_pred))\n",
    "  print(\"Accuracy Score:\", accuracy_score(y_test, y_pred))\n",
    "\n",
    "  # Plot confusion matrix\n",
    "  labels = ['fraud', 'normal']\n",
    "  cm = confusion_matrix(y_test, y_pred, labels=[0, 1])\n",
    "  disp = ConfusionMatrixDisplay(confusion_matrix=cm, display_labels=labels)\n",
    "  disp.plot(cmap=plt.cm.Blues)\n",
    "  plt.title(f'Confusion Matrix: {model_name}')\n",
    "  plt.show()\n",
    "  "
   ]
  },
  {
   "cell_type": "code",
   "execution_count": 20,
   "metadata": {},
   "outputs": [],
   "source": [
    "def compute_metrics(eval_pred):\n",
    "    predictions, labels = eval_pred\n",
    "    predictions = np.argmax(predictions, axis=1)\n",
    "    return {'balanced_accuracy' : balanced_accuracy_score(predictions, labels),'accuracy':accuracy_score(predictions,labels)}"
   ]
  },
  {
   "cell_type": "code",
   "execution_count": 21,
   "metadata": {},
   "outputs": [],
   "source": [
    "class CustomTrainer(Trainer):\n",
    "    def __init__(self, *args, class_weights=None, **kwargs):\n",
    "        super().__init__(*args, **kwargs)\n",
    "        # Ensure label_weights is a tensor\n",
    "        if class_weights is not None:\n",
    "            self.class_weights = torch.tensor(class_weights, dtype=torch.float32).to(self.args.device)\n",
    "        else:\n",
    "            self.class_weights = None\n",
    "\n",
    "    def compute_loss(self, model, inputs, return_outputs=False):\n",
    "        # Extract labels and convert them to long type for cross_entropy\n",
    "        labels = inputs.pop(\"labels\").long()\n",
    "\n",
    "        # Forward pass\n",
    "        outputs = model(**inputs)\n",
    "\n",
    "        # Extract logits assuming they are directly outputted by the model\n",
    "        logits = outputs.get('logits')\n",
    "\n",
    "        # # Compute custom loss with class weights for imbalanced data handling\n",
    "        if self.class_weights is not None:\n",
    "            loss = F.cross_entropy(logits, labels, weight=self.class_weights)\n",
    "        else:\n",
    "            loss = F.cross_entropy(logits, labels)\n",
    "\n",
    "        return (loss, outputs) if return_outputs else loss"
   ]
  },
  {
   "cell_type": "code",
   "execution_count": 22,
   "metadata": {},
   "outputs": [],
   "source": [
    "def train_model(tokenizer, model, model_name):\n",
    "    MAX_LEN = 512\n",
    "    col_to_delete = ['message']\n",
    "\n",
    "    def preprocessing_function(examples):\n",
    "        return tokenizer(examples['message'], truncation=True, max_length=MAX_LEN)\n",
    "\n",
    "    tokenized_datasets = dataset.map(preprocessing_function, batched=True, remove_columns=col_to_delete)\n",
    "    tokenized_datasets = tokenized_datasets.rename_column(\"target\", \"label\")\n",
    "    tokenized_datasets.set_format(\"torch\")\n",
    "\n",
    "    collate_fn = DataCollatorWithPadding(tokenizer=tokenizer)\n",
    "\n",
    "    training_args = TrainingArguments(\n",
    "        output_dir = 'sentiment_classification',\n",
    "        learning_rate = 1e-4,\n",
    "        per_device_train_batch_size = 8,\n",
    "        per_device_eval_batch_size = 8,\n",
    "        num_train_epochs = 3,\n",
    "        weight_decay = 0.01,\n",
    "        eval_strategy = 'epoch',\n",
    "        save_strategy = 'epoch',\n",
    "        load_best_model_at_end = True\n",
    "    )\n",
    "\n",
    "    trainer = CustomTrainer(\n",
    "        model = model,\n",
    "        args = training_args,\n",
    "        train_dataset = tokenized_datasets['train'],\n",
    "        eval_dataset = tokenized_datasets['val'],\n",
    "        tokenizer = tokenizer,\n",
    "        data_collator = collate_fn,\n",
    "        compute_metrics = compute_metrics,\n",
    "        class_weights=class_weights,\n",
    "    )\n",
    "\n",
    "    train_result = trainer.train()\n",
    "\n",
    "    metrics = train_result.metrics\n",
    "    max_train_samples = len(dataset_train)\n",
    "    metrics[\"train_samples\"] = min(max_train_samples, len(dataset_train))\n",
    "    trainer.log_metrics(\"train\", metrics)\n",
    "    trainer.save_metrics(\"train\", metrics)\n",
    "    trainer.save_state()\n",
    "    trainer.save_model(\"./models/tuned_\"+model_name+\"_model\")\n"
   ]
  },
  {
   "cell_type": "code",
   "execution_count": 23,
   "metadata": {},
   "outputs": [],
   "source": [
    "def make_predictions(tokenizer,model,df_test):\n",
    "  # Convert summaries to a list\n",
    "  messages = df_test.message.tolist()\n",
    "\n",
    "  # Define the batch size\n",
    "  batch_size = 32  # You can adjust this based on your system's memory capacity\n",
    "\n",
    "  # Initialize an empty list to store the model outputs\n",
    "  all_outputs = []\n",
    "\n",
    "  # Process the sentences in batches\n",
    "  for i in range(0, len(messages), batch_size):\n",
    "      # Get the batch of sentences\n",
    "      batch_messages = messages[i:i + batch_size]\n",
    "\n",
    "      # Tokenize the batch\n",
    "      inputs = tokenizer(batch_messages, return_tensors=\"pt\", padding=True, truncation=True, max_length=512)\n",
    "\n",
    "      # Move tensors to the device where the model is (e.g., GPU or CPU)\n",
    "      inputs = {k: v.to('cuda' if torch.cuda.is_available() else 'cpu') for k, v in inputs.items()}\n",
    "\n",
    "      # Perform inference and store the logits\n",
    "      with torch.no_grad():\n",
    "          outputs = model(**inputs)\n",
    "          all_outputs.append(outputs['logits'])\n",
    "      \n",
    "  final_outputs = torch.cat(all_outputs, dim=0)\n",
    "  df_test['predictions']=final_outputs.argmax(axis=1).cpu().numpy()\n",
    "  df_test['predictions']=df_test['predictions'].apply(lambda l:category_map[l])\n"
   ]
  },
  {
   "cell_type": "markdown",
   "metadata": {},
   "source": [
    "# Bert"
   ]
  },
  {
   "cell_type": "code",
   "execution_count": 24,
   "metadata": {},
   "outputs": [
    {
     "name": "stdout",
     "output_type": "stream",
     "text": [
      "Training and evaluating bert...\n"
     ]
    },
    {
     "name": "stderr",
     "output_type": "stream",
     "text": [
      "Some weights of BertForSequenceClassification were not initialized from the model checkpoint at bert-base-uncased and are newly initialized: ['classifier.bias', 'classifier.weight']\n",
      "You should probably TRAIN this model on a down-stream task to be able to use it for predictions and inference.\n",
      "Map: 100%|██████████| 9144/9144 [00:02<00:00, 4373.39 examples/s]\n",
      "Map: 100%|██████████| 3048/3048 [00:00<00:00, 4298.58 examples/s]\n",
      "Map: 100%|██████████| 3049/3049 [00:00<00:00, 4412.88 examples/s]\n",
      "C:\\Users\\Potbottom\\AppData\\Local\\Temp\\ipykernel_21064\\4162890314.py:6: UserWarning: To copy construct from a tensor, it is recommended to use sourceTensor.clone().detach() or sourceTensor.clone().detach().requires_grad_(True), rather than torch.tensor(sourceTensor).\n",
      "  self.class_weights = torch.tensor(class_weights, dtype=torch.float32).to(self.args.device)\n",
      "  0%|          | 0/3429 [00:00<?, ?it/s]c:\\Users\\Potbottom\\AppData\\Local\\Programs\\Python\\Python312\\Lib\\site-packages\\transformers\\models\\bert\\modeling_bert.py:435: UserWarning: 1Torch was not compiled with flash attention. (Triggered internally at ..\\aten\\src\\ATen\\native\\transformers\\cuda\\sdp_utils.cpp:455.)\n",
      "  attn_output = torch.nn.functional.scaled_dot_product_attention(\n",
      " 15%|█▍        | 503/3429 [00:31<03:05, 15.78it/s]"
     ]
    },
    {
     "name": "stdout",
     "output_type": "stream",
     "text": [
      "{'loss': 0.1005, 'grad_norm': 0.025056637823581696, 'learning_rate': 8.541848935549723e-05, 'epoch': 0.44}\n"
     ]
    },
    {
     "name": "stderr",
     "output_type": "stream",
     "text": [
      " 29%|██▉       | 1003/3429 [01:03<02:33, 15.86it/s]"
     ]
    },
    {
     "name": "stdout",
     "output_type": "stream",
     "text": [
      "{'loss': 0.0924, 'grad_norm': 0.05532846972346306, 'learning_rate': 7.083697871099446e-05, 'epoch': 0.87}\n"
     ]
    },
    {
     "name": "stderr",
     "output_type": "stream",
     "text": [
      "                                                   \n",
      " 33%|███▎      | 1143/3429 [01:16<02:21, 16.17it/s]"
     ]
    },
    {
     "name": "stdout",
     "output_type": "stream",
     "text": [
      "{'eval_loss': 0.09549811482429504, 'eval_balanced_accuracy': 0.9837430966912502, 'eval_accuracy': 0.984251968503937, 'eval_runtime': 4.3999, 'eval_samples_per_second': 692.749, 'eval_steps_per_second': 86.594, 'epoch': 1.0}\n"
     ]
    },
    {
     "name": "stderr",
     "output_type": "stream",
     "text": [
      " 44%|████▍     | 1503/3429 [01:40<01:59, 16.18it/s]"
     ]
    },
    {
     "name": "stdout",
     "output_type": "stream",
     "text": [
      "{'loss': 0.1095, 'grad_norm': 0.058605704456567764, 'learning_rate': 5.625546806649169e-05, 'epoch': 1.31}\n"
     ]
    },
    {
     "name": "stderr",
     "output_type": "stream",
     "text": [
      " 58%|█████▊    | 2003/3429 [02:11<01:29, 15.99it/s]"
     ]
    },
    {
     "name": "stdout",
     "output_type": "stream",
     "text": [
      "{'loss': 0.0617, 'grad_norm': 0.3033199906349182, 'learning_rate': 4.167395742198892e-05, 'epoch': 1.75}\n"
     ]
    },
    {
     "name": "stderr",
     "output_type": "stream",
     "text": [
      "                                                   \n",
      " 67%|██████▋   | 2286/3429 [02:34<01:12, 15.68it/s]"
     ]
    },
    {
     "name": "stdout",
     "output_type": "stream",
     "text": [
      "{'eval_loss': 0.1374930590391159, 'eval_balanced_accuracy': 0.9774626522958314, 'eval_accuracy': 0.9763779527559056, 'eval_runtime': 4.4543, 'eval_samples_per_second': 684.277, 'eval_steps_per_second': 85.535, 'epoch': 2.0}\n"
     ]
    },
    {
     "name": "stderr",
     "output_type": "stream",
     "text": [
      " 73%|███████▎  | 2503/3429 [02:48<01:00, 15.30it/s]"
     ]
    },
    {
     "name": "stdout",
     "output_type": "stream",
     "text": [
      "{'loss': 0.0984, 'grad_norm': 0.04770529642701149, 'learning_rate': 2.7092446777486146e-05, 'epoch': 2.19}\n"
     ]
    },
    {
     "name": "stderr",
     "output_type": "stream",
     "text": [
      " 88%|████████▊ | 3003/3429 [03:20<00:25, 16.56it/s]"
     ]
    },
    {
     "name": "stdout",
     "output_type": "stream",
     "text": [
      "{'loss': 0.0455, 'grad_norm': 0.03833915665745735, 'learning_rate': 1.2510936132983377e-05, 'epoch': 2.62}\n"
     ]
    },
    {
     "name": "stderr",
     "output_type": "stream",
     "text": [
      "                                                   \n",
      "100%|██████████| 3429/3429 [03:51<00:00, 16.53it/s]"
     ]
    },
    {
     "name": "stdout",
     "output_type": "stream",
     "text": [
      "{'eval_loss': 0.0800432339310646, 'eval_balanced_accuracy': 0.985718186028187, 'eval_accuracy': 0.9862204724409449, 'eval_runtime': 4.2951, 'eval_samples_per_second': 709.64, 'eval_steps_per_second': 88.705, 'epoch': 3.0}\n"
     ]
    },
    {
     "name": "stderr",
     "output_type": "stream",
     "text": [
      "100%|██████████| 3429/3429 [03:52<00:00, 14.76it/s]\n"
     ]
    },
    {
     "name": "stdout",
     "output_type": "stream",
     "text": [
      "{'train_runtime': 232.303, 'train_samples_per_second': 118.087, 'train_steps_per_second': 14.761, 'train_loss': 0.08170779504383852, 'epoch': 3.0}\n",
      "***** train metrics *****\n",
      "  epoch                    =        3.0\n",
      "  total_flos               =   773610GF\n",
      "  train_loss               =     0.0817\n",
      "  train_runtime            = 0:03:52.30\n",
      "  train_samples            =       9144\n",
      "  train_samples_per_second =    118.087\n",
      "  train_steps_per_second   =     14.761\n"
     ]
    }
   ],
   "source": [
    "tokenizer, model = tokenizer_model('bert')\n",
    "train_model(tokenizer, model, 'bert')\n"
   ]
  },
  {
   "cell_type": "code",
   "execution_count": 25,
   "metadata": {},
   "outputs": [
    {
     "name": "stdout",
     "output_type": "stream",
     "text": [
      "Accuracy: 0.9938\n",
      "Precision: 0.9900\n",
      "Recall: 0.9964\n",
      "F1-Score: 0.9932\n",
      "Confusion Matrix:\n",
      "[[1645   14]\n",
      " [   5 1385]]\n",
      "\n",
      "Classification Report:\n",
      "              precision    recall  f1-score   support\n",
      "\n",
      "           0       1.00      0.99      0.99      1659\n",
      "           1       0.99      1.00      0.99      1390\n",
      "\n",
      "    accuracy                           0.99      3049\n",
      "   macro avg       0.99      0.99      0.99      3049\n",
      "weighted avg       0.99      0.99      0.99      3049\n",
      "\n",
      "Balanced Accuracy Score: 0.9939820295662205\n",
      "Accuracy Score: 0.9937684486716957\n"
     ]
    },
    {
     "name": "stderr",
     "output_type": "stream",
     "text": [
      "C:\\Users\\Potbottom\\AppData\\Local\\Temp\\ipykernel_21064\\2986263682.py:28: SettingWithCopyWarning: \n",
      "A value is trying to be set on a copy of a slice from a DataFrame.\n",
      "Try using .loc[row_indexer,col_indexer] = value instead\n",
      "\n",
      "See the caveats in the documentation: https://pandas.pydata.org/pandas-docs/stable/user_guide/indexing.html#returning-a-view-versus-a-copy\n",
      "  df_test['predictions']=final_outputs.argmax(axis=1).cpu().numpy()\n",
      "C:\\Users\\Potbottom\\AppData\\Local\\Temp\\ipykernel_21064\\2986263682.py:29: SettingWithCopyWarning: \n",
      "A value is trying to be set on a copy of a slice from a DataFrame.\n",
      "Try using .loc[row_indexer,col_indexer] = value instead\n",
      "\n",
      "See the caveats in the documentation: https://pandas.pydata.org/pandas-docs/stable/user_guide/indexing.html#returning-a-view-versus-a-copy\n",
      "  df_test['predictions']=df_test['predictions'].apply(lambda l:category_map[l])\n"
     ]
    },
    {
     "data": {
      "image/png": "[encoded data removed]",
      "text/plain": [
       "<Figure size 640x480 with 2 Axes>"
      ]
     },
     "metadata": {},
     "output_type": "display_data"
    }
   ],
   "source": [
    "make_predictions(tokenizer,model,df_test)\n",
    "get_performance_metrics('bert',df_test)"
   ]
  },
  {
   "cell_type": "markdown",
   "metadata": {},
   "source": [
    "# Roberta"
   ]
  },
  {
   "cell_type": "code",
   "execution_count": 26,
   "metadata": {},
   "outputs": [
    {
     "name": "stdout",
     "output_type": "stream",
     "text": [
      "Training and evaluating roberta...\n"
     ]
    },
    {
     "name": "stderr",
     "output_type": "stream",
     "text": [
      "Some weights of RobertaForSequenceClassification were not initialized from the model checkpoint at roberta-base and are newly initialized: ['classifier.dense.bias', 'classifier.dense.weight', 'classifier.out_proj.bias', 'classifier.out_proj.weight']\n",
      "You should probably TRAIN this model on a down-stream task to be able to use it for predictions and inference.\n",
      "Map: 100%|██████████| 9144/9144 [00:01<00:00, 8069.35 examples/s]\n",
      "Map: 100%|██████████| 3048/3048 [00:00<00:00, 7619.78 examples/s]\n",
      "Map: 100%|██████████| 3049/3049 [00:00<00:00, 7741.78 examples/s]\n",
      "C:\\Users\\Potbottom\\AppData\\Local\\Temp\\ipykernel_21064\\4162890314.py:6: UserWarning: To copy construct from a tensor, it is recommended to use sourceTensor.clone().detach() or sourceTensor.clone().detach().requires_grad_(True), rather than torch.tensor(sourceTensor).\n",
      "  self.class_weights = torch.tensor(class_weights, dtype=torch.float32).to(self.args.device)\n",
      " 15%|█▍        | 502/3429 [00:36<03:36, 13.50it/s]"
     ]
    },
    {
     "name": "stdout",
     "output_type": "stream",
     "text": [
      "{'loss': 0.6386, 'grad_norm': 1.3183048963546753, 'learning_rate': 8.541848935549723e-05, 'epoch': 0.44}\n"
     ]
    },
    {
     "name": "stderr",
     "output_type": "stream",
     "text": [
      " 29%|██▉       | 1002/3429 [01:13<03:01, 13.40it/s]"
     ]
    },
    {
     "name": "stdout",
     "output_type": "stream",
     "text": [
      "{'loss': 0.7037, 'grad_norm': 3.7141973972320557, 'learning_rate': 7.083697871099446e-05, 'epoch': 0.87}\n"
     ]
    },
    {
     "name": "stderr",
     "output_type": "stream",
     "text": [
      " 33%|███▎      | 1142/3429 [01:23<02:56, 12.95it/s]c:\\Users\\Potbottom\\AppData\\Local\\Programs\\Python\\Python312\\Lib\\site-packages\\sklearn\\metrics\\_classification.py:2466: UserWarning: y_pred contains classes not in y_true\n",
      "  warnings.warn(\"y_pred contains classes not in y_true\")\n",
      "\n",
      " 33%|███▎      | 1143/3429 [01:29<02:56, 12.95it/s]"
     ]
    },
    {
     "name": "stdout",
     "output_type": "stream",
     "text": [
      "{'eval_loss': 0.7053651213645935, 'eval_balanced_accuracy': 0.463254593175853, 'eval_accuracy': 0.463254593175853, 'eval_runtime': 5.1947, 'eval_samples_per_second': 586.757, 'eval_steps_per_second': 73.345, 'epoch': 1.0}\n"
     ]
    },
    {
     "name": "stderr",
     "output_type": "stream",
     "text": [
      " 44%|████▍     | 1502/3429 [01:57<02:26, 13.13it/s]"
     ]
    },
    {
     "name": "stdout",
     "output_type": "stream",
     "text": [
      "{'loss': 0.7, 'grad_norm': 1.1027722358703613, 'learning_rate': 5.625546806649169e-05, 'epoch': 1.31}\n"
     ]
    },
    {
     "name": "stderr",
     "output_type": "stream",
     "text": [
      " 58%|█████▊    | 2002/3429 [02:33<01:42, 13.88it/s]"
     ]
    },
    {
     "name": "stdout",
     "output_type": "stream",
     "text": [
      "{'loss': 0.6523, 'grad_norm': 0.43915224075317383, 'learning_rate': 4.167395742198892e-05, 'epoch': 1.75}\n"
     ]
    },
    {
     "name": "stderr",
     "output_type": "stream",
     "text": [
      " 67%|██████▋   | 2286/3429 [02:54<01:20, 14.13it/s]\n",
      " 67%|██████▋   | 2286/3429 [02:59<01:20, 14.13it/s]"
     ]
    },
    {
     "name": "stdout",
     "output_type": "stream",
     "text": [
      "{'eval_loss': 0.21930059790611267, 'eval_balanced_accuracy': 0.953652559489383, 'eval_accuracy': 0.9543963254593176, 'eval_runtime': 4.8604, 'eval_samples_per_second': 627.105, 'eval_steps_per_second': 78.388, 'epoch': 2.0}\n"
     ]
    },
    {
     "name": "stderr",
     "output_type": "stream",
     "text": [
      " 73%|███████▎  | 2502/3429 [03:16<01:06, 13.93it/s]"
     ]
    },
    {
     "name": "stdout",
     "output_type": "stream",
     "text": [
      "{'loss': 0.1815, 'grad_norm': 0.2962058484554291, 'learning_rate': 2.7092446777486146e-05, 'epoch': 2.19}\n"
     ]
    },
    {
     "name": "stderr",
     "output_type": "stream",
     "text": [
      " 88%|████████▊ | 3002/3429 [03:53<00:31, 13.65it/s]"
     ]
    },
    {
     "name": "stdout",
     "output_type": "stream",
     "text": [
      "{'loss': 0.1823, 'grad_norm': 0.7499057650566101, 'learning_rate': 1.2510936132983377e-05, 'epoch': 2.62}\n"
     ]
    },
    {
     "name": "stderr",
     "output_type": "stream",
     "text": [
      "100%|█████████▉| 3428/3429 [04:25<00:00, 13.85it/s]\n",
      "100%|██████████| 3429/3429 [04:30<00:00, 13.85it/s]"
     ]
    },
    {
     "name": "stdout",
     "output_type": "stream",
     "text": [
      "{'eval_loss': 0.3406619131565094, 'eval_balanced_accuracy': 0.8860418216145088, 'eval_accuracy': 0.8648293963254593, 'eval_runtime': 4.7645, 'eval_samples_per_second': 639.731, 'eval_steps_per_second': 79.966, 'epoch': 3.0}\n"
     ]
    },
    {
     "name": "stderr",
     "output_type": "stream",
     "text": [
      "100%|██████████| 3429/3429 [04:31<00:00, 12.61it/s]\n"
     ]
    },
    {
     "name": "stdout",
     "output_type": "stream",
     "text": [
      "{'train_runtime': 271.8749, 'train_samples_per_second': 100.899, 'train_steps_per_second': 12.612, 'train_loss': 0.4816297796454642, 'epoch': 3.0}\n",
      "***** train metrics *****\n",
      "  epoch                    =        3.0\n",
      "  total_flos               =   776769GF\n",
      "  train_loss               =     0.4816\n",
      "  train_runtime            = 0:04:31.87\n",
      "  train_samples            =       9144\n",
      "  train_samples_per_second =    100.899\n",
      "  train_steps_per_second   =     12.612\n"
     ]
    }
   ],
   "source": [
    "tokenizer, model = tokenizer_model('roberta')\n",
    "train_model(tokenizer, model, 'roberta')\n"
   ]
  },
  {
   "cell_type": "code",
   "execution_count": 27,
   "metadata": {},
   "outputs": [
    {
     "name": "stdout",
     "output_type": "stream",
     "text": [
      "Accuracy: 0.9649\n",
      "Precision: 0.9579\n",
      "Recall: 0.9655\n",
      "F1-Score: 0.9617\n",
      "Confusion Matrix:\n",
      "[[1600   59]\n",
      " [  48 1342]]\n",
      "\n",
      "Classification Report:\n",
      "              precision    recall  f1-score   support\n",
      "\n",
      "           0       0.97      0.96      0.97      1659\n",
      "           1       0.96      0.97      0.96      1390\n",
      "\n",
      "    accuracy                           0.96      3049\n",
      "   macro avg       0.96      0.96      0.96      3049\n",
      "weighted avg       0.96      0.96      0.96      3049\n",
      "\n",
      "Balanced Accuracy Score: 0.9649520166868314\n",
      "Accuracy Score: 0.9649065267300755\n"
     ]
    },
    {
     "name": "stderr",
     "output_type": "stream",
     "text": [
      "C:\\Users\\Potbottom\\AppData\\Local\\Temp\\ipykernel_21064\\2986263682.py:28: SettingWithCopyWarning: \n",
      "A value is trying to be set on a copy of a slice from a DataFrame.\n",
      "Try using .loc[row_indexer,col_indexer] = value instead\n",
      "\n",
      "See the caveats in the documentation: https://pandas.pydata.org/pandas-docs/stable/user_guide/indexing.html#returning-a-view-versus-a-copy\n",
      "  df_test['predictions']=final_outputs.argmax(axis=1).cpu().numpy()\n",
      "C:\\Users\\Potbottom\\AppData\\Local\\Temp\\ipykernel_21064\\2986263682.py:29: SettingWithCopyWarning: \n",
      "A value is trying to be set on a copy of a slice from a DataFrame.\n",
      "Try using .loc[row_indexer,col_indexer] = value instead\n",
      "\n",
      "See the caveats in the documentation: https://pandas.pydata.org/pandas-docs/stable/user_guide/indexing.html#returning-a-view-versus-a-copy\n",
      "  df_test['predictions']=df_test['predictions'].apply(lambda l:category_map[l])\n"
     ]
    },
    {
     "data": {
      "image/png": "[encoded data removed]",
      "text/plain": [
       "<Figure size 640x480 with 2 Axes>"
      ]
     },
     "metadata": {},
     "output_type": "display_data"
    }
   ],
   "source": [
    "make_predictions(tokenizer,model,df_test)\n",
    "get_performance_metrics('roberta', df_test)"
   ]
  },
  {
   "cell_type": "markdown",
   "metadata": {},
   "source": [
    "# Distilbert"
   ]
  },
  {
   "cell_type": "code",
   "execution_count": 28,
   "metadata": {},
   "outputs": [
    {
     "name": "stdout",
     "output_type": "stream",
     "text": [
      "Training and evaluating distilbert...\n"
     ]
    },
    {
     "name": "stderr",
     "output_type": "stream",
     "text": [
      "Some weights of DistilBertForSequenceClassification were not initialized from the model checkpoint at distilbert-base-uncased and are newly initialized: ['classifier.bias', 'classifier.weight', 'pre_classifier.bias', 'pre_classifier.weight']\n",
      "You should probably TRAIN this model on a down-stream task to be able to use it for predictions and inference.\n",
      "Map: 100%|██████████| 9144/9144 [00:02<00:00, 4298.67 examples/s]\n",
      "Map: 100%|██████████| 3048/3048 [00:00<00:00, 4490.59 examples/s]\n",
      "Map: 100%|██████████| 3049/3049 [00:00<00:00, 4337.02 examples/s]\n",
      "C:\\Users\\Potbottom\\AppData\\Local\\Temp\\ipykernel_21064\\4162890314.py:6: UserWarning: To copy construct from a tensor, it is recommended to use sourceTensor.clone().detach() or sourceTensor.clone().detach().requires_grad_(True), rather than torch.tensor(sourceTensor).\n",
      "  self.class_weights = torch.tensor(class_weights, dtype=torch.float32).to(self.args.device)\n",
      " 15%|█▍        | 503/3429 [00:20<02:03, 23.72it/s]"
     ]
    },
    {
     "name": "stdout",
     "output_type": "stream",
     "text": [
      "{'loss': 0.0891, 'grad_norm': 0.00795496441423893, 'learning_rate': 8.541848935549723e-05, 'epoch': 0.44}\n"
     ]
    },
    {
     "name": "stderr",
     "output_type": "stream",
     "text": [
      " 29%|██▉       | 1005/3429 [00:40<01:34, 25.78it/s]"
     ]
    },
    {
     "name": "stdout",
     "output_type": "stream",
     "text": [
      "{'loss': 0.05, 'grad_norm': 0.009871934540569782, 'learning_rate': 7.083697871099446e-05, 'epoch': 0.87}\n"
     ]
    },
    {
     "name": "stderr",
     "output_type": "stream",
     "text": [
      " 33%|███▎      | 1143/3429 [00:45<01:30, 25.38it/s]\n",
      " 33%|███▎      | 1143/3429 [00:48<01:30, 25.38it/s]"
     ]
    },
    {
     "name": "stdout",
     "output_type": "stream",
     "text": [
      "{'eval_loss': 0.07471075654029846, 'eval_balanced_accuracy': 0.9863074151543363, 'eval_accuracy': 0.9868766404199475, 'eval_runtime': 2.8443, 'eval_samples_per_second': 1071.621, 'eval_steps_per_second': 133.953, 'epoch': 1.0}\n"
     ]
    },
    {
     "name": "stderr",
     "output_type": "stream",
     "text": [
      " 44%|████▍     | 1504/3429 [01:03<01:16, 25.27it/s]"
     ]
    },
    {
     "name": "stdout",
     "output_type": "stream",
     "text": [
      "{'loss': 0.0424, 'grad_norm': 0.01170080155134201, 'learning_rate': 5.625546806649169e-05, 'epoch': 1.31}\n"
     ]
    },
    {
     "name": "stderr",
     "output_type": "stream",
     "text": [
      " 58%|█████▊    | 2005/3429 [01:23<00:54, 26.02it/s]"
     ]
    },
    {
     "name": "stdout",
     "output_type": "stream",
     "text": [
      "{'loss': 0.0163, 'grad_norm': 0.0162111297249794, 'learning_rate': 4.167395742198892e-05, 'epoch': 1.75}\n"
     ]
    },
    {
     "name": "stderr",
     "output_type": "stream",
     "text": [
      " 67%|██████▋   | 2284/3429 [01:34<00:44, 25.85it/s]\n",
      " 67%|██████▋   | 2286/3429 [01:37<00:44, 25.85it/s]"
     ]
    },
    {
     "name": "stdout",
     "output_type": "stream",
     "text": [
      "{'eval_loss': 0.052080124616622925, 'eval_balanced_accuracy': 0.9897542506936821, 'eval_accuracy': 0.9901574803149606, 'eval_runtime': 2.8968, 'eval_samples_per_second': 1052.2, 'eval_steps_per_second': 131.525, 'epoch': 2.0}\n"
     ]
    },
    {
     "name": "stderr",
     "output_type": "stream",
     "text": [
      " 73%|███████▎  | 2503/3429 [01:46<00:36, 25.72it/s]"
     ]
    },
    {
     "name": "stdout",
     "output_type": "stream",
     "text": [
      "{'loss': 0.0195, 'grad_norm': 0.017257127910852432, 'learning_rate': 2.7092446777486146e-05, 'epoch': 2.19}\n"
     ]
    },
    {
     "name": "stderr",
     "output_type": "stream",
     "text": [
      " 88%|████████▊ | 3005/3429 [02:05<00:15, 26.77it/s]"
     ]
    },
    {
     "name": "stdout",
     "output_type": "stream",
     "text": [
      "{'loss': 0.0099, 'grad_norm': 0.004308411385864019, 'learning_rate': 1.2510936132983377e-05, 'epoch': 2.62}\n"
     ]
    },
    {
     "name": "stderr",
     "output_type": "stream",
     "text": [
      "100%|█████████▉| 3428/3429 [02:22<00:00, 25.91it/s]\n",
      "100%|██████████| 3429/3429 [02:25<00:00, 25.91it/s]"
     ]
    },
    {
     "name": "stdout",
     "output_type": "stream",
     "text": [
      "{'eval_loss': 0.06303606182336807, 'eval_balanced_accuracy': 0.9902414264563465, 'eval_accuracy': 0.990485564304462, 'eval_runtime': 2.7858, 'eval_samples_per_second': 1094.132, 'eval_steps_per_second': 136.767, 'epoch': 3.0}\n"
     ]
    },
    {
     "name": "stderr",
     "output_type": "stream",
     "text": [
      "100%|██████████| 3429/3429 [02:25<00:00, 23.50it/s]"
     ]
    },
    {
     "name": "stdout",
     "output_type": "stream",
     "text": [
      "{'train_runtime': 145.9374, 'train_samples_per_second': 187.971, 'train_steps_per_second': 23.496, 'train_loss': 0.03483114954541535, 'epoch': 3.0}\n",
      "***** train metrics *****\n",
      "  epoch                    =        3.0\n",
      "  total_flos               =   389486GF\n",
      "  train_loss               =     0.0348\n",
      "  train_runtime            = 0:02:25.93\n",
      "  train_samples            =       9144\n",
      "  train_samples_per_second =    187.971\n",
      "  train_steps_per_second   =     23.496\n"
     ]
    },
    {
     "name": "stderr",
     "output_type": "stream",
     "text": [
      "\n"
     ]
    }
   ],
   "source": [
    "tokenizer, model = tokenizer_model('distilbert')\n",
    "train_model(tokenizer, model, 'distilbert')\n"
   ]
  },
  {
   "cell_type": "code",
   "execution_count": 29,
   "metadata": {},
   "outputs": [
    {
     "name": "stdout",
     "output_type": "stream",
     "text": [
      "Accuracy: 0.9934\n",
      "Precision: 0.9893\n",
      "Recall: 0.9964\n",
      "F1-Score: 0.9928\n",
      "Confusion Matrix:\n",
      "[[1644   15]\n",
      " [   5 1385]]\n",
      "\n",
      "Classification Report:\n",
      "              precision    recall  f1-score   support\n",
      "\n",
      "           0       1.00      0.99      0.99      1659\n",
      "           1       0.99      1.00      0.99      1390\n",
      "\n",
      "    accuracy                           0.99      3049\n",
      "   macro avg       0.99      0.99      0.99      3049\n",
      "weighted avg       0.99      0.99      0.99      3049\n",
      "\n",
      "Balanced Accuracy Score: 0.9936806431888847\n",
      "Accuracy Score: 0.9934404722859954\n"
     ]
    },
    {
     "name": "stderr",
     "output_type": "stream",
     "text": [
      "C:\\Users\\Potbottom\\AppData\\Local\\Temp\\ipykernel_21064\\2986263682.py:28: SettingWithCopyWarning: \n",
      "A value is trying to be set on a copy of a slice from a DataFrame.\n",
      "Try using .loc[row_indexer,col_indexer] = value instead\n",
      "\n",
      "See the caveats in the documentation: https://pandas.pydata.org/pandas-docs/stable/user_guide/indexing.html#returning-a-view-versus-a-copy\n",
      "  df_test['predictions']=final_outputs.argmax(axis=1).cpu().numpy()\n",
      "C:\\Users\\Potbottom\\AppData\\Local\\Temp\\ipykernel_21064\\2986263682.py:29: SettingWithCopyWarning: \n",
      "A value is trying to be set on a copy of a slice from a DataFrame.\n",
      "Try using .loc[row_indexer,col_indexer] = value instead\n",
      "\n",
      "See the caveats in the documentation: https://pandas.pydata.org/pandas-docs/stable/user_guide/indexing.html#returning-a-view-versus-a-copy\n",
      "  df_test['predictions']=df_test['predictions'].apply(lambda l:category_map[l])\n"
     ]
    },
    {
     "data": {
      "image/png": "[encoded data removed]",
      "text/plain": [
       "<Figure size 640x480 with 2 Axes>"
      ]
     },
     "metadata": {},
     "output_type": "display_data"
    }
   ],
   "source": [
    "make_predictions(tokenizer,model,df_test)\n",
    "get_performance_metrics('distilber', df_test)"
   ]
  },
  {
   "cell_type": "markdown",
   "metadata": {},
   "source": [
    "# Plot evaluation comparison"
   ]
  },
  {
   "cell_type": "code",
   "execution_count": 30,
   "metadata": {},
   "outputs": [
    {
     "data": {
      "image/png": "[encoded data removed]",
      "text/plain": [
       "<Figure size 1000x400 with 1 Axes>"
      ]
     },
     "metadata": {},
     "output_type": "display_data"
    },
    {
     "data": {
      "image/png": "[encoded data removed]",
      "text/plain": [
       "<Figure size 1000x400 with 1 Axes>"
      ]
     },
     "metadata": {},
     "output_type": "display_data"
    },
    {
     "data": {
      "image/png": "[encoded data removed]",
      "text/plain": [
       "<Figure size 1000x400 with 1 Axes>"
      ]
     },
     "metadata": {},
     "output_type": "display_data"
    },
    {
     "data": {
      "image/png": "[encoded data removed]",
      "text/plain": [
       "<Figure size 1000x400 with 1 Axes>"
      ]
     },
     "metadata": {},
     "output_type": "display_data"
    }
   ],
   "source": [
    "# Plot the evaluation metrics\n",
    "metrics = ['accuracy', 'precision', 'recall', 'f1_score']\n",
    "for metric in metrics:\n",
    "    plt.figure(figsize=(10, 4))\n",
    "    bars = plt.bar(evaluation_results.keys(), [evaluation_results[model][metric] for model in evaluation_results], color=['blue', 'green', 'red', 'purple', 'yellow'])\n",
    "    \n",
    "  # Add data labels above each bar for clarity\n",
    "    for bar in bars:\n",
    "        yval = bar.get_height()\n",
    "        plt.text(bar.get_x() + bar.get_width()/2, yval + 0.001, round(yval, 3), ha='center', va='bottom')\n",
    "\n",
    "    plt.xlabel('Model', fontsize=14)\n",
    "    plt.ylabel(metric.capitalize(), fontsize=14)\n",
    "    plt.title(f'Comparison of Model {metric.capitalize()} on Scam Detection', fontsize=16)\n",
    "    plt.ylim(0.9, 1)  # Set y-axis limit to make differences more distinct\n",
    "    plt.xticks(fontsize=12)\n",
    "    plt.yticks(fontsize=12)\n",
    "    plt.tight_layout()\n",
    "    plt.show()"
   ]
  }
 ],
 "metadata": {
  "kernelspec": {
   "display_name": "Python 3",
   "language": "python",
   "name": "python3"
  },
  "language_info": {
   "codemirror_mode": {
    "name": "ipython",
    "version": 3
   },
   "file_extension": ".py",
   "mimetype": "text/x-python",
   "name": "python",
   "nbconvert_exporter": "python",
   "pygments_lexer": "ipython3",
   "version": "3.12.3"
  }
 },
 "nbformat": 4,
 "nbformat_minor": 2
}
