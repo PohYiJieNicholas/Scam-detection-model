{
 "cells": [
  {
   "cell_type": "code",
   "execution_count": 1,
   "metadata": {},
   "outputs": [
    {
     "name": "stderr",
     "output_type": "stream",
     "text": [
      "[nltk_data] Downloading package punkt to /Users/nicholas/nltk_data...\n",
      "[nltk_data]   Package punkt is already up-to-date!\n",
      "[nltk_data] Downloading package stopwords to\n",
      "[nltk_data]     /Users/nicholas/nltk_data...\n",
      "[nltk_data]   Package stopwords is already up-to-date!\n"
     ]
    },
    {
     "data": {
      "text/plain": [
       "0        go jurong point crazi avail bugi n great world...\n",
       "1                                    ok lar joke wif u oni\n",
       "2        free entri wkli comp win fa cup final tkt may ...\n",
       "3                      u dun say earli hor u c alreadi say\n",
       "4                   nah i think goe usf live around though\n",
       "                               ...                        \n",
       "11489                           get inr voucher pleas call\n",
       "11490    get free access googl cloud account hit given ...\n",
       "11491    get free aw cloud account hit given messag box...\n",
       "11492    get free access microsoft azur hit given messa...\n",
       "11493    hello sir bank fill applic form credit card ve...\n",
       "Name: processed_message, Length: 11494, dtype: object"
      ]
     },
     "execution_count": 1,
     "metadata": {},
     "output_type": "execute_result"
    }
   ],
   "source": [
    "import pandas as pd\n",
    "import numpy as np\n",
    "\n",
    "from sklearn.feature_extraction.text import TfidfVectorizer\n",
    "from sklearn.svm import SVC\n",
    "from sklearn.metrics import accuracy_score, classification_report\n",
    "\n",
    "import nltk\n",
    "from nltk.stem import PorterStemmer\n",
    "from nltk.corpus import stopwords\n",
    "from nltk.tokenize import word_tokenize\n",
    "\n",
    "# Preprocess messages\n",
    "nltk.download('punkt')\n",
    "nltk.download('stopwords')\n",
    "\n",
    "# Load dataset\n",
    "df = pd.read_csv('ScamDataset', sep='\\t', names=['Label', 'message'])\n",
    "\n",
    "\n",
    "\n",
    "stemmer = PorterStemmer()\n",
    "stop_words = set(stopwords.words('english'))\n",
    "\n",
    "def preprocess(text):\n",
    "    tokens = word_tokenize(text)\n",
    "    stemmed = [stemmer.stem(word) for word in tokens if word.isalpha() and word not in stop_words]\n",
    "    return ' '.join(stemmed)\n",
    "\n",
    "df['processed_message'] = df['message'].apply(preprocess)\n",
    "df['processed_message']\n",
    "# df['Label'] = df['Label'].map({'normal': 0, 'fraud': 1})\n",
    "\n",
    "# df['Label']\n",
    "\n",
    "# # Count the number of 'fraud' entries\n",
    "# fraud_count = (df['Label'] == 1).sum()\n",
    "# non_fraud_count = (df['Label'] == 0).sum()\n",
    "# print(f'Number of fraud data: {fraud_count}')\n",
    "# print(f'Number of non fraud data: {non_fraud_count}')"
   ]
  },
  {
   "cell_type": "code",
   "execution_count": 2,
   "metadata": {},
   "outputs": [],
   "source": [
    "# Vectorize messages\n",
    "vectorizer = TfidfVectorizer(max_features=1000)\n",
    "X = vectorizer.fit_transform(df['processed_message']).toarray()\n",
    "df['Label'] = df['Label'].map({'normal': 0, 'fraud': 1})  # Adjust as necessary based on your actual labels\n",
    "\n",
    "y = df['Label']"
   ]
  },
  {
   "cell_type": "code",
   "execution_count": 3,
   "metadata": {},
   "outputs": [],
   "source": [
    "from sklearn.model_selection import train_test_split\n",
    "\n",
    "# Split dataset\n",
    "X_train, X_test, y_train, y_test = train_test_split(X, y, test_size=0.25, random_state=42)"
   ]
  },
  {
   "cell_type": "code",
   "execution_count": 4,
   "metadata": {},
   "outputs": [],
   "source": [
    "\n",
    "\n",
    "# Initialize an empty dictionary to store accuracies\n",
    "accuracies = {}\n",
    "\n",
    "# Initialize an empty dictionary to store loss\n",
    "loss = {}"
   ]
  },
  {
   "cell_type": "code",
   "execution_count": 5,
   "metadata": {},
   "outputs": [
    {
     "name": "stdout",
     "output_type": "stream",
     "text": [
      "Naive Bayes Accuracy: 0.9805\n",
      "Classification Report:\n",
      "               precision    recall  f1-score   support\n",
      "\n",
      "           0       0.98      1.00      0.99      2536\n",
      "           1       0.98      0.85      0.91       338\n",
      "\n",
      "    accuracy                           0.98      2874\n",
      "   macro avg       0.98      0.92      0.95      2874\n",
      "weighted avg       0.98      0.98      0.98      2874\n",
      "\n"
     ]
    }
   ],
   "source": [
    "from sklearn.naive_bayes import MultinomialNB\n",
    "\n",
    "# Naive Bayes\n",
    "model = MultinomialNB()\n",
    "model.fit(X_train, y_train)\n",
    "y_pred = model.predict(X_test)\n",
    "accuracy = accuracy_score(y_test, y_pred)\n",
    "accuracies['NB'] = accuracy\n",
    "print(f\"Naive Bayes Accuracy: {accuracy:.4f}\")\n",
    "print(\"Classification Report:\\n\", classification_report(y_test, y_pred))\n",
    "\n"
   ]
  },
  {
   "cell_type": "code",
   "execution_count": 6,
   "metadata": {},
   "outputs": [
    {
     "name": "stdout",
     "output_type": "stream",
     "text": [
      "SVC: 0.9864\n",
      "Classification Report:\n",
      "               precision    recall  f1-score   support\n",
      "\n",
      "           0       0.99      1.00      0.99      2536\n",
      "           1       0.98      0.91      0.94       338\n",
      "\n",
      "    accuracy                           0.99      2874\n",
      "   macro avg       0.98      0.95      0.97      2874\n",
      "weighted avg       0.99      0.99      0.99      2874\n",
      "\n"
     ]
    }
   ],
   "source": [
    "from sklearn.svm import SVC\n",
    "\n",
    "#SVC\n",
    "model = SVC(kernel='linear')\n",
    "model.fit(X_train, y_train)\n",
    "y_pred = model.predict(X_test)\n",
    "accuracy = accuracy_score(y_test, y_pred)\n",
    "accuracies['SVC'] = accuracy\n",
    "print(f\"SVC: {accuracy:.4f}\")\n",
    "print(\"Classification Report:\\n\", classification_report(y_test, y_pred))\n"
   ]
  },
  {
   "cell_type": "code",
   "execution_count": 7,
   "metadata": {},
   "outputs": [
    {
     "name": "stdout",
     "output_type": "stream",
     "text": [
      "Random Forest Classifier: 0.9903\n",
      "Classification Report:\n",
      "               precision    recall  f1-score   support\n",
      "\n",
      "           0       0.99      1.00      0.99      2536\n",
      "           1       0.98      0.93      0.96       338\n",
      "\n",
      "    accuracy                           0.99      2874\n",
      "   macro avg       0.99      0.96      0.98      2874\n",
      "weighted avg       0.99      0.99      0.99      2874\n",
      "\n"
     ]
    }
   ],
   "source": [
    "from sklearn.ensemble import RandomForestClassifier\n",
    "\n",
    "#Random Forest\n",
    "model = RandomForestClassifier()\n",
    "model.fit(X_train, y_train)\n",
    "y_pred = model.predict(X_test)\n",
    "accuracy = accuracy_score(y_test, y_pred)\n",
    "accuracies['Random Forest'] = accuracy\n",
    "print(f\"Random Forest Classifier: {accuracy:.4f}\")\n",
    "print(\"Classification Report:\\n\", classification_report(y_test, y_pred))\n"
   ]
  },
  {
   "cell_type": "code",
   "execution_count": 8,
   "metadata": {},
   "outputs": [
    {
     "name": "stdout",
     "output_type": "stream",
     "text": [
      "Logistic Regression: 0.9743\n",
      "Classification Report:\n",
      "               precision    recall  f1-score   support\n",
      "\n",
      "           0       0.97      1.00      0.99      2536\n",
      "           1       0.98      0.80      0.88       338\n",
      "\n",
      "    accuracy                           0.97      2874\n",
      "   macro avg       0.98      0.90      0.93      2874\n",
      "weighted avg       0.97      0.97      0.97      2874\n",
      "\n"
     ]
    }
   ],
   "source": [
    "from sklearn.linear_model import LogisticRegression\n",
    "\n",
    "#Logistic Regression\n",
    "model = LogisticRegression()\n",
    "model.fit(X_train, y_train)\n",
    "y_pred = model.predict(X_test)\n",
    "accuracy = accuracy_score(y_test, y_pred)\n",
    "accuracies['Logistic Regression'] = accuracy\n",
    "print(f\"Logistic Regression: {accuracy:.4f}\")\n",
    "print(\"Classification Report:\\n\", classification_report(y_test, y_pred))\n"
   ]
  },
  {
   "cell_type": "code",
   "execution_count": 9,
   "metadata": {},
   "outputs": [
    {
     "name": "stdout",
     "output_type": "stream",
     "text": [
      "Epoch 1/10\n",
      "130/130 - 11s - loss: 0.1631 - accuracy: 0.9459 - val_loss: 0.0413 - val_accuracy: 0.9891 - 11s/epoch - 83ms/step\n",
      "Epoch 2/10\n",
      "130/130 - 10s - loss: 0.0426 - accuracy: 0.9886 - val_loss: 0.0372 - val_accuracy: 0.9902 - 10s/epoch - 80ms/step\n",
      "Epoch 3/10\n",
      "130/130 - 10s - loss: 0.0286 - accuracy: 0.9921 - val_loss: 0.0255 - val_accuracy: 0.9935 - 10s/epoch - 79ms/step\n",
      "Epoch 4/10\n",
      "130/130 - 10s - loss: 0.0227 - accuracy: 0.9949 - val_loss: 0.0249 - val_accuracy: 0.9935 - 10s/epoch - 79ms/step\n",
      "Epoch 5/10\n",
      "130/130 - 10s - loss: 0.0171 - accuracy: 0.9955 - val_loss: 0.0383 - val_accuracy: 0.9902 - 10s/epoch - 79ms/step\n",
      "Epoch 6/10\n",
      "130/130 - 10s - loss: 0.0147 - accuracy: 0.9959 - val_loss: 0.0257 - val_accuracy: 0.9924 - 10s/epoch - 77ms/step\n",
      "Epoch 7/10\n",
      "130/130 - 10s - loss: 0.0117 - accuracy: 0.9967 - val_loss: 0.0211 - val_accuracy: 0.9946 - 10s/epoch - 76ms/step\n",
      "Epoch 8/10\n",
      "130/130 - 10s - loss: 0.0101 - accuracy: 0.9975 - val_loss: 0.0272 - val_accuracy: 0.9935 - 10s/epoch - 76ms/step\n",
      "Epoch 9/10\n",
      "130/130 - 10s - loss: 0.0114 - accuracy: 0.9963 - val_loss: 0.0263 - val_accuracy: 0.9935 - 10s/epoch - 77ms/step\n",
      "Epoch 10/10\n",
      "130/130 - 10s - loss: 0.0085 - accuracy: 0.9976 - val_loss: 0.0267 - val_accuracy: 0.9924 - 10s/epoch - 77ms/step\n",
      "Epoch 10: early stopping\n",
      "LSTM Model Accuracy: 0.9891\n"
     ]
    }
   ],
   "source": [
    "from tensorflow.keras.models import Sequential\n",
    "from tensorflow.keras.layers import Dense, LSTM, Embedding, SpatialDropout1D\n",
    "from tensorflow.keras.preprocessing.sequence import pad_sequences\n",
    "from tensorflow.keras.preprocessing.text import Tokenizer\n",
    "from tensorflow.keras.callbacks import EarlyStopping\n",
    "\n",
    "# Deep Learning Model: Simple LSTM\n",
    "# Tokenize text\n",
    "tokenizer = Tokenizer(num_words=1000)\n",
    "tokenizer.fit_on_texts(df['message'])\n",
    "X = tokenizer.texts_to_sequences(df['message'])\n",
    "X = pad_sequences(X, maxlen=50)\n",
    "\n",
    "# Split dataset 80:20\n",
    "X_train, X_test, y_train, y_test = train_test_split(X, df['Label'], test_size=0.2, random_state=42)\n",
    "\n",
    "\n",
    "# Build LSTM model\n",
    "model = Sequential()\n",
    "model.add(Embedding(1000, 128, input_length=50))\n",
    "model.add(SpatialDropout1D(0.2))\n",
    "model.add(LSTM(100, dropout=0.2, recurrent_dropout=0.2))\n",
    "model.add(Dense(1, activation='sigmoid'))\n",
    "\n",
    "model.compile(loss='binary_crossentropy', optimizer='adam', metrics=['accuracy'])\n",
    "\n",
    "# Train\n",
    "early_stop = EarlyStopping(monitor='val_loss', patience=3, verbose=1)\n",
    "history = model.fit(X_train, y_train, epochs=10, batch_size=64, validation_split=0.1, callbacks=[early_stop], verbose=2)\n",
    "\n",
    "# Evaluate\n",
    "loss, accuracy = model.evaluate(X_test, y_test, verbose=0)\n",
    "\n",
    "print(f\"LSTM Model Accuracy: {accuracy:.4f}\")\n"
   ]
  },
  {
   "cell_type": "code",
   "execution_count": 10,
   "metadata": {},
   "outputs": [
    {
     "name": "stdout",
     "output_type": "stream",
     "text": [
      "Epoch 1/10\n",
      "114/114 - 9s - loss: 0.0084 - accuracy: 0.9978 - val_loss: 0.0322 - val_accuracy: 0.9938 - 9s/epoch - 78ms/step\n",
      "Epoch 2/10\n",
      "114/114 - 9s - loss: 0.0087 - accuracy: 0.9977 - val_loss: 0.0291 - val_accuracy: 0.9925 - 9s/epoch - 78ms/step\n",
      "Epoch 3/10\n",
      "114/114 - 9s - loss: 0.0077 - accuracy: 0.9974 - val_loss: 0.0353 - val_accuracy: 0.9888 - 9s/epoch - 78ms/step\n",
      "Epoch 4/10\n",
      "114/114 - 9s - loss: 0.0089 - accuracy: 0.9974 - val_loss: 0.0337 - val_accuracy: 0.9888 - 9s/epoch - 78ms/step\n",
      "Epoch 5/10\n",
      "114/114 - 9s - loss: 0.0057 - accuracy: 0.9983 - val_loss: 0.0356 - val_accuracy: 0.9888 - 9s/epoch - 77ms/step\n",
      "Epoch 5: early stopping\n",
      "LSTM Model Accuracy: 0.9933\n"
     ]
    }
   ],
   "source": [
    "\n",
    "# Split dataset 70:30\n",
    "X_train2, X_test2, y_train2, y_test2 = train_test_split(X, df['Label'], test_size=0.3, random_state=42)\n",
    "\n",
    "history = model.fit(X_train2, y_train2, epochs=10, batch_size=64, validation_split=0.1, callbacks=[early_stop], verbose=2)\n",
    "\n",
    "# Evaluate\n",
    "loss, accuracy = model.evaluate(X_test2, y_test2, verbose=0)\n",
    "print(f\"LSTM Model Accuracy: {accuracy:.4f}\")\n"
   ]
  },
  {
   "cell_type": "code",
   "execution_count": 11,
   "metadata": {},
   "outputs": [
    {
     "name": "stdout",
     "output_type": "stream",
     "text": [
      "Epoch 1/10\n",
      "122/122 - 9s - loss: 0.0046 - accuracy: 0.9988 - val_loss: 0.0385 - val_accuracy: 0.9907 - 9s/epoch - 77ms/step\n",
      "Epoch 2/10\n",
      "122/122 - 9s - loss: 0.0033 - accuracy: 0.9988 - val_loss: 0.0476 - val_accuracy: 0.9896 - 9s/epoch - 77ms/step\n",
      "Epoch 3/10\n",
      "122/122 - 9s - loss: 0.0037 - accuracy: 0.9988 - val_loss: 0.0424 - val_accuracy: 0.9907 - 9s/epoch - 77ms/step\n",
      "Epoch 4/10\n",
      "122/122 - 9s - loss: 0.0037 - accuracy: 0.9988 - val_loss: 0.0353 - val_accuracy: 0.9919 - 9s/epoch - 77ms/step\n",
      "Epoch 5/10\n",
      "122/122 - 9s - loss: 0.0033 - accuracy: 0.9988 - val_loss: 0.0354 - val_accuracy: 0.9884 - 9s/epoch - 76ms/step\n",
      "Epoch 6/10\n",
      "122/122 - 9s - loss: 0.0036 - accuracy: 0.9988 - val_loss: 0.0355 - val_accuracy: 0.9884 - 9s/epoch - 77ms/step\n",
      "Epoch 7/10\n",
      "122/122 - 9s - loss: 0.0064 - accuracy: 0.9976 - val_loss: 0.0685 - val_accuracy: 0.9884 - 9s/epoch - 77ms/step\n",
      "Epoch 7: early stopping\n",
      "LSTM Model Accuracy: 0.9885\n"
     ]
    }
   ],
   "source": [
    "# Split dataset 75:25\n",
    "X_train2, X_test2, y_train2, y_test2 = train_test_split(X, df['Label'], test_size=0.25, random_state=42)\n",
    "\n",
    "history = model.fit(X_train2, y_train2, epochs=10, batch_size=64, validation_split=0.1, callbacks=[early_stop], verbose=2)\n",
    "\n",
    "# Evaluate\n",
    "loss, accuracy = model.evaluate(X_test2, y_test2, verbose=0)\n",
    "accuracies['LSTM'] = accuracy\n",
    "\n",
    "print(f\"LSTM Model Accuracy: {accuracy:.4f}\")"
   ]
  },
  {
   "cell_type": "code",
   "execution_count": 12,
   "metadata": {},
   "outputs": [
    {
     "name": "stdout",
     "output_type": "stream",
     "text": [
      "Epoch 1/10\n",
      "97/97 - 8s - loss: 0.0113 - accuracy: 0.9966 - val_loss: 0.0650 - val_accuracy: 0.9870 - 8s/epoch - 81ms/step\n",
      "Epoch 2/10\n",
      "97/97 - 8s - loss: 0.0056 - accuracy: 0.9982 - val_loss: 0.0506 - val_accuracy: 0.9899 - 8s/epoch - 80ms/step\n",
      "Epoch 3/10\n",
      "97/97 - 8s - loss: 0.0034 - accuracy: 0.9990 - val_loss: 0.0696 - val_accuracy: 0.9899 - 8s/epoch - 78ms/step\n",
      "Epoch 4/10\n",
      "97/97 - 8s - loss: 0.0024 - accuracy: 0.9992 - val_loss: 0.0793 - val_accuracy: 0.9899 - 8s/epoch - 78ms/step\n",
      "Epoch 5/10\n",
      "97/97 - 8s - loss: 0.0022 - accuracy: 0.9992 - val_loss: 0.0783 - val_accuracy: 0.9899 - 8s/epoch - 78ms/step\n",
      "Epoch 5: early stopping\n",
      "LSTM Model Accuracy: 0.9943\n"
     ]
    }
   ],
   "source": [
    "# Split dataset 60:40\n",
    "X_train3, X_test3, y_train3, y_test3 = train_test_split(X, df['Label'], test_size=0.4, random_state=42)\n",
    "\n",
    "history = model.fit(X_train3, y_train3, epochs=10, batch_size=64, validation_split=0.1, callbacks=[early_stop], verbose=2)\n",
    "\n",
    "# Evaluate\n",
    "loss, accuracy = model.evaluate(X_test3, y_test3, verbose=0)\n",
    "print(f\"LSTM Model Accuracy: {accuracy:.4f}\")\n",
    "\n"
   ]
  },
  {
   "cell_type": "code",
   "execution_count": 13,
   "metadata": {},
   "outputs": [
    {
     "data": {
      "image/png": "[encoded data removed]",
      "text/plain": [
       "<Figure size 1000x600 with 1 Axes>"
      ]
     },
     "metadata": {},
     "output_type": "display_data"
    }
   ],
   "source": [
    "import matplotlib.pyplot as plt\n",
    "# Plotting the accuracies using a more distinct graph style\n",
    "plt.figure(figsize=(10, 6))\n",
    "\n",
    "# Create a bar graph with distinct colors and edge color\n",
    "bars = plt.bar(accuracies.keys(), accuracies.values(), color=['blue', 'green', 'red', 'purple'], edgecolor='black')\n",
    "\n",
    "# Add data labels above each bar for clarity\n",
    "for bar in bars:\n",
    "    yval = bar.get_height()\n",
    "    plt.text(bar.get_x() + bar.get_width()/2, yval + 0.001, round(yval, 3), ha='center', va='bottom')\n",
    "\n",
    "plt.xlabel('Model', fontsize=14)\n",
    "plt.ylabel('Accuracy', fontsize=14)\n",
    "plt.title('Comparison of Model Accuracies on scam Detection', fontsize=16)\n",
    "plt.ylim(0.975, 1)  # Set y-axis limit to make differences more distinct\n",
    "plt.xticks(fontsize=12)\n",
    "plt.yticks(fontsize=12)\n",
    "\n",
    "# Show the plot\n",
    "plt.tight_layout()\n",
    "plt.show()"
   ]
  }
 ],
 "metadata": {
  "kernelspec": {
   "display_name": "Python 3",
   "language": "python",
   "name": "python3"
  },
  "language_info": {
   "codemirror_mode": {
    "name": "ipython",
    "version": 3
   },
   "file_extension": ".py",
   "mimetype": "text/x-python",
   "name": "python",
   "nbconvert_exporter": "python",
   "pygments_lexer": "ipython3",
   "version": "3.11.5"
  }
 },
 "nbformat": 4,
 "nbformat_minor": 2
}
