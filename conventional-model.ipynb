{
 "cells": [
  {
   "cell_type": "code",
   "execution_count": 2,
   "metadata": {},
   "outputs": [
    {
     "name": "stdout",
     "output_type": "stream",
     "text": [
      "Number of fraud data: 1385\n",
      "Number of non fraud data: 10109\n"
     ]
    }
   ],
   "source": [
    "import pandas as pd\n",
    "\n",
    "# Load dataset\n",
    "df = pd.read_csv('ScamDataset', sep='\\t', names=['Label', 'message'])\n",
    "\n",
    "\n",
    "# # Check the shape of the DataFrame before removing duplicates\n",
    "# print(\"Before removing duplicates:\", df.shape)\n",
    "\n",
    "# # Identifying duplicates\n",
    "# duplicates = df.duplicated(subset='message', keep=False)\n",
    "\n",
    "# # Extract the rows that are duplicates\n",
    "# duplicate_rows = df[duplicates]\n",
    "\n",
    "# # Display or process duplicate rows\n",
    "# print(f'Rows that are duplicated: {duplicate_rows}')\n",
    "\n",
    "# # # Remove duplicates based on the 'message' column\n",
    "# df = df.drop_duplicates(subset='message', keep='first')\n",
    "\n",
    "# # Counting duplicates\n",
    "# duplicate_count = duplicates.sum()\n",
    "\n",
    "# print(f'Number of duplicate messages: {duplicate_count}')\n",
    "\n",
    "# # Check the shape of the DataFrame after removing duplicates\n",
    "# print(\"After removing duplicates:\", df.shape)\n",
    "\n",
    "\n",
    "df['Label'] = df['Label'].map({'normal': 0, 'fraud': 1})\n",
    "\n",
    "df['Label']\n",
    "\n",
    "# Count the number of 'fraud' entries\n",
    "fraud_count = (df['Label'] == 1).sum()\n",
    "non_fraud_count = (df['Label'] == 0).sum()\n",
    "print(f'Number of fraud data: {fraud_count}')\n",
    "print(f'Number of non fraud data: {non_fraud_count}')"
   ]
  },
  {
   "cell_type": "code",
   "execution_count": 40,
   "metadata": {},
   "outputs": [
    {
     "name": "stdout",
     "output_type": "stream",
     "text": [
      "2347     Its posible dnt live in  &lt;#&gt; century cm ...\n",
      "3330       Sac will score big hundred.he is set batsman:-)\n",
      "5948                           It took Mr owl three licks.\n",
      "5333     Neither [in sterm voice] - i'm studying. All f...\n",
      "4434     Can u look 4 me in da lib i got stuff havent f...\n",
      "                               ...                        \n",
      "5598     hello sir,  i am from bsnl customer care in 23...\n",
      "5633     you won a lucky draw for shopping on an amazon...\n",
      "5866                               Oops. for got that bit.\n",
      "879      U have a secret admirer who is looking 2 make ...\n",
      "10923    HEY KATE,  HOPE UR OK... WILL GIVE U A BUZ WED...\n",
      "Name: message, Length: 5913, dtype: object\n"
     ]
    }
   ],
   "source": [
    "from sklearn.model_selection import train_test_split\n",
    "\n",
    "# Split dataset\n",
    "X_train, X_test, y_train, y_test = train_test_split(df['message'], df['Label'], test_size=0.2, random_state=42)\n",
    "\n",
    "print(X_train)"
   ]
  },
  {
   "cell_type": "code",
   "execution_count": 41,
   "metadata": {},
   "outputs": [],
   "source": [
    "from sklearn.feature_extraction.text import TfidfVectorizer\n",
    "from sklearn.metrics import accuracy_score, classification_report\n",
    "\n",
    "# Feature extraction: TF-IDF Vectorizer\n",
    "tfidf = TfidfVectorizer(max_features=1000)\n",
    "X_train_tfidf = tfidf.fit_transform(X_train).toarray()\n",
    "X_test_tfidf = tfidf.transform(X_test).toarray()\n",
    "\n",
    "# Initialize an empty dictionary to store accuracies\n",
    "accuracies = {}\n",
    "\n",
    "# Initialize an empty dictionary to store loss\n",
    "loss = {}"
   ]
  },
  {
   "cell_type": "code",
   "execution_count": 42,
   "metadata": {},
   "outputs": [
    {
     "name": "stdout",
     "output_type": "stream",
     "text": [
      "Naive Bayes Accuracy: 0.9790\n"
     ]
    }
   ],
   "source": [
    "from sklearn.naive_bayes import MultinomialNB\n",
    "\n",
    "# Naive Bayes\n",
    "model = MultinomialNB()\n",
    "model.fit(X_train_tfidf, y_train)\n",
    "y_pred = model.predict(X_test_tfidf)\n",
    "accuracy = accuracy_score(y_test, y_pred)\n",
    "accuracies['NB'] = accuracy\n",
    "print(f\"Naive Bayes Accuracy: {accuracy:.4f}\")\n"
   ]
  },
  {
   "cell_type": "code",
   "execution_count": 43,
   "metadata": {},
   "outputs": [
    {
     "name": "stdout",
     "output_type": "stream",
     "text": [
      "SVC: 0.9899\n"
     ]
    }
   ],
   "source": [
    "from sklearn.svm import SVC\n",
    "\n",
    "#SVC\n",
    "model = SVC()\n",
    "model.fit(X_train_tfidf, y_train)\n",
    "y_pred = model.predict(X_test_tfidf)\n",
    "accuracy = accuracy_score(y_test, y_pred)\n",
    "accuracies['SVC'] = accuracy\n",
    "print(f\"SVC: {accuracy:.4f}\")"
   ]
  },
  {
   "cell_type": "code",
   "execution_count": 44,
   "metadata": {},
   "outputs": [
    {
     "name": "stdout",
     "output_type": "stream",
     "text": [
      "Random Forest Classifier: 0.9892\n"
     ]
    }
   ],
   "source": [
    "from sklearn.ensemble import RandomForestClassifier\n",
    "\n",
    "#Random Forest\n",
    "model = RandomForestClassifier()\n",
    "model.fit(X_train_tfidf, y_train)\n",
    "y_pred = model.predict(X_test_tfidf)\n",
    "accuracy = accuracy_score(y_test, y_pred)\n",
    "accuracies['Random Forest'] = accuracy\n",
    "print(f\"Random Forest Classifier: {accuracy:.4f}\")"
   ]
  },
  {
   "cell_type": "code",
   "execution_count": 45,
   "metadata": {},
   "outputs": [
    {
     "name": "stdout",
     "output_type": "stream",
     "text": [
      "Logistic Regression: 0.9790\n"
     ]
    }
   ],
   "source": [
    "from sklearn.linear_model import LogisticRegression\n",
    "\n",
    "#Logistic Regression\n",
    "model = LogisticRegression()\n",
    "model.fit(X_train_tfidf, y_train)\n",
    "y_pred = model.predict(X_test_tfidf)\n",
    "accuracy = accuracy_score(y_test, y_pred)\n",
    "accuracies['Logistic Regression'] = accuracy\n",
    "print(f\"Logistic Regression: {accuracy:.4f}\")"
   ]
  },
  {
   "cell_type": "code",
   "execution_count": 46,
   "metadata": {},
   "outputs": [
    {
     "name": "stdout",
     "output_type": "stream",
     "text": [
      "Epoch 1/10\n",
      "84/84 - 8s - loss: 0.2347 - accuracy: 0.9192 - val_loss: 0.0691 - val_accuracy: 0.9831 - 8s/epoch - 99ms/step\n",
      "Epoch 2/10\n",
      "84/84 - 8s - loss: 0.0565 - accuracy: 0.9825 - val_loss: 0.0631 - val_accuracy: 0.9797 - 8s/epoch - 91ms/step\n",
      "Epoch 3/10\n",
      "84/84 - 8s - loss: 0.0362 - accuracy: 0.9902 - val_loss: 0.0707 - val_accuracy: 0.9797 - 8s/epoch - 97ms/step\n",
      "Epoch 4/10\n",
      "84/84 - 7s - loss: 0.0273 - accuracy: 0.9938 - val_loss: 0.0876 - val_accuracy: 0.9747 - 7s/epoch - 86ms/step\n",
      "Epoch 5/10\n",
      "84/84 - 8s - loss: 0.0210 - accuracy: 0.9949 - val_loss: 0.0851 - val_accuracy: 0.9831 - 8s/epoch - 94ms/step\n",
      "Epoch 5: early stopping\n",
      "LSTM Model Accuracy: 0.9892\n"
     ]
    }
   ],
   "source": [
    "from tensorflow.keras.models import Sequential\n",
    "from tensorflow.keras.layers import Dense, LSTM, Embedding, SpatialDropout1D\n",
    "from tensorflow.keras.preprocessing.sequence import pad_sequences\n",
    "from tensorflow.keras.preprocessing.text import Tokenizer\n",
    "from tensorflow.keras.callbacks import EarlyStopping\n",
    "\n",
    "# Deep Learning Model: Simple LSTM\n",
    "# Tokenize text\n",
    "tokenizer = Tokenizer(num_words=1000)\n",
    "tokenizer.fit_on_texts(df['message'])\n",
    "X = tokenizer.texts_to_sequences(df['message'])\n",
    "X = pad_sequences(X, maxlen=50)\n",
    "\n",
    "# Split dataset 80:20\n",
    "X_train, X_test, y_train, y_test = train_test_split(X, df['Label'], test_size=0.2, random_state=42)\n",
    "\n",
    "\n",
    "# Build LSTM model\n",
    "model = Sequential()\n",
    "model.add(Embedding(1000, 128, input_length=50))\n",
    "model.add(SpatialDropout1D(0.2))\n",
    "model.add(LSTM(100, dropout=0.2, recurrent_dropout=0.2))\n",
    "model.add(Dense(1, activation='sigmoid'))\n",
    "\n",
    "model.compile(loss='binary_crossentropy', optimizer='adam', metrics=['accuracy'])\n",
    "\n",
    "# Train\n",
    "early_stop = EarlyStopping(monitor='val_loss', patience=3, verbose=1)\n",
    "history = model.fit(X_train, y_train, epochs=10, batch_size=64, validation_split=0.1, callbacks=[early_stop], verbose=2)\n",
    "\n",
    "# Evaluate\n",
    "loss, accuracy = model.evaluate(X_test, y_test, verbose=0)\n",
    "accuracies['LSTM'] = accuracy\n",
    "\n",
    "print(f\"LSTM Model Accuracy: {accuracy:.4f}\")\n"
   ]
  },
  {
   "cell_type": "code",
   "execution_count": 47,
   "metadata": {},
   "outputs": [
    {
     "name": "stdout",
     "output_type": "stream",
     "text": [
      "Epoch 1/10\n",
      "73/73 - 6s - loss: 0.0185 - accuracy: 0.9951 - val_loss: 0.1014 - val_accuracy: 0.9768 - 6s/epoch - 87ms/step\n",
      "Epoch 2/10\n",
      "73/73 - 8s - loss: 0.0132 - accuracy: 0.9963 - val_loss: 0.0947 - val_accuracy: 0.9768 - 8s/epoch - 104ms/step\n",
      "Epoch 3/10\n",
      "73/73 - 7s - loss: 0.0132 - accuracy: 0.9963 - val_loss: 0.0874 - val_accuracy: 0.9788 - 7s/epoch - 97ms/step\n",
      "Epoch 4/10\n",
      "73/73 - 7s - loss: 0.0099 - accuracy: 0.9970 - val_loss: 0.1120 - val_accuracy: 0.9768 - 7s/epoch - 97ms/step\n",
      "Epoch 5/10\n",
      "73/73 - 6s - loss: 0.0095 - accuracy: 0.9981 - val_loss: 0.1082 - val_accuracy: 0.9749 - 6s/epoch - 88ms/step\n",
      "Epoch 6/10\n",
      "73/73 - 7s - loss: 0.0088 - accuracy: 0.9979 - val_loss: 0.1039 - val_accuracy: 0.9788 - 7s/epoch - 90ms/step\n",
      "Epoch 6: early stopping\n",
      "LSTM Model Accuracy: 0.9901\n"
     ]
    }
   ],
   "source": [
    "\n",
    "# Split dataset 70:30\n",
    "X_train2, X_test2, y_train2, y_test2 = train_test_split(X, df['Label'], test_size=0.3, random_state=42)\n",
    "\n",
    "history = model.fit(X_train2, y_train2, epochs=10, batch_size=64, validation_split=0.1, callbacks=[early_stop], verbose=2)\n",
    "\n",
    "# Evaluate\n",
    "loss, accuracy = model.evaluate(X_test2, y_test2, verbose=0)\n",
    "print(f\"LSTM Model Accuracy: {accuracy:.4f}\")\n"
   ]
  },
  {
   "cell_type": "code",
   "execution_count": 48,
   "metadata": {},
   "outputs": [
    {
     "name": "stdout",
     "output_type": "stream",
     "text": [
      "Epoch 1/10\n",
      "63/63 - 7s - loss: 0.0070 - accuracy: 0.9985 - val_loss: 0.1278 - val_accuracy: 0.9730 - 7s/epoch - 107ms/step\n",
      "Epoch 2/10\n",
      "63/63 - 6s - loss: 0.0036 - accuracy: 0.9990 - val_loss: 0.1467 - val_accuracy: 0.9707 - 6s/epoch - 98ms/step\n",
      "Epoch 3/10\n",
      "63/63 - 6s - loss: 0.0040 - accuracy: 0.9987 - val_loss: 0.1616 - val_accuracy: 0.9730 - 6s/epoch - 88ms/step\n",
      "Epoch 4/10\n",
      "63/63 - 5s - loss: 0.0024 - accuracy: 0.9992 - val_loss: 0.1719 - val_accuracy: 0.9707 - 5s/epoch - 85ms/step\n",
      "Epoch 4: early stopping\n",
      "LSTM Model Accuracy: 0.9899\n"
     ]
    }
   ],
   "source": [
    "# Split dataset 60:40\n",
    "X_train3, X_test3, y_train3, y_test3 = train_test_split(X, df['Label'], test_size=0.4, random_state=42)\n",
    "\n",
    "history = model.fit(X_train3, y_train3, epochs=10, batch_size=64, validation_split=0.1, callbacks=[early_stop], verbose=2)\n",
    "\n",
    "# Evaluate\n",
    "loss, accuracy = model.evaluate(X_test3, y_test3, verbose=0)\n",
    "print(f\"LSTM Model Accuracy: {accuracy:.4f}\")\n",
    "\n"
   ]
  },
  {
   "cell_type": "code",
   "execution_count": 49,
   "metadata": {},
   "outputs": [
    {
     "data": {
      "image/png": "[encoded data removed]",
      "text/plain": [
       "<Figure size 1000x600 with 1 Axes>"
      ]
     },
     "metadata": {},
     "output_type": "display_data"
    }
   ],
   "source": [
    "import matplotlib.pyplot as plt\n",
    "# Plotting the accuracies using a more distinct graph style\n",
    "plt.figure(figsize=(10, 6))\n",
    "\n",
    "# Create a bar graph with distinct colors and edge color\n",
    "bars = plt.bar(accuracies.keys(), accuracies.values(), color=['blue', 'green', 'red', 'purple'], edgecolor='black')\n",
    "\n",
    "# Add data labels above each bar for clarity\n",
    "for bar in bars:\n",
    "    yval = bar.get_height()\n",
    "    plt.text(bar.get_x() + bar.get_width()/2, yval + 0.001, round(yval, 3), ha='center', va='bottom')\n",
    "\n",
    "plt.xlabel('Model', fontsize=14)\n",
    "plt.ylabel('Accuracy', fontsize=14)\n",
    "plt.title('Comparison of Model Accuracies on scam Detection', fontsize=16)\n",
    "plt.ylim(0.975, 1)  # Set y-axis limit to make differences more distinct\n",
    "plt.xticks(fontsize=12)\n",
    "plt.yticks(fontsize=12)\n",
    "\n",
    "# Show the plot\n",
    "plt.tight_layout()\n",
    "plt.show()"
   ]
  }
 ],
 "metadata": {
  "kernelspec": {
   "display_name": "Python 3",
   "language": "python",
   "name": "python3"
  },
  "language_info": {
   "codemirror_mode": {
    "name": "ipython",
    "version": 3
   },
   "file_extension": ".py",
   "mimetype": "text/x-python",
   "name": "python",
   "nbconvert_exporter": "python",
   "pygments_lexer": "ipython3",
   "version": "3.11.5"
  }
 },
 "nbformat": 4,
 "nbformat_minor": 2
}
