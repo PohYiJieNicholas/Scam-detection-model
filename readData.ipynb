{
 "cells": [
  {
   "cell_type": "code",
   "execution_count": 1,
   "metadata": {},
   "outputs": [],
   "source": [
    "import pandas as pd\n",
    "import numpy as np"
   ]
  },
  {
   "cell_type": "code",
   "execution_count": 6,
   "metadata": {},
   "outputs": [
    {
     "data": {
      "text/html": [
       "<div>\n",
       "<style scoped>\n",
       "    .dataframe tbody tr th:only-of-type {\n",
       "        vertical-align: middle;\n",
       "    }\n",
       "\n",
       "    .dataframe tbody tr th {\n",
       "        vertical-align: top;\n",
       "    }\n",
       "\n",
       "    .dataframe thead th {\n",
       "        text-align: right;\n",
       "    }\n",
       "</style>\n",
       "<table border=\"1\" class=\"dataframe\">\n",
       "  <thead>\n",
       "    <tr style=\"text-align: right;\">\n",
       "      <th></th>\n",
       "      <th>message</th>\n",
       "      <th>label</th>\n",
       "    </tr>\n",
       "  </thead>\n",
       "  <tbody>\n",
       "    <tr>\n",
       "      <th>0</th>\n",
       "      <td>Go until jurong point, crazy.. Available only ...</td>\n",
       "      <td>normal</td>\n",
       "    </tr>\n",
       "    <tr>\n",
       "      <th>1</th>\n",
       "      <td>Ok lar... Joking wif u oni...</td>\n",
       "      <td>normal</td>\n",
       "    </tr>\n",
       "    <tr>\n",
       "      <th>2</th>\n",
       "      <td>Free entry in 2 a wkly comp to win FA Cup fina...</td>\n",
       "      <td>fraud</td>\n",
       "    </tr>\n",
       "    <tr>\n",
       "      <th>3</th>\n",
       "      <td>U dun say so early hor... U c already then say...</td>\n",
       "      <td>normal</td>\n",
       "    </tr>\n",
       "    <tr>\n",
       "      <th>4</th>\n",
       "      <td>Nah I don't think he goes to usf, he lives aro...</td>\n",
       "      <td>normal</td>\n",
       "    </tr>\n",
       "    <tr>\n",
       "      <th>...</th>\n",
       "      <td>...</td>\n",
       "      <td>...</td>\n",
       "    </tr>\n",
       "    <tr>\n",
       "      <th>28075</th>\n",
       "      <td>Important notice: Your account verification re...</td>\n",
       "      <td>fraud</td>\n",
       "    </tr>\n",
       "    <tr>\n",
       "      <th>28076</th>\n",
       "      <td>Important notice: Your prize claim requires ur...</td>\n",
       "      <td>fraud</td>\n",
       "    </tr>\n",
       "    <tr>\n",
       "      <th>28077</th>\n",
       "      <td>Important notice: Your tax refund requires urg...</td>\n",
       "      <td>fraud</td>\n",
       "    </tr>\n",
       "    <tr>\n",
       "      <th>28078</th>\n",
       "      <td>Important notice: Your prize claim requires ur...</td>\n",
       "      <td>fraud</td>\n",
       "    </tr>\n",
       "    <tr>\n",
       "      <th>28079</th>\n",
       "      <td>Important notice: Your account verification re...</td>\n",
       "      <td>fraud</td>\n",
       "    </tr>\n",
       "  </tbody>\n",
       "</table>\n",
       "<p>22651 rows × 2 columns</p>\n",
       "</div>"
      ],
      "text/plain": [
       "                                                 message   label\n",
       "0      Go until jurong point, crazy.. Available only ...  normal\n",
       "1                          Ok lar... Joking wif u oni...  normal\n",
       "2      Free entry in 2 a wkly comp to win FA Cup fina...   fraud\n",
       "3      U dun say so early hor... U c already then say...  normal\n",
       "4      Nah I don't think he goes to usf, he lives aro...  normal\n",
       "...                                                  ...     ...\n",
       "28075  Important notice: Your account verification re...   fraud\n",
       "28076  Important notice: Your prize claim requires ur...   fraud\n",
       "28077  Important notice: Your tax refund requires urg...   fraud\n",
       "28078  Important notice: Your prize claim requires ur...   fraud\n",
       "28079  Important notice: Your account verification re...   fraud\n",
       "\n",
       "[22651 rows x 2 columns]"
      ]
     },
     "execution_count": 6,
     "metadata": {},
     "output_type": "execute_result"
    }
   ],
   "source": [
    "data = pd.read_csv('ScamDataset.csv', delimiter=',', names=['message', 'label'])\n",
    "\n",
    "original_shape = data.shape\n",
    "\n",
    "# Removing duplicate rows\n",
    "data = data.drop_duplicates()\n",
    "\n",
    "# Shape after removing duplicates\n",
    "new_shape = data.shape\n",
    "\n",
    "original_shape, new_shape\n",
    "\n",
    "data"
   ]
  },
  {
   "cell_type": "code",
   "execution_count": 7,
   "metadata": {},
   "outputs": [
    {
     "name": "stdout",
     "output_type": "stream",
     "text": [
      "Number of fraud data: 15735\n",
      "Number of normal data: 6916\n",
      "original_shape =  (28080, 2)\n",
      "new_shape =  (22651, 2)\n"
     ]
    }
   ],
   "source": [
    "# Count the number of 'fraud' entries\n",
    "# spam_count = (data['label'] == \"spam\").sum()\n",
    "# scam_count = (data['label'] == \"scam\").sum()\n",
    "# ham_count = (data['label'] == \"ham\").sum()\n",
    "# toxic_count = (data['label'] == \"toxic\").sum()\n",
    "\n",
    "fraud_count = (data['label'] == \"fraud\").sum()\n",
    "normal_count = (data['label'] == \"normal\").sum()\n",
    "\n",
    "# print(f'Number of spam data: {spam_count}')\n",
    "# print(f'Number of scam data: {scam_count}')\n",
    "print(f'Number of fraud data: {fraud_count}')\n",
    "print(f'Number of normal data: {normal_count}')\n",
    "\n",
    "print(f\"original_shape = \", original_shape)\n",
    "print(f\"new_shape = \", new_shape)"
   ]
  }
 ],
 "metadata": {
  "kernelspec": {
   "display_name": "Python 3",
   "language": "python",
   "name": "python3"
  },
  "language_info": {
   "codemirror_mode": {
    "name": "ipython",
    "version": 3
   },
   "file_extension": ".py",
   "mimetype": "text/x-python",
   "name": "python",
   "nbconvert_exporter": "python",
   "pygments_lexer": "ipython3",
   "version": "3.11.5"
  }
 },
 "nbformat": 4,
 "nbformat_minor": 2
}
